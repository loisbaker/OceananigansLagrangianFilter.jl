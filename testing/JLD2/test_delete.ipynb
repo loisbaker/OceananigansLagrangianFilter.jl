{
 "cells": [
  {
   "cell_type": "code",
   "execution_count": 1,
   "id": "5da9a966",
   "metadata": {},
   "outputs": [
    {
     "name": "stderr",
     "output_type": "stream",
     "text": [
      "\u001b[32m\u001b[1mPrecompiling\u001b[22m\u001b[39m packages...\n",
      "   3732.4 ms\u001b[32m  ✓ \u001b[39mOceananigansLagrangianFilter\n",
      "  1 dependency successfully precompiled in 5 seconds. 357 already precompiled.\n"
     ]
    }
   ],
   "source": [
    "using JLD2\n",
    "using OceananigansLagrangianFilter"
   ]
  },
  {
   "cell_type": "code",
   "execution_count": 2,
   "id": "4b0fcaa9",
   "metadata": {},
   "outputs": [
    {
     "data": {
      "text/plain": [
       "(\"u\", \"v\")"
      ]
     },
     "execution_count": 2,
     "metadata": {},
     "output_type": "execute_result"
    }
   ],
   "source": [
    "original_data_filename = joinpath(@__DIR__, \"../turbulent_SW/SW_vort_with_tracer.jld2\")\n",
    "var_names_to_filter = (\"ω\", \"T\")\n",
    "velocity_names = (\"u\", \"v\")"
   ]
  },
  {
   "cell_type": "code",
   "execution_count": 28,
   "id": "fcab661a",
   "metadata": {},
   "outputs": [
    {
     "ename": "LoadError",
     "evalue": "UndefVarError: `original_T_start` not defined",
     "output_type": "error",
     "traceback": [
      "UndefVarError: `original_T_start` not defined",
      "",
      "Stacktrace:",
      " [1] \u001b[0m\u001b[1m(::OceananigansLagrangianFilter.var\"#14#17\"{String, Tuple{String, String}, Tuple{String, String}, String})\u001b[22m\u001b[0m\u001b[1m(\u001b[22m\u001b[90moriginal_file\u001b[39m::\u001b[0mJLD2.JLDFile\u001b[90m{JLD2.MmapIO}\u001b[39m\u001b[0m\u001b[1m)\u001b[22m",
      "\u001b[90m   @\u001b[39m \u001b[35mOceananigansLagrangianFilter\u001b[39m \u001b[90m~/Documents/Projects/OceananigansLagrangianFilter/src/LagrangianFilter/\u001b[39m\u001b[90m\u001b[4mlagrangian_filter_utils.jl:149\u001b[24m\u001b[39m",
      " [2] \u001b[0m\u001b[1mjldopen\u001b[22m\u001b[0m\u001b[1m(\u001b[22m::\u001b[0mFunction, ::\u001b[0mString, ::\u001b[0mVararg\u001b[90m{String}\u001b[39m; \u001b[90mkws\u001b[39m::\u001b[0m@Kwargs\u001b[90m{}\u001b[39m\u001b[0m\u001b[1m)\u001b[22m",
      "\u001b[90m   @\u001b[39m \u001b[32mJLD2\u001b[39m \u001b[90m~/.julia/packages/JLD2/SgtOb/src/\u001b[39m\u001b[90m\u001b[4mloadsave.jl:4\u001b[24m\u001b[39m",
      " [3] \u001b[0m\u001b[1mjldopen\u001b[22m",
      "\u001b[90m   @\u001b[39m \u001b[90m~/.julia/packages/JLD2/SgtOb/src/\u001b[39m\u001b[90m\u001b[4mloadsave.jl:1\u001b[24m\u001b[39m\u001b[90m [inlined]\u001b[39m",
      " [4] \u001b[0m\u001b[1mcreate_input_data_on_disk\u001b[22m\u001b[0m\u001b[1m(\u001b[22m\u001b[90moriginal_data_filename\u001b[39m::\u001b[0mString, \u001b[90mvar_names_to_filter\u001b[39m::\u001b[0mTuple\u001b[90m{String, String}\u001b[39m, \u001b[90mvelocity_names\u001b[39m::\u001b[0mTuple\u001b[90m{String, String}\u001b[39m; \u001b[90mdirection\u001b[39m::\u001b[0mString, \u001b[90mT_start\u001b[39m::\u001b[0mInt64, \u001b[90mT_end\u001b[39m::\u001b[0mInt64\u001b[0m\u001b[1m)\u001b[22m",
      "\u001b[90m   @\u001b[39m \u001b[35mOceananigansLagrangianFilter\u001b[39m \u001b[90m~/Documents/Projects/OceananigansLagrangianFilter/src/LagrangianFilter/\u001b[39m\u001b[90m\u001b[4mlagrangian_filter_utils.jl:125\u001b[24m\u001b[39m",
      " [5] top-level scope",
      "\u001b[90m   @\u001b[39m \u001b[90m\u001b[4mIn[28]:1\u001b[24m\u001b[39m"
     ]
    }
   ],
   "source": [
    "create_input_data_on_disk(original_data_filename, var_names_to_filter, velocity_names,direction=\"backward\", T_start = 10, T_end = 50)"
   ]
  },
  {
   "cell_type": "code",
   "execution_count": 26,
   "id": "2c187414",
   "metadata": {},
   "outputs": [
    {
     "data": {
      "text/plain": [
       "101-element Vector{Float64}:\n",
       " 20.0\n",
       " 19.900000000000002\n",
       " 19.8\n",
       " 19.700000000000003\n",
       " 19.6\n",
       " 19.5\n",
       " 19.400000000000002\n",
       " 19.3\n",
       " 19.200000000000003\n",
       " 19.1\n",
       " 19.0\n",
       " 18.900000000000002\n",
       " 18.8\n",
       "  ⋮\n",
       " 11.100000000000001\n",
       " 11.0\n",
       " 10.9\n",
       " 10.8\n",
       " 10.700000000000001\n",
       " 10.600000000000001\n",
       " 10.5\n",
       " 10.4\n",
       " 10.3\n",
       " 10.200000000000001\n",
       " 10.100000000000001\n",
       " 10.0"
      ]
     },
     "execution_count": 26,
     "metadata": {},
     "output_type": "execute_result"
    }
   ],
   "source": [
    "file = jldopen(original_data_filename[1:end-5]*\"_filter_input.jld2\")\n",
    "iterations = parse.(Int, keys(file[\"timeseries/t\"]))\n",
    "times = [file[\"timeseries/t/$iter\"] for iter in iterations]\n",
    "t_sim = [file[\"timeseries/t_simulation/$iter\"] for iter in iterations] "
   ]
  },
  {
   "cell_type": "code",
   "execution_count": 27,
   "id": "5a95550a",
   "metadata": {},
   "outputs": [
    {
     "data": {
      "text/plain": [
       "101-element Vector{Float64}:\n",
       "  0.0\n",
       "  0.09999999999999787\n",
       "  0.1999999999999993\n",
       "  0.29999999999999716\n",
       "  0.3999999999999986\n",
       "  0.5\n",
       "  0.5999999999999979\n",
       "  0.6999999999999993\n",
       "  0.7999999999999972\n",
       "  0.8999999999999986\n",
       "  1.0\n",
       "  1.0999999999999979\n",
       "  1.1999999999999993\n",
       "  ⋮\n",
       "  8.899999999999999\n",
       "  9.0\n",
       "  9.1\n",
       "  9.2\n",
       "  9.299999999999999\n",
       "  9.399999999999999\n",
       "  9.5\n",
       "  9.6\n",
       "  9.7\n",
       "  9.799999999999999\n",
       "  9.899999999999999\n",
       " 10.0"
      ]
     },
     "execution_count": 27,
     "metadata": {},
     "output_type": "execute_result"
    }
   ],
   "source": [
    "times"
   ]
  },
  {
   "cell_type": "code",
   "execution_count": 16,
   "id": "857846f0",
   "metadata": {},
   "outputs": [
    {
     "data": {
      "text/plain": [
       "201-element Vector{String}:\n",
       " \"0\"\n",
       " \"102\"\n",
       " \"202\"\n",
       " \"302\"\n",
       " \"402\"\n",
       " \"502\"\n",
       " \"602\"\n",
       " \"702\"\n",
       " \"802\"\n",
       " \"902\"\n",
       " \"1002\"\n",
       " \"1103\"\n",
       " \"1204\"\n",
       " ⋮\n",
       " \"18948\"\n",
       " \"19048\"\n",
       " \"19148\"\n",
       " \"19248\"\n",
       " \"19348\"\n",
       " \"19448\"\n",
       " \"19548\"\n",
       " \"19648\"\n",
       " \"19748\"\n",
       " \"19848\"\n",
       " \"19948\"\n",
       " \"20048\""
      ]
     },
     "execution_count": 16,
     "metadata": {},
     "output_type": "execute_result"
    }
   ],
   "source": [
    "keys(file[\"timeseries/t_simulation\"])"
   ]
  },
  {
   "cell_type": "code",
   "execution_count": 17,
   "id": "86d657a3",
   "metadata": {},
   "outputs": [
    {
     "data": {
      "text/plain": [
       "401-element Vector{String}:\n",
       " \"0\"\n",
       " \"102\"\n",
       " \"202\"\n",
       " \"302\"\n",
       " \"402\"\n",
       " \"502\"\n",
       " \"602\"\n",
       " \"702\"\n",
       " \"802\"\n",
       " \"902\"\n",
       " \"1002\"\n",
       " \"1103\"\n",
       " \"1204\"\n",
       " ⋮\n",
       " \"39017\"\n",
       " \"39118\"\n",
       " \"39219\"\n",
       " \"39320\"\n",
       " \"39421\"\n",
       " \"39522\"\n",
       " \"39623\"\n",
       " \"39724\"\n",
       " \"39825\"\n",
       " \"39926\"\n",
       " \"40027\"\n",
       " \"40128\""
      ]
     },
     "execution_count": 17,
     "metadata": {},
     "output_type": "execute_result"
    }
   ],
   "source": [
    "keys(file_original[\"timeseries/t\"])"
   ]
  },
  {
   "cell_type": "code",
   "execution_count": null,
   "id": "425cd5b5",
   "metadata": {},
   "outputs": [],
   "source": []
  }
 ],
 "metadata": {
  "kernelspec": {
   "display_name": "OceananigansLagrangianFilter 1.10.9",
   "language": "julia",
   "name": "oceananiganslagrangianfilter-1.10"
  },
  "language_info": {
   "file_extension": ".jl",
   "mimetype": "application/julia",
   "name": "julia",
   "version": "1.10.9"
  }
 },
 "nbformat": 4,
 "nbformat_minor": 5
}
