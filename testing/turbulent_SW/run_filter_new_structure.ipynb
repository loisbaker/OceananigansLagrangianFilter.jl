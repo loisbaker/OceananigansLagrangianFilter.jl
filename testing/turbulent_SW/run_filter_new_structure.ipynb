{
 "cells": [
  {
   "cell_type": "code",
   "execution_count": 1,
   "id": "42a60efe",
   "metadata": {},
   "outputs": [
    {
     "name": "stderr",
     "output_type": "stream",
     "text": [
      "\u001b[32m\u001b[1mPrecompiling\u001b[22m\u001b[39m packages...\n",
      "   4375.9 ms\u001b[32m  ✓ \u001b[39mOceananigansLagrangianFilter\n",
      "  1 dependency successfully precompiled in 6 seconds. 356 already precompiled.\n"
     ]
    }
   ],
   "source": [
    "using OceananigansLagrangianFilter\n",
    "using OceananigansLagrangianFilter: jld2_to_netcdf\n",
    "using CairoMakie\n",
    "using CUDA\n"
   ]
  },
  {
   "cell_type": "code",
   "execution_count": 2,
   "id": "203ecc36",
   "metadata": {},
   "outputs": [
    {
     "name": "stdout",
     "output_type": "stream",
     "text": [
      "Setting filter parameters to use Butterworth squared, order 4, cutoff frequency 1\n"
     ]
    },
    {
     "data": {
      "text/plain": [
       "OfflineFilterConfig(\"SW_vort_with_tracer.jld2\", (\"ω\", \"T\"), (\"u\", \"v\"), 0.0, 40.0, 40.0, GPU{CUDABackend}(CUDABackend(false, true)), 0.1, (a1 = 0.09567085809127245, b1 = 0.23096988312782168, c1 = 0.3826834323650898, d1 = 0.9238795325112867, a2 = 0.23096988312782168, b2 = 0.09567085809127246, c2 = 0.9238795325112867, d2 = 0.38268343236508984, N_coeffs = 2), 0.001, InMemory{Int64}(1, 4), true, \"forward_output.jld2\", \"backward_output.jld2\", \"combined_output.jld2\", false, 5, false, true, WENO{3, Float64, Float32}(order=5)\n",
       "├── buffer_scheme: WENO{2, Float64, Float32}(order=3)\n",
       "└── advection_velocity_scheme: Centered(order=4), 256×256×1 RectilinearGrid{Float64, Periodic, Periodic, Flat} on CUDAGPU with 3×3×0 halo\n",
       "├── Periodic x ∈ [-1.91418e-18, 6.28319) regularly spaced with Δx=0.0245437\n",
       "├── Periodic y ∈ [-1.91418e-18, 6.28319) regularly spaced with Δy=0.0245437\n",
       "└── Flat z                               )"
      ]
     },
     "execution_count": 2,
     "metadata": {},
     "output_type": "execute_result"
    }
   ],
   "source": [
    "filter_config = OfflineFilterConfig(original_data_filename=\"SW_vort_with_tracer.jld2\", \n",
    "                                    var_names_to_filter = (\"ω\", \"T\"), \n",
    "                                    velocity_names = (\"u\",\"v\"),\n",
    "                                    architecture = GPU(),\n",
    "                                    Δt = 1e-3,\n",
    "                                    T_out=0.1,\n",
    "                                    N=2,\n",
    "                                    freq_c = 1,\n",
    "                                    output_netcdf = true,\n",
    "                                    delete_intermediate_files = false)\n"
   ]
  },
  {
   "cell_type": "code",
   "execution_count": null,
   "id": "e7877262",
   "metadata": {},
   "outputs": [
    {
     "name": "stdout",
     "output_type": "stream",
     "text": [
      "Loaded data from SW_vort_with_tracer.jld2\n",
      "Created original variables: NamedTuple with 2 Fields on 256×256×1 RectilinearGrid{Float64, Periodic, Periodic, Flat} on CUDAGPU with 3×3×0 halo:\n",
      "├── T: 256×256×1 Field{Center, Center, Center} on RectilinearGrid on CUDAGPU\n",
      "└── ω: 256×256×1 Field{Center, Center, Center} on RectilinearGrid on CUDAGPU\n",
      "Created filtered variables: (:ω_C1, :ω_C2, :T_C1, :T_C2, :xi_u_C1, :xi_u_C2, :xi_v_C1, :xi_v_C2, :ω_S1, :ω_S2, :T_S1, :T_S2, :xi_u_S1, :xi_u_S2, :xi_v_S1, :xi_v_S2)\n",
      "Created forcing for filtered variables \n",
      "Created model\n",
      "Initialised filtered variables\n",
      "Defined outputs\n",
      "Defined simulation\n"
     ]
    },
    {
     "name": "stderr",
     "output_type": "stream",
     "text": [
      "\u001b[36m\u001b[1m[ \u001b[22m\u001b[39m\u001b[36m\u001b[1mInfo: \u001b[22m\u001b[39mInitializing simulation...\n",
      "\u001b[36m\u001b[1m[ \u001b[22m\u001b[39m\u001b[36m\u001b[1mInfo: \u001b[22m\u001b[39mSimulation time: 0 seconds\n"
     ]
    }
   ],
   "source": [
    "run_offline_Lagrangian_filter(filter_config)"
   ]
  },
  {
   "cell_type": "code",
   "execution_count": null,
   "id": "35fdee6a",
   "metadata": {},
   "outputs": [
    {
     "name": "stderr",
     "output_type": "stream",
     "text": [
      "\u001b[36m\u001b[1m[ \u001b[22m\u001b[39m\u001b[36m\u001b[1mInfo: \u001b[22m\u001b[39mMaking an animation\n"
     ]
    },
    {
     "data": {
      "text/plain": [
       "\"LF_movie.mp4\""
      ]
     },
     "execution_count": 13,
     "metadata": {},
     "output_type": "execute_result"
    }
   ],
   "source": [
    "# Animate\n",
    "timeseries1 = FieldTimeSeries(filter_config.combined_output_filename, \"ω\")\n",
    "timeseries2 = FieldTimeSeries(filter_config.combined_output_filename, \"ω_filtered\")\n",
    "timeseries3 = FieldTimeSeries(filter_config.combined_output_filename, \"ω_filtered_regrid\")\n",
    "times = timeseries1.times\n",
    "\n",
    "set_theme!(Theme(fontsize = 20))\n",
    "fig = Figure(size = (1000, 500))\n",
    "\n",
    "axis_kwargs = (xlabel = \"x\",\n",
    "               ylabel = \"y\",\n",
    "               limits = ((0, 2π), (0, 2π)),\n",
    "               aspect = AxisAspect(1))\n",
    "\n",
    "ax1 = Axis(fig[2, 1]; title = \"Raw vorticity\", axis_kwargs...)\n",
    "ax2 = Axis(fig[2, 2]; title = \"Filtered vorticity\", axis_kwargs...)\n",
    "ax3 = Axis(fig[2, 3]; title = \"Filtered regridded vorticity\", axis_kwargs...)\n",
    "\n",
    "\n",
    "n = Observable(1)\n",
    "Observable(1)\n",
    "\n",
    "var1 = @lift timeseries1[$n]\n",
    "var2 = @lift timeseries2[$n]\n",
    "var3 = @lift timeseries3[$n]\n",
    "\n",
    "heatmap!(ax1, var1; colormap = :balance, colorrange = (-1, 1))\n",
    "heatmap!(ax2, var2; colormap = :balance, colorrange = (-1, 1))\n",
    "heatmap!(ax3, var3; colormap = :balance, colorrange = (-1, 1))\n",
    "\n",
    "\n",
    "title = @lift \"t = \" * string(round(times[$n], digits=2))\n",
    "Label(fig[1, 1:3], title, fontsize=24, tellwidth=false)\n",
    "\n",
    "fig\n",
    "\n",
    "frames = 1:length(times)\n",
    "\n",
    "@info \"Making an animation\"\n",
    "\n",
    "CairoMakie.record(fig, \"LF_movie.mp4\", frames, framerate=24) do i\n",
    "    n[] = i\n",
    "end"
   ]
  },
  {
   "cell_type": "code",
   "execution_count": 14,
   "id": "522179e2",
   "metadata": {},
   "outputs": [
    {
     "data": {
      "text/plain": [
       "closed Dataset"
      ]
     },
     "execution_count": 14,
     "metadata": {},
     "output_type": "execute_result"
    }
   ],
   "source": [
    "jld2_to_netcdf(combined_output_filename, joinpath(@__DIR__, \"combined_output.nc\"))"
   ]
  },
  {
   "cell_type": "code",
   "execution_count": 4,
   "id": "85d7d0d2",
   "metadata": {},
   "outputs": [
    {
     "name": "stdout",
     "output_type": "stream",
     "text": [
      "Wrote NetCDF file to /home/lbaker/Documents/Projects/OceananigansLagrangianFilter/testing/turbulent_SW/forward_output.nc\n",
      "Wrote NetCDF file to /home/lbaker/Documents/Projects/OceananigansLagrangianFilter/testing/turbulent_SW/backward_output.nc\n"
     ]
    }
   ],
   "source": [
    "jld2_to_netcdf(filter_config.forward_output_filename, joinpath(@__DIR__, \"forward_output.nc\"))\n",
    "jld2_to_netcdf(filter_config.backward_output_filename, joinpath(@__DIR__, \"backward_output.nc\"))"
   ]
  },
  {
   "cell_type": "code",
   "execution_count": null,
   "id": "0a775e22",
   "metadata": {},
   "outputs": [],
   "source": []
  }
 ],
 "metadata": {
  "kernelspec": {
   "display_name": "OceananigansLagrangianFilter 1.10.9",
   "language": "julia",
   "name": "oceananiganslagrangianfilter-1.10"
  },
  "language_info": {
   "file_extension": ".jl",
   "mimetype": "application/julia",
   "name": "julia",
   "version": "1.10.9"
  }
 },
 "nbformat": 4,
 "nbformat_minor": 5
}
