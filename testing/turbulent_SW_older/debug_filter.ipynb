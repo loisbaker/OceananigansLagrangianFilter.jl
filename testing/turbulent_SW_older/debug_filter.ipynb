{
 "cells": [
  {
   "cell_type": "code",
   "execution_count": 1,
   "id": "4332ecae",
   "metadata": {},
   "outputs": [],
   "source": [
    "using OceananigansLagrangianFilter\n",
    "using OceananigansLagrangianFilter: jld2_to_netcdf\n",
    "using CairoMakie\n",
    "using CUDA\n",
    "using Oceananigans.TimeSteppers: reset!\n",
    "using Printf\n",
    "using OceananigansLagrangianFilter: LagrangianFilter, create_input_data_on_disk, load_data, create_original_vars, create_filtered_vars, initialise_filtered_vars, create_forcing, create_output_fields, update_input_data!"
   ]
  },
  {
   "cell_type": "code",
   "execution_count": 2,
   "id": "b633bd9c",
   "metadata": {},
   "outputs": [
    {
     "name": "stdout",
     "output_type": "stream",
     "text": [
      "Setting filter parameters to use Butterworth squared, order 2, cutoff frequency 1\n"
     ]
    },
    {
     "data": {
      "text/plain": [
       "OfflineFilterConfig(\"SW_vort_with_tracer.jld2\", (\"ω\", \"T\"), (\"u\", \"v\"), 0.0, 5.0, 5, GPU{CUDABackend}(CUDABackend(false, true)), 0.1, (a1 = 0.35355339059327373, b1 = 0.3535533905932738, c1 = 0.7071067811865475, d1 = 0.7071067811865476, N_coeffs = 1), 0.001, InMemory{Int64}(1, 4), true, \"forward_output.jld2\", \"backward_output.jld2\", \"combined_output.jld2\", false, 5, false, true, WENO{3, Float64, Float32}(order=5)\n",
       "├── buffer_scheme: WENO{2, Float64, Float32}(order=3)\n",
       "└── advection_velocity_scheme: Centered(order=4), 256×256×1 RectilinearGrid{Float64, Periodic, Periodic, Flat} on CUDAGPU with 3×3×0 halo\n",
       "├── Periodic x ∈ [-1.91418e-18, 6.28319) regularly spaced with Δx=0.0245437\n",
       "├── Periodic y ∈ [-1.91418e-18, 6.28319) regularly spaced with Δy=0.0245437\n",
       "└── Flat z                               )"
      ]
     },
     "execution_count": 2,
     "metadata": {},
     "output_type": "execute_result"
    }
   ],
   "source": [
    "config = OfflineFilterConfig(original_data_filename=\"SW_vort_with_tracer.jld2\", \n",
    "                                    var_names_to_filter = (\"ω\", \"T\"), \n",
    "                                    velocity_names = (\"u\",\"v\"),\n",
    "                                    architecture = GPU(),\n",
    "                                    Δt = 1e-3,\n",
    "                                    T_out=0.1,\n",
    "                                    T = 5,\n",
    "                                    N=1,\n",
    "                                    freq_c = 1,\n",
    "                                    output_netcdf = true,\n",
    "                                    delete_intermediate_files = false)\n"
   ]
  },
  {
   "cell_type": "code",
   "execution_count": null,
   "id": "3717d0cf",
   "metadata": {},
   "outputs": [],
   "source": [
    "run_offline_Lagrangian_filter(config)"
   ]
  },
  {
   "cell_type": "code",
   "execution_count": null,
   "id": "6e70cefb",
   "metadata": {},
   "outputs": [
    {
     "name": "stdout",
     "output_type": "stream",
     "text": [
      "Loaded data from SW_vort_with_tracer.jld2\n",
      "Created original variables: NamedTuple with 2 Fields on 256×256×1 RectilinearGrid{Float64, Periodic, Periodic, Flat} on CUDAGPU with 3×3×0 halo:\n",
      "├── T: 256×256×1 Field{Center, Center, Center} on RectilinearGrid on CUDAGPU\n",
      "└── ω: 256×256×1 Field{Center, Center, Center} on RectilinearGrid on CUDAGPU\n",
      "Created filtered variables: (:ω_C1, :T_C1, :xi_u_C1, :xi_v_C1, :ω_S1, :T_S1, :xi_u_S1, :xi_v_S1)\n",
      "Created model\n",
      "Initialised filtered variables\n",
      "Defined outputs\n",
      "Defined simulation\n"
     ]
    },
    {
     "name": "stderr",
     "output_type": "stream",
     "text": [
      "\u001b[36m\u001b[1m[ \u001b[22m\u001b[39m\u001b[36m\u001b[1mInfo: \u001b[22m\u001b[39mInitializing simulation...\n",
      "\u001b[36m\u001b[1m┌ \u001b[22m\u001b[39m\u001b[36m\u001b[1mInfo: \u001b[22m\u001b[39mSimulation time: 0 seconds, max ω_C1: -9.13e-01, max ω: 1.19e+00\n",
      "\u001b[36m\u001b[1m└ \u001b[22m\u001b[39m \n",
      "\u001b[36m\u001b[1m[ \u001b[22m\u001b[39m\u001b[36m\u001b[1mInfo: \u001b[22m\u001b[39m    ... simulation initialization complete (37.236 seconds)\n",
      "\u001b[36m\u001b[1m[ \u001b[22m\u001b[39m\u001b[36m\u001b[1mInfo: \u001b[22m\u001b[39mExecuting initial time step...\n",
      "\u001b[36m\u001b[1m[ \u001b[22m\u001b[39m\u001b[36m\u001b[1mInfo: \u001b[22m\u001b[39m    ... initial time step complete (9.305 seconds).\n",
      "\u001b[36m\u001b[1m┌ \u001b[22m\u001b[39m\u001b[36m\u001b[1mInfo: \u001b[22m\u001b[39mSimulation time: 100 ms, max ω_C1: -9.10e-01, max ω: 1.47e+00\n",
      "\u001b[36m\u001b[1m└ \u001b[22m\u001b[39m \n",
      "\u001b[36m\u001b[1m┌ \u001b[22m\u001b[39m\u001b[36m\u001b[1mInfo: \u001b[22m\u001b[39mSimulation time: 200 ms, max ω_C1: -9.08e-01, max ω: 1.69e+00\n",
      "\u001b[36m\u001b[1m└ \u001b[22m\u001b[39m \n",
      "\u001b[36m\u001b[1m┌ \u001b[22m\u001b[39m\u001b[36m\u001b[1mInfo: \u001b[22m\u001b[39mSimulation time: 300.000 ms, max ω_C1: -9.06e-01, max ω: 1.84e+00\n",
      "\u001b[36m\u001b[1m└ \u001b[22m\u001b[39m \n",
      "\u001b[36m\u001b[1m┌ \u001b[22m\u001b[39m\u001b[36m\u001b[1mInfo: \u001b[22m\u001b[39mSimulation time: 400 ms, max ω_C1: -9.01e-01, max ω: 1.96e+00\n",
      "\u001b[36m\u001b[1m└ \u001b[22m\u001b[39m \n",
      "\u001b[36m\u001b[1m┌ \u001b[22m\u001b[39m\u001b[36m\u001b[1mInfo: \u001b[22m\u001b[39mSimulation time: 500 ms, max ω_C1: -9.02e-01, max ω: 1.98e+00\n",
      "\u001b[36m\u001b[1m└ \u001b[22m\u001b[39m \n",
      "\u001b[36m\u001b[1m┌ \u001b[22m\u001b[39m\u001b[36m\u001b[1mInfo: \u001b[22m\u001b[39mSimulation time: 600.000 ms, max ω_C1: -8.99e-01, max ω: 1.93e+00\n",
      "\u001b[36m\u001b[1m└ \u001b[22m\u001b[39m \n",
      "\u001b[36m\u001b[1m┌ \u001b[22m\u001b[39m\u001b[36m\u001b[1mInfo: \u001b[22m\u001b[39mSimulation time: 700.000 ms, max ω_C1: -9.00e-01, max ω: 1.74e+00\n",
      "\u001b[36m\u001b[1m└ \u001b[22m\u001b[39m \n",
      "\u001b[36m\u001b[1m┌ \u001b[22m\u001b[39m\u001b[36m\u001b[1mInfo: \u001b[22m\u001b[39mSimulation time: 800 ms, max ω_C1: -8.99e-01, max ω: 1.45e+00\n",
      "\u001b[36m\u001b[1m└ \u001b[22m\u001b[39m \n",
      "\u001b[36m\u001b[1m┌ \u001b[22m\u001b[39m\u001b[36m\u001b[1mInfo: \u001b[22m\u001b[39mSimulation time: 900 ms, max ω_C1: -8.98e-01, max ω: 1.28e+00\n",
      "\u001b[36m\u001b[1m└ \u001b[22m\u001b[39m \n",
      "\u001b[36m\u001b[1m┌ \u001b[22m\u001b[39m\u001b[36m\u001b[1mInfo: \u001b[22m\u001b[39mSimulation time: 1 second, max ω_C1: -8.98e-01, max ω: 1.31e+00\n",
      "\u001b[36m\u001b[1m└ \u001b[22m\u001b[39m \n",
      "\u001b[36m\u001b[1m┌ \u001b[22m\u001b[39m\u001b[36m\u001b[1mInfo: \u001b[22m\u001b[39mSimulation time: 1.100 seconds, max ω_C1: -8.99e-01, max ω: 1.24e+00\n",
      "\u001b[36m\u001b[1m└ \u001b[22m\u001b[39m \n",
      "\u001b[36m\u001b[1m┌ \u001b[22m\u001b[39m\u001b[36m\u001b[1mInfo: \u001b[22m\u001b[39mSimulation time: 1.200 seconds, max ω_C1: -8.99e-01, max ω: 1.14e+00\n",
      "\u001b[36m\u001b[1m└ \u001b[22m\u001b[39m \n",
      "\u001b[36m\u001b[1m┌ \u001b[22m\u001b[39m\u001b[36m\u001b[1mInfo: \u001b[22m\u001b[39mSimulation time: 1.300 seconds, max ω_C1: -8.99e-01, max ω: 1.08e+00\n",
      "\u001b[36m\u001b[1m└ \u001b[22m\u001b[39m \n",
      "\u001b[36m\u001b[1m┌ \u001b[22m\u001b[39m\u001b[36m\u001b[1mInfo: \u001b[22m\u001b[39mSimulation time: 1.400 seconds, max ω_C1: -8.96e-01, max ω: 1.10e+00\n",
      "\u001b[36m\u001b[1m└ \u001b[22m\u001b[39m \n",
      "\u001b[36m\u001b[1m┌ \u001b[22m\u001b[39m\u001b[36m\u001b[1mInfo: \u001b[22m\u001b[39mSimulation time: 1.500 seconds, max ω_C1: -8.95e-01, max ω: 1.20e+00\n",
      "\u001b[36m\u001b[1m└ \u001b[22m\u001b[39m \n",
      "\u001b[36m\u001b[1m┌ \u001b[22m\u001b[39m\u001b[36m\u001b[1mInfo: \u001b[22m\u001b[39mSimulation time: 1.600 seconds, max ω_C1: -8.97e-01, max ω: 1.49e+00\n",
      "\u001b[36m\u001b[1m└ \u001b[22m\u001b[39m \n",
      "\u001b[36m\u001b[1m┌ \u001b[22m\u001b[39m\u001b[36m\u001b[1mInfo: \u001b[22m\u001b[39mSimulation time: 1.700 seconds, max ω_C1: -8.97e-01, max ω: 1.75e+00\n",
      "\u001b[36m\u001b[1m└ \u001b[22m\u001b[39m \n",
      "\u001b[36m\u001b[1m┌ \u001b[22m\u001b[39m\u001b[36m\u001b[1mInfo: \u001b[22m\u001b[39mSimulation time: 1.800 seconds, max ω_C1: -8.96e-01, max ω: 1.93e+00\n",
      "\u001b[36m\u001b[1m└ \u001b[22m\u001b[39m \n",
      "\u001b[36m\u001b[1m┌ \u001b[22m\u001b[39m\u001b[36m\u001b[1mInfo: \u001b[22m\u001b[39mSimulation time: 1.900 seconds, max ω_C1: -8.96e-01, max ω: 2.01e+00\n",
      "\u001b[36m\u001b[1m└ \u001b[22m\u001b[39m \n",
      "\u001b[36m\u001b[1m┌ \u001b[22m\u001b[39m\u001b[36m\u001b[1mInfo: \u001b[22m\u001b[39mSimulation time: 2 seconds, max ω_C1: -8.97e-01, max ω: 1.95e+00\n",
      "\u001b[36m\u001b[1m└ \u001b[22m\u001b[39m \n",
      "\u001b[36m\u001b[1m┌ \u001b[22m\u001b[39m\u001b[36m\u001b[1mInfo: \u001b[22m\u001b[39mSimulation time: 2.100 seconds, max ω_C1: -8.94e-01, max ω: 1.77e+00\n",
      "\u001b[36m\u001b[1m└ \u001b[22m\u001b[39m \n",
      "\u001b[36m\u001b[1m┌ \u001b[22m\u001b[39m\u001b[36m\u001b[1mInfo: \u001b[22m\u001b[39mSimulation time: 2.200 seconds, max ω_C1: -8.97e-01, max ω: 1.58e+00\n",
      "\u001b[36m\u001b[1m└ \u001b[22m\u001b[39m \n",
      "\u001b[36m\u001b[1m┌ \u001b[22m\u001b[39m\u001b[36m\u001b[1mInfo: \u001b[22m\u001b[39mSimulation time: 2.300 seconds, max ω_C1: -8.95e-01, max ω: 1.38e+00\n",
      "\u001b[36m\u001b[1m└ \u001b[22m\u001b[39m \n",
      "\u001b[36m\u001b[1m┌ \u001b[22m\u001b[39m\u001b[36m\u001b[1mInfo: \u001b[22m\u001b[39mSimulation time: 2.400 seconds, max ω_C1: -8.95e-01, max ω: 1.22e+00\n",
      "\u001b[36m\u001b[1m└ \u001b[22m\u001b[39m \n",
      "\u001b[36m\u001b[1m┌ \u001b[22m\u001b[39m\u001b[36m\u001b[1mInfo: \u001b[22m\u001b[39mSimulation time: 2.500 seconds, max ω_C1: -8.93e-01, max ω: 1.25e+00\n",
      "\u001b[36m\u001b[1m└ \u001b[22m\u001b[39m \n",
      "\u001b[36m\u001b[1m┌ \u001b[22m\u001b[39m\u001b[36m\u001b[1mInfo: \u001b[22m\u001b[39mSimulation time: 2.600 seconds, max ω_C1: -8.92e-01, max ω: 1.21e+00\n",
      "\u001b[36m\u001b[1m└ \u001b[22m\u001b[39m \n",
      "\u001b[36m\u001b[1m┌ \u001b[22m\u001b[39m\u001b[36m\u001b[1mInfo: \u001b[22m\u001b[39mSimulation time: 2.700 seconds, max ω_C1: -8.92e-01, max ω: 1.24e+00\n",
      "\u001b[36m\u001b[1m└ \u001b[22m\u001b[39m \n",
      "\u001b[36m\u001b[1m┌ \u001b[22m\u001b[39m\u001b[36m\u001b[1mInfo: \u001b[22m\u001b[39mSimulation time: 2.800 seconds, max ω_C1: -8.94e-01, max ω: 1.18e+00\n",
      "\u001b[36m\u001b[1m└ \u001b[22m\u001b[39m \n",
      "\u001b[36m\u001b[1m┌ \u001b[22m\u001b[39m\u001b[36m\u001b[1mInfo: \u001b[22m\u001b[39mSimulation time: 2.900 seconds, max ω_C1: -8.94e-01, max ω: 1.02e+00\n",
      "\u001b[36m\u001b[1m└ \u001b[22m\u001b[39m \n",
      "\u001b[36m\u001b[1m┌ \u001b[22m\u001b[39m\u001b[36m\u001b[1mInfo: \u001b[22m\u001b[39mSimulation time: 3 seconds, max ω_C1: -8.91e-01, max ω: 1.18e+00\n",
      "\u001b[36m\u001b[1m└ \u001b[22m\u001b[39m \n",
      "\u001b[36m\u001b[1m┌ \u001b[22m\u001b[39m\u001b[36m\u001b[1mInfo: \u001b[22m\u001b[39mSimulation time: 3.100 seconds, max ω_C1: -8.94e-01, max ω: 1.49e+00\n",
      "\u001b[36m\u001b[1m└ \u001b[22m\u001b[39m \n",
      "\u001b[36m\u001b[1m┌ \u001b[22m\u001b[39m\u001b[36m\u001b[1mInfo: \u001b[22m\u001b[39mSimulation time: 3.200 seconds, max ω_C1: -8.91e-01, max ω: 1.75e+00\n",
      "\u001b[36m\u001b[1m└ \u001b[22m\u001b[39m \n",
      "\u001b[36m\u001b[1m┌ \u001b[22m\u001b[39m\u001b[36m\u001b[1mInfo: \u001b[22m\u001b[39mSimulation time: 3.300 seconds, max ω_C1: -8.91e-01, max ω: 1.94e+00\n",
      "\u001b[36m\u001b[1m└ \u001b[22m\u001b[39m \n",
      "\u001b[36m\u001b[1m┌ \u001b[22m\u001b[39m\u001b[36m\u001b[1mInfo: \u001b[22m\u001b[39mSimulation time: 3.400 seconds, max ω_C1: -8.93e-01, max ω: 2.03e+00\n",
      "\u001b[36m\u001b[1m└ \u001b[22m\u001b[39m \n",
      "\u001b[36m\u001b[1m┌ \u001b[22m\u001b[39m\u001b[36m\u001b[1mInfo: \u001b[22m\u001b[39mSimulation time: 3.500 seconds, max ω_C1: -8.92e-01, max ω: 1.98e+00\n",
      "\u001b[36m\u001b[1m└ \u001b[22m\u001b[39m \n",
      "\u001b[36m\u001b[1m┌ \u001b[22m\u001b[39m\u001b[36m\u001b[1mInfo: \u001b[22m\u001b[39mSimulation time: 3.600 seconds, max ω_C1: -8.90e-01, max ω: 1.87e+00\n",
      "\u001b[36m\u001b[1m└ \u001b[22m\u001b[39m \n",
      "\u001b[36m\u001b[1m┌ \u001b[22m\u001b[39m\u001b[36m\u001b[1mInfo: \u001b[22m\u001b[39mSimulation time: 3.700 seconds, max ω_C1: -8.92e-01, max ω: 1.65e+00\n",
      "\u001b[36m\u001b[1m└ \u001b[22m\u001b[39m \n",
      "\u001b[36m\u001b[1m┌ \u001b[22m\u001b[39m\u001b[36m\u001b[1mInfo: \u001b[22m\u001b[39mSimulation time: 3.800 seconds, max ω_C1: -8.91e-01, max ω: 1.36e+00\n",
      "\u001b[36m\u001b[1m└ \u001b[22m\u001b[39m \n",
      "\u001b[36m\u001b[1m┌ \u001b[22m\u001b[39m\u001b[36m\u001b[1mInfo: \u001b[22m\u001b[39mSimulation time: 3.900 seconds, max ω_C1: -8.92e-01, max ω: 1.32e+00\n",
      "\u001b[36m\u001b[1m└ \u001b[22m\u001b[39m \n",
      "\u001b[36m\u001b[1m┌ \u001b[22m\u001b[39m\u001b[36m\u001b[1mInfo: \u001b[22m\u001b[39mSimulation time: 4 seconds, max ω_C1: -8.93e-01, max ω: 1.31e+00\n",
      "\u001b[36m\u001b[1m└ \u001b[22m\u001b[39m \n",
      "\u001b[36m\u001b[1m┌ \u001b[22m\u001b[39m\u001b[36m\u001b[1mInfo: \u001b[22m\u001b[39mSimulation time: 4.100 seconds, max ω_C1: -8.93e-01, max ω: 1.23e+00\n",
      "\u001b[36m\u001b[1m└ \u001b[22m\u001b[39m \n",
      "\u001b[36m\u001b[1m┌ \u001b[22m\u001b[39m\u001b[36m\u001b[1mInfo: \u001b[22m\u001b[39mSimulation time: 4.200 seconds, max ω_C1: -8.93e-01, max ω: 1.25e+00\n",
      "\u001b[36m\u001b[1m└ \u001b[22m\u001b[39m \n",
      "\u001b[36m\u001b[1m┌ \u001b[22m\u001b[39m\u001b[36m\u001b[1mInfo: \u001b[22m\u001b[39mSimulation time: 4.300 seconds, max ω_C1: -8.94e-01, max ω: 1.23e+00\n",
      "\u001b[36m\u001b[1m└ \u001b[22m\u001b[39m \n",
      "\u001b[36m\u001b[1m┌ \u001b[22m\u001b[39m\u001b[36m\u001b[1mInfo: \u001b[22m\u001b[39mSimulation time: 4.400 seconds, max ω_C1: -8.93e-01, max ω: 1.10e+00\n",
      "\u001b[36m\u001b[1m└ \u001b[22m\u001b[39m \n",
      "\u001b[36m\u001b[1m┌ \u001b[22m\u001b[39m\u001b[36m\u001b[1mInfo: \u001b[22m\u001b[39mSimulation time: 4.500 seconds, max ω_C1: -8.92e-01, max ω: 1.31e+00\n",
      "\u001b[36m\u001b[1m└ \u001b[22m\u001b[39m \n",
      "\u001b[36m\u001b[1m┌ \u001b[22m\u001b[39m\u001b[36m\u001b[1mInfo: \u001b[22m\u001b[39mSimulation time: 4.600 seconds, max ω_C1: -8.89e-01, max ω: 1.56e+00\n",
      "\u001b[36m\u001b[1m└ \u001b[22m\u001b[39m \n",
      "\u001b[36m\u001b[1m┌ \u001b[22m\u001b[39m\u001b[36m\u001b[1mInfo: \u001b[22m\u001b[39mSimulation time: 4.700 seconds, max ω_C1: -8.87e-01, max ω: 1.77e+00\n",
      "\u001b[36m\u001b[1m└ \u001b[22m\u001b[39m \n",
      "\u001b[36m\u001b[1m┌ \u001b[22m\u001b[39m\u001b[36m\u001b[1mInfo: \u001b[22m\u001b[39mSimulation time: 4.800 seconds, max ω_C1: -8.88e-01, max ω: 1.91e+00\n",
      "\u001b[36m\u001b[1m└ \u001b[22m\u001b[39m \n",
      "\u001b[36m\u001b[1m┌ \u001b[22m\u001b[39m\u001b[36m\u001b[1mInfo: \u001b[22m\u001b[39mSimulation time: 4.900 seconds, max ω_C1: -8.87e-01, max ω: 1.97e+00\n",
      "\u001b[36m\u001b[1m└ \u001b[22m\u001b[39m \n",
      "\u001b[36m\u001b[1m[ \u001b[22m\u001b[39m\u001b[36m\u001b[1mInfo: \u001b[22m\u001b[39mSimulation is stopping after running for 1.417 minutes.\n",
      "\u001b[36m\u001b[1m[ \u001b[22m\u001b[39m\u001b[36m\u001b[1mInfo: \u001b[22m\u001b[39mSimulation time 5 seconds equals or exceeds stop time 5 seconds.\n",
      "\u001b[36m\u001b[1m┌ \u001b[22m\u001b[39m\u001b[36m\u001b[1mInfo: \u001b[22m\u001b[39mSimulation time: 5 seconds, max ω_C1: -8.88e-01, max ω: 1.93e+00\n",
      "\u001b[36m\u001b[1m└ \u001b[22m\u001b[39m \n"
     ]
    }
   ],
   "source": [
    "# Copy and manipulate data on disk to have correct order and time shift\n",
    "create_input_data_on_disk(config; direction = \"forward\") \n",
    "\n",
    "# Load in saved data from simulation\n",
    "# this is a silly way to do it but it works for now\n",
    "saved_velocities, saved_original_vars = load_data(config)\n",
    "println(\"Loaded data from $(config.original_data_filename)\")\n",
    "\n",
    "# Create the original variables - these will be auxiliary fields in the model\n",
    "original_vars = create_original_vars(config)\n",
    "println(\"Created original variables: \", original_vars)\n",
    "\n",
    "# Create the filtered variables - these will be tracers in the model\n",
    "filtered_vars = create_filtered_vars(config)\n",
    "println(\"Created filtered variables: \", filtered_vars)\n",
    "\n",
    "# Create forcing for these filtered variables\n",
    "forcing = create_forcing(filtered_vars, config)\n",
    "println(\"Created forcing for filtered variables \")\n",
    "\n",
    "# Define model \n",
    "model = LagrangianFilter(;config.grid, tracers = filtered_vars, auxiliary_fields = original_vars, forcing = forcing, advection=config.advection)\n",
    "\n",
    "println(\"Created model\")\n",
    "\n",
    "# We can set initial values to improve the spinup, use the limit freq_c -> \\infty\n",
    "#The map variables get automatically initialised to zero\n",
    "initialise_filtered_vars(model, saved_original_vars, config)    \n",
    "println(\"Initialised filtered variables\")\n",
    "\n",
    "# Define our outputs # \n",
    "filtered_outputs = create_output_fields(model, config)\n",
    "println(\"Defined outputs\")\n",
    "\n",
    "# Define the filtering simulation \n",
    "simulation = Simulation(model, Δt = config.Δt, stop_time = config.T) \n",
    "println(\"Defined simulation\")\n",
    "\n",
    "# Tell the simulation to use the saved data\n",
    "simulation.callbacks[:update_input_data] = Callback(update_input_data!, parameters = (velocities = saved_velocities, original_vars = saved_original_vars))\n",
    "\n",
    "# Add a progress monitor\n",
    "function progress(sim)\n",
    "    @info @sprintf(\"Simulation time: %s, max ω_C1: %.2e, max ω: %.2e\\n \", \n",
    "                prettytime(sim.model.clock.time),minimum(model.tracers.ω_C1), maximum(model.auxiliary_fields.ω))             \n",
    "    return nothing\n",
    "end\n",
    "\n",
    "simulation.callbacks[:progress] = Callback(progress,TimeInterval(config.T_out))\n",
    "\n",
    "# filtered_outputs[\"u\"] = model.velocities.u\n",
    "# filtered_outputs[\"v\"] = model.velocities.v\n",
    "# filtered_outputs[\"ω_C1\"] = model.tracers.ω_C1\n",
    "# filtered_outputs[\"ω_S1\"] = model.tracers.ω_S1\n",
    "# filtered_outputs[\"T_C1\"] = model.tracers.T_C1\n",
    "# filtered_outputs[\"T_S1\"] = model.tracers.T_S1\n",
    "# filtered_outputs[\"ω\"] = model.auxiliary_fields.ω\n",
    "# filtered_outputs[\"T\"] = model.auxiliary_fields.T\n",
    "# filtered_outputs[\"xi_u_C1\"] = model.tracers.xi_u_C1\n",
    "# filtered_outputs[\"xi_v_C1\"] = model.tracers.xi_v_C1\n",
    "# filtered_outputs[\"xi_u_S1\"] = model.tracers.xi_u_S1\n",
    "# filtered_outputs[\"xi_v_S1\"] = model.tracers.xi_v_S1\n",
    "# filtered_outputs[\"T\"] = model.auxiliary_fields.T\n",
    "\n",
    "#Write outputs\n",
    "simulation.output_writers[:vars] = JLD2Writer(model, filtered_outputs,\n",
    "                                                        filename = config.forward_output_filename,\n",
    "                                                        schedule = TimeInterval(config.T_out),\n",
    "                                                        overwrite_existing = true)\n",
    "\n",
    "# Run forward simulation                                                        \n",
    "run!(simulation)"
   ]
  },
  {
   "cell_type": "code",
   "execution_count": 11,
   "id": "7e330e73",
   "metadata": {},
   "outputs": [
    {
     "data": {
      "text/plain": [
       "WENO{3, Float64, Float32}(order=5)\n",
       "├── buffer_scheme: WENO{2, Float64, Float32}(order=3)\n",
       "└── advection_velocity_scheme: Centered(order=4)"
      ]
     },
     "execution_count": 11,
     "metadata": {},
     "output_type": "execute_result"
    }
   ],
   "source": [
    "config.advection"
   ]
  },
  {
   "cell_type": "code",
   "execution_count": 4,
   "id": "be0867e9",
   "metadata": {},
   "outputs": [
    {
     "name": "stdout",
     "output_type": "stream",
     "text": [
      "Wrote NetCDF file to /home/lbaker/Documents/Projects/OceananigansLagrangianFilter/testing/turbulent_SW/forward_output_debug.nc\n"
     ]
    }
   ],
   "source": [
    "jld2_to_netcdf(config.forward_output_filename, joinpath(@__DIR__, \"forward_output_debug.nc\"))\n"
   ]
  },
  {
   "cell_type": "code",
   "execution_count": 2,
   "id": "32349614",
   "metadata": {},
   "outputs": [
    {
     "name": "stdout",
     "output_type": "stream",
     "text": [
      "Wrote NetCDF file to /home/lbaker/Documents/Projects/OceananigansLagrangianFilter/testing/turbulent_SW/SW_vort_with_tracer_filter_input.nc\n"
     ]
    }
   ],
   "source": [
    "jld2_to_netcdf(\"SW_vort_with_tracer_filter_input.jld2\", joinpath(@__DIR__, \"SW_vort_with_tracer_filter_input.nc\"))"
   ]
  },
  {
   "cell_type": "code",
   "execution_count": 8,
   "id": "83f7ccf5",
   "metadata": {},
   "outputs": [
    {
     "data": {
      "text/plain": [
       "zeroforcing (generic function with 1 method)"
      ]
     },
     "execution_count": 8,
     "metadata": {},
     "output_type": "execute_result"
    }
   ],
   "source": [
    "model.forcing.ω_S1"
   ]
  },
  {
   "cell_type": "code",
   "execution_count": 47,
   "id": "ba3eb29b",
   "metadata": {},
   "outputs": [
    {
     "data": {
      "text/plain": [
       "(u = Oceananigans.Forcings.zeroforcing, v = Oceananigans.Forcings.zeroforcing, w = Oceananigans.Forcings.zeroforcing, ω_C1 = Oceananigans.Forcings.zeroforcing, T_C1 = Oceananigans.Forcings.zeroforcing, xi_u_C1 = Oceananigans.Forcings.zeroforcing, xi_v_C1 = Oceananigans.Forcings.zeroforcing, ω_S1 = Oceananigans.Forcings.zeroforcing, T_S1 = Oceananigans.Forcings.zeroforcing, xi_u_S1 = Oceananigans.Forcings.zeroforcing, xi_v_S1 = Oceananigans.Forcings.zeroforcing, T = Oceananigans.Forcings.zeroforcing, ω = Oceananigans.Forcings.zeroforcing)"
      ]
     },
     "execution_count": 47,
     "metadata": {},
     "output_type": "execute_result"
    }
   ],
   "source": [
    "model.forcing"
   ]
  },
  {
   "cell_type": "code",
   "execution_count": 31,
   "id": "180f2b4f",
   "metadata": {},
   "outputs": [
    {
     "name": "stderr",
     "output_type": "stream",
     "text": [
      "\u001b[36m\u001b[1m[ \u001b[22m\u001b[39m\u001b[36m\u001b[1mInfo: \u001b[22m\u001b[39mMaking an animation\n"
     ]
    },
    {
     "data": {
      "text/plain": [
       "\"LF_movie_DEBUG.mp4\""
      ]
     },
     "execution_count": 31,
     "metadata": {},
     "output_type": "execute_result"
    }
   ],
   "source": [
    "# Animate\n",
    "timeseries1 = FieldTimeSeries(config.forward_output_filename, \"ω\")\n",
    "timeseries2 = FieldTimeSeries(config.forward_output_filename, \"ω_filtered\")\n",
    "timeseries3 = FieldTimeSeries(config.forward_output_filename, \"ω_filtered\")\n",
    "times = timeseries1.times\n",
    "\n",
    "set_theme!(Theme(fontsize = 20))\n",
    "fig = Figure(size = (1000, 500))\n",
    "\n",
    "axis_kwargs = (xlabel = \"x\",\n",
    "               ylabel = \"y\",\n",
    "               limits = ((0, 2π), (0, 2π)),\n",
    "               aspect = AxisAspect(1))\n",
    "\n",
    "ax1 = Axis(fig[2, 1]; title = \"Raw vorticity\", axis_kwargs...)\n",
    "ax2 = Axis(fig[2, 2]; title = \"Filtered vorticity\", axis_kwargs...)\n",
    "ax3 = Axis(fig[2, 3]; title = \"Filtered regridded vorticity\", axis_kwargs...)\n",
    "\n",
    "\n",
    "n = Observable(1)\n",
    "Observable(1)\n",
    "\n",
    "var1 = @lift timeseries1[$n]\n",
    "var2 = @lift timeseries2[$n]\n",
    "var3 = @lift timeseries3[$n]\n",
    "\n",
    "heatmap!(ax1, var1; colormap = :balance, colorrange = (-1, 1))\n",
    "heatmap!(ax2, var2; colormap = :balance, colorrange = (-1, 1))\n",
    "heatmap!(ax3, var3; colormap = :balance, colorrange = (-1, 1))\n",
    "\n",
    "\n",
    "title = @lift \"t = \" * string(round(times[$n], digits=2))\n",
    "Label(fig[1, 1:3], title, fontsize=24, tellwidth=false)\n",
    "\n",
    "fig\n",
    "\n",
    "frames = 1:length(times)\n",
    "\n",
    "@info \"Making an animation\"\n",
    "\n",
    "CairoMakie.record(fig, \"LF_movie_DEBUG.mp4\", frames, framerate=24) do i\n",
    "    n[] = i\n",
    "end"
   ]
  },
  {
   "cell_type": "code",
   "execution_count": 46,
   "id": "de4ea413",
   "metadata": {},
   "outputs": [
    {
     "data": {
      "text/plain": [
       "(:ω_C1, :T_C1, :xi_u_C1, :xi_v_C1, :ω_S1, :T_S1, :xi_u_S1, :xi_v_S1)"
      ]
     },
     "execution_count": 46,
     "metadata": {},
     "output_type": "execute_result"
    }
   ],
   "source": [
    "filtered_vars"
   ]
  },
  {
   "cell_type": "code",
   "execution_count": 48,
   "id": "ef140d57",
   "metadata": {},
   "outputs": [
    {
     "data": {
      "text/plain": [
       "OfflineFilterConfig(\"SW_vort_with_tracer.jld2\", (\"ω\", \"T\"), (\"u\", \"v\"), 0.0, 5.0, 5, GPU{CUDABackend}(CUDABackend(false, true)), 0.1, (a1 = 0.35355339059327373, b1 = 0.3535533905932738, c1 = 0.7071067811865475, d1 = 0.7071067811865476, N_coeffs = 1), 0.001, InMemory{Int64}(1, 4), true, \"forward_output.jld2\", \"backward_output.jld2\", \"combined_output.jld2\", false, 5, false, true, WENO{3, Float64, Float32}(order=5)\n",
       "├── buffer_scheme: WENO{2, Float64, Float32}(order=3)\n",
       "└── advection_velocity_scheme: Centered(order=4), 256×256×1 RectilinearGrid{Float64, Periodic, Periodic, Flat} on CUDAGPU with 3×3×0 halo\n",
       "├── Periodic x ∈ [-1.91418e-18, 6.28319) regularly spaced with Δx=0.0245437\n",
       "├── Periodic y ∈ [-1.91418e-18, 6.28319) regularly spaced with Δy=0.0245437\n",
       "└── Flat z                               )"
      ]
     },
     "execution_count": 48,
     "metadata": {},
     "output_type": "execute_result"
    }
   ],
   "source": [
    "config"
   ]
  },
  {
   "cell_type": "code",
   "execution_count": null,
   "id": "d486d09c",
   "metadata": {},
   "outputs": [],
   "source": []
  },
  {
   "cell_type": "code",
   "execution_count": null,
   "id": "59a89a23",
   "metadata": {},
   "outputs": [],
   "source": []
  }
 ],
 "metadata": {
  "kernelspec": {
   "display_name": "OceananigansLagrangianFilter 1.10.9",
   "language": "julia",
   "name": "oceananiganslagrangianfilter-1.10"
  },
  "language_info": {
   "file_extension": ".jl",
   "mimetype": "application/julia",
   "name": "julia",
   "version": "1.10.9"
  }
 },
 "nbformat": 4,
 "nbformat_minor": 5
}
