{
 "cells": [
  {
   "cell_type": "code",
   "execution_count": 1,
   "id": "42bec694",
   "metadata": {},
   "outputs": [
    {
     "name": "stderr",
     "output_type": "stream",
     "text": [
      "\u001b[32m\u001b[1mPrecompiling\u001b[22m\u001b[39m packages...\n",
      "   3563.2 ms\u001b[32m  ✓ \u001b[39mOceananigansLagrangianFilter\n",
      "  1 dependency successfully precompiled in 5 seconds. 356 already precompiled.\n"
     ]
    }
   ],
   "source": [
    "using OceananigansLagrangianFilter: create_filtered_vars, create_forcing, create_output_fields, initialise_filtered_vars\n",
    "using OceananigansLagrangianFilter\n",
    "using Oceananigans.Units\n",
    "using Oceananigans.TurbulenceClosures\n",
    "using Oceananigans.Architectures: GPU\n",
    "using CUDA: CuArray\n",
    "using CairoMakie \n",
    "using NCDatasets\n",
    "using Printf"
   ]
  },
  {
   "cell_type": "code",
   "execution_count": 2,
   "id": "1a0a67d7",
   "metadata": {},
   "outputs": [
    {
     "data": {
      "text/plain": [
       "\"periodic_geostrophic_adjustment\""
      ]
     },
     "execution_count": 2,
     "metadata": {},
     "output_type": "execute_result"
    }
   ],
   "source": [
    "# Model parameters\n",
    "Nx = 300\n",
    "Nz = 80\n",
    "f = 1e-4               # Coriolis frequency [s⁻¹]\n",
    "L_front = 10kilometers  # Initial front width [m]\n",
    "aspect_ratio = 100      # L_front/H\n",
    "Ro = 0.1             # Rossby number (defines M^2)\n",
    "\n",
    "# Derived parameters\n",
    "H_front = L_front/aspect_ratio\n",
    "M² = (Ro^2*f^2*L_front)/H_front\n",
    "Δb = M²*L_front\n",
    "κh = 1e-4\n",
    "κv = 1e-7\n",
    "\n",
    "filename = \"periodic_geostrophic_adjustment\""
   ]
  },
  {
   "cell_type": "code",
   "execution_count": 3,
   "id": "6134609b",
   "metadata": {},
   "outputs": [
    {
     "data": {
      "text/plain": [
       "300×1×80 RectilinearGrid{Float64, Periodic, Flat, Bounded} on CUDAGPU with 3×0×3 halo\n",
       "├── Periodic x ∈ [-5000.0, 5000.0) regularly spaced with Δx=33.3333\n",
       "├── Flat y                         \n",
       "└── Bounded  z ∈ [-100.0, 0.0]     regularly spaced with Δz=1.25"
      ]
     },
     "execution_count": 3,
     "metadata": {},
     "output_type": "execute_result"
    }
   ],
   "source": [
    "\n",
    "grid = RectilinearGrid(GPU(),size = (Nx, Nz), \n",
    "                       x = (-L_front/2, L_front/2),\n",
    "                       z = (-H_front, 0),\n",
    "                       topology = (Periodic, Flat, Bounded))"
   ]
  },
  {
   "cell_type": "code",
   "execution_count": 4,
   "id": "0a7ef8a1",
   "metadata": {},
   "outputs": [
    {
     "data": {
      "text/plain": [
       "NamedTuple()"
      ]
     },
     "execution_count": 4,
     "metadata": {},
     "output_type": "execute_result"
    }
   ],
   "source": [
    "# Define closure\n",
    "horizontal_closure = HorizontalScalarDiffusivity(ν=κh, κ=κh )\n",
    "vertical_closure = VerticalScalarDiffusivity(ν=κv , κ=κv )\n",
    "closure = (horizontal_closure, vertical_closure)\n",
    "\n",
    "# Define tracers\n",
    "tracers = (:b,:T)\n",
    "\n",
    "# Define forcing\n",
    "forcing = NamedTuple()\n",
    "\n"
   ]
  },
  {
   "cell_type": "code",
   "execution_count": 5,
   "id": "4d942fa7",
   "metadata": {},
   "outputs": [
    {
     "data": {
      "text/plain": [
       "OnlineFilterConfig(300×1×80 RectilinearGrid{Float64, Periodic, Flat, Bounded} on CUDAGPU with 3×0×3 halo\n",
       "├── Periodic x ∈ [-5000.0, 5000.0) regularly spaced with Δx=33.3333\n",
       "├── Flat y                         \n",
       "└── Bounded  z ∈ [-100.0, 0.0]     regularly spaced with Δz=1.25, (\"b\", \"T\"), (\"u\", \"w\"), (a1 = 1, c1 = 1, N_coeffs = 0.5), true, 5, true)"
      ]
     },
     "execution_count": 5,
     "metadata": {},
     "output_type": "execute_result"
    }
   ],
   "source": [
    "# Define filter configuration\n",
    "filter_params = (;a1 = 1, c1 = 1, N_coeffs = 0.5)\n",
    "filter_config = OnlineFilterConfig( grid = grid,\n",
    "                                    var_names_to_filter = (\"b\",\"T\"), \n",
    "                                    velocity_names = (\"u\",\"w\"),\n",
    "                                    filter_params = filter_params,\n",
    "                                    compute_Eulerian_filter = true)"
   ]
  },
  {
   "cell_type": "code",
   "execution_count": 6,
   "id": "bd6ae540",
   "metadata": {},
   "outputs": [
    {
     "name": "stderr",
     "output_type": "stream",
     "text": [
      "\u001b[36m\u001b[1m[ \u001b[22m\u001b[39m\u001b[36m\u001b[1mInfo: \u001b[22m\u001b[39mCreated filtered variables: (:b_C1, :T_C1, :xi_u_C1, :xi_w_C1)\n",
      "\u001b[36m\u001b[1m[ \u001b[22m\u001b[39m\u001b[36m\u001b[1mInfo: \u001b[22m\u001b[39mCreated forcing for filtered variables\n"
     ]
    },
    {
     "data": {
      "text/plain": [
       "(T_C1 = (ContinuousForcing{Tuple{Int64}}\n",
       "├── func: #13 (generic function with 1 method)\n",
       "├── parameters: (1,)\n",
       "└── field dependencies: (:T_C1,), ContinuousForcing{Nothing}\n",
       "├── func: (::OceananigansLagrangianFilter.Utils.var\"#original_var_forcing_func#23\") (generic function with 1 method)\n",
       "├── parameters: nothing\n",
       "└── field dependencies: (var_key = :T,)), xi_u_C1 = (ContinuousForcing{Tuple{Int64, Int64}}\n",
       "├── func: #19 (generic function with 1 method)\n",
       "├── parameters: (1, 0)\n",
       "└── field dependencies: (:u,), ContinuousForcing{Tuple{Int64}}\n",
       "├── func: #13 (generic function with 1 method)\n",
       "├── parameters: (1,)\n",
       "└── field dependencies: (:xi_u_C1,)), xi_w_C1 = (ContinuousForcing{Tuple{Int64, Int64}}\n",
       "├── func: #19 (generic function with 1 method)\n",
       "├── parameters: (1, 0)\n",
       "└── field dependencies: (:w,), ContinuousForcing{Tuple{Int64}}\n",
       "├── func: #13 (generic function with 1 method)\n",
       "├── parameters: (1,)\n",
       "└── field dependencies: (:xi_w_C1,)), b_C1 = (ContinuousForcing{Tuple{Int64}}\n",
       "├── func: #13 (generic function with 1 method)\n",
       "├── parameters: (1,)\n",
       "└── field dependencies: (:b_C1,), ContinuousForcing{Nothing}\n",
       "├── func: (::OceananigansLagrangianFilter.Utils.var\"#original_var_forcing_func#23\") (generic function with 1 method)\n",
       "├── parameters: nothing\n",
       "└── field dependencies: (var_key = :b,)))"
      ]
     },
     "execution_count": 6,
     "metadata": {},
     "output_type": "execute_result"
    }
   ],
   "source": [
    "# Now we define the filtering tracers and forcings\n",
    "# Create the filtered variables - these will be tracers in the model\n",
    "filtered_vars = create_filtered_vars(filter_config)\n",
    "@info \"Created filtered variables: $filtered_vars\"\n",
    "tracers = (filtered_vars..., tracers...)\n",
    "\n",
    "# Create forcing for these filtered variables\n",
    "filter_forcing = create_forcing(filtered_vars, filter_config)\n",
    "@info \"Created forcing for filtered variables\"\n",
    "\n",
    "forcing = merge(forcing, filter_forcing)\n"
   ]
  },
  {
   "cell_type": "code",
   "execution_count": 7,
   "id": "61d88144",
   "metadata": {},
   "outputs": [
    {
     "data": {
      "text/plain": [
       "NonhydrostaticModel{GPU, RectilinearGrid}(time = 0 seconds, iteration = 0)\n",
       "├── grid: 300×1×80 RectilinearGrid{Float64, Periodic, Flat, Bounded} on CUDAGPU with 3×0×3 halo\n",
       "├── timestepper: RungeKutta3TimeStepper\n",
       "├── advection scheme: WENO{3, Float64, Float32}(order=5)\n",
       "├── tracers: (b_C1, T_C1, xi_u_C1, xi_w_C1, b, T)\n",
       "├── closure: Tuple with 2 closures:\n",
       "│   ├── HorizontalScalarDiffusivity{ExplicitTimeDiscretization}(ν=0.0001, κ=(b_C1=0.0001, T_C1=0.0001, xi_u_C1=0.0001, xi_w_C1=0.0001, b=0.0001, T=0.0001))\n",
       "│   └── VerticalScalarDiffusivity{ExplicitTimeDiscretization}(ν=1.0e-7, κ=(b_C1=1.0e-7, T_C1=1.0e-7, xi_u_C1=1.0e-7, xi_w_C1=1.0e-7, b=1.0e-7, T=1.0e-7))\n",
       "├── buoyancy: BuoyancyTracer with ĝ = NegativeZDirection()\n",
       "└── coriolis: FPlane{Float64}(f=0.0001)"
      ]
     },
     "execution_count": 7,
     "metadata": {},
     "output_type": "execute_result"
    }
   ],
   "source": [
    "model =  NonhydrostaticModel(; grid,\n",
    "                coriolis = FPlane(f = f),\n",
    "                buoyancy = BuoyancyTracer(),\n",
    "                tracers = tracers,\n",
    "                forcing = forcing,\n",
    "                advection = WENO(),\n",
    "                closure = closure)"
   ]
  },
  {
   "cell_type": "code",
   "execution_count": 8,
   "id": "83bb4862",
   "metadata": {},
   "outputs": [],
   "source": [
    "bᵢ(x, z) = Δb*sin(2*pi/L_front * x)\n",
    "Tᵢ(x, z) = exp(-(x/(L_front/20)).^2)\n",
    "\n",
    "set!(model, b= bᵢ, T= Tᵢ, u = 0, v = 0, w = 0)  # Start from rest"
   ]
  },
  {
   "cell_type": "code",
   "execution_count": 9,
   "id": "d2366641",
   "metadata": {},
   "outputs": [
    {
     "data": {
      "text/plain": [
       "Simulation of NonhydrostaticModel{GPU, RectilinearGrid}(time = 0 seconds, iteration = 0)\n",
       "├── Next time step: 20 minutes\n",
       "├── Elapsed wall time: 0 seconds\n",
       "├── Wall time per iteration: NaN days\n",
       "├── Stop time: 5 days\n",
       "├── Stop iteration: Inf\n",
       "├── Wall time limit: Inf\n",
       "├── Minimum relative step: 0.0\n",
       "├── Callbacks: OrderedDict with 4 entries:\n",
       "│   ├── stop_time_exceeded => 4\n",
       "│   ├── stop_iteration_exceeded => -\n",
       "│   ├── wall_time_limit_exceeded => e\n",
       "│   └── nan_checker => }\n",
       "├── Output writers: OrderedDict with no entries\n",
       "└── Diagnostics: OrderedDict with no entries"
      ]
     },
     "execution_count": 9,
     "metadata": {},
     "output_type": "execute_result"
    }
   ],
   "source": [
    "simulation = Simulation(model, Δt=20minutes, stop_time=5days)\n"
   ]
  },
  {
   "cell_type": "code",
   "execution_count": 10,
   "id": "e30c1ea5",
   "metadata": {},
   "outputs": [],
   "source": [
    "conjure_time_step_wizard!(simulation, IterationInterval(20), cfl=0.2, max_Δt=20minutes)"
   ]
  },
  {
   "cell_type": "code",
   "execution_count": 11,
   "id": "fb2ceaa4",
   "metadata": {},
   "outputs": [],
   "source": [
    "\n",
    "wall_clock = Ref(time_ns())\n",
    "\n",
    "function print_progress(sim)\n",
    "    u, v, w = model.velocities\n",
    "    progress = 100 * (time(sim) / sim.stop_time)\n",
    "    elapsed = (time_ns() - wall_clock[]) / 1e9\n",
    "\n",
    "    @printf(\"[%05.2f%%] i: %d, t: %s, wall time: %s, max(u): (%6.3e, %6.3e, %6.3e) m/s, next Δt: %s\\n\",\n",
    "            progress, iteration(sim), prettytime(sim), prettytime(elapsed),\n",
    "            maximum(abs, u), maximum(abs, v), maximum(abs, w), prettytime(sim.Δt))\n",
    "\n",
    "    wall_clock[] = time_ns()\n",
    "\n",
    "    return nothing\n",
    "end\n",
    "\n",
    "add_callback!(simulation, print_progress, IterationInterval(50))"
   ]
  },
  {
   "cell_type": "code",
   "execution_count": 13,
   "id": "225d40eb",
   "metadata": {},
   "outputs": [
    {
     "data": {
      "text/plain": [
       "NetCDFWriter scheduled on TimeInterval(1 hour):\n",
       "├── filepath: periodic_geostrophic_adjustment.nc\n",
       "├── dimensions: time(0), x_faa(300), x_caa(300), z_aaf(81), z_aac(80)\n",
       "├── 9 outputs: (v, xi_u, w, T, b, T_Lagrangian_filtered, xi_w, u, b_Lagrangian_filtered)\n",
       "├── array_type: Array{Float32}\n",
       "├── file_splitting: NoFileSplitting\n",
       "└── file size: 28.9 KiB"
      ]
     },
     "execution_count": 13,
     "metadata": {},
     "output_type": "execute_result"
    }
   ],
   "source": [
    "# Output setup\n",
    "# Create filtered outputs\n",
    "outputs = create_output_fields(model, filter_config)\n",
    "\n",
    "# Add in original variables if desired\n",
    "outputs[\"b\"] = model.tracers.b\n",
    "outputs[\"T\"] = model.tracers.T\n",
    "outputs[\"u\"] = model.velocities.u\n",
    "outputs[\"v\"] = model.velocities.v\n",
    "outputs[\"w\"] = model.velocities.w\n",
    "\n",
    "\n",
    "#For Lagrangian filtering\n",
    "simulation.output_writers[:jld2fields] = JLD2Writer(\n",
    "    model, outputs, filename=filename * \".jld2\", schedule=TimeInterval(1hour), overwrite_existing=true)\n",
    "\n",
    "\n",
    "#for python visualisation\n",
    "rm(filename * \".nc\",force=true)\n",
    "simulation.output_writers[:ncfields] = NetCDFWriter(\n",
    "    model, outputs, filename=filename * \".nc\", schedule=TimeInterval(1hour), overwrite_existing=true)\n",
    "    "
   ]
  },
  {
   "cell_type": "code",
   "execution_count": 14,
   "id": "6c8c960c",
   "metadata": {},
   "outputs": [
    {
     "name": "stderr",
     "output_type": "stream",
     "text": [
      "\u001b[36m\u001b[1m[ \u001b[22m\u001b[39m\u001b[36m\u001b[1mInfo: \u001b[22m\u001b[39mRunning the simulation...\n",
      "\u001b[36m\u001b[1m[ \u001b[22m\u001b[39m\u001b[36m\u001b[1mInfo: \u001b[22m\u001b[39mInitializing simulation...\n"
     ]
    },
    {
     "name": "stdout",
     "output_type": "stream",
     "text": [
      "[00.00%] i: 0, t: 0 seconds, wall time: 5.218 minutes, max(u): (0.000e+00, 0.000e+00, 0.000e+00) m/s, next Δt: 20 minutes\n"
     ]
    },
    {
     "name": "stderr",
     "output_type": "stream",
     "text": [
      "\u001b[36m\u001b[1m[ \u001b[22m\u001b[39m\u001b[36m\u001b[1mInfo: \u001b[22m\u001b[39m    ... simulation initialization complete (23.412 seconds)\n",
      "\u001b[36m\u001b[1m[ \u001b[22m\u001b[39m\u001b[36m\u001b[1mInfo: \u001b[22m\u001b[39mExecuting initial time step...\n",
      "\u001b[36m\u001b[1m[ \u001b[22m\u001b[39m\u001b[36m\u001b[1mInfo: \u001b[22m\u001b[39m    ... initial time step complete (4.023 seconds).\n"
     ]
    },
    {
     "name": "stdout",
     "output_type": "stream",
     "text": [
      "[09.40%] i: 50, t: 11.275 hours, wall time: 7.796 seconds, max(u): (2.399e-02, 5.051e-02, 4.262e-04) m/s, next Δt: 8.263 minutes\n",
      "[12.55%] i: 100, t: 15.062 hours, wall time: 279.416 ms, max(u): (2.436e-02, 1.238e-02, 3.869e-04) m/s, next Δt: 4.097 minutes\n",
      "[15.41%] i: 150, t: 18.496 hours, wall time: 262.273 ms, max(u): (1.113e-02, 2.008e-03, 2.284e-04) m/s, next Δt: 4.958 minutes\n",
      "[18.49%] i: 200, t: 22.190 hours, wall time: 281.508 ms, max(u): (3.053e-02, 3.420e-02, 5.436e-04) m/s, next Δt: 3.638 minutes\n",
      "[21.14%] i: 250, t: 1.057 days, wall time: 262.819 ms, max(u): (1.127e-02, 5.991e-02, 2.388e-04) m/s, next Δt: 4.401 minutes\n",
      "[24.46%] i: 300, t: 1.223 days, wall time: 274.359 ms, max(u): (2.734e-02, 4.596e-02, 5.806e-04) m/s, next Δt: 4.063 minutes\n",
      "[27.05%] i: 350, t: 1.352 days, wall time: 259.346 ms, max(u): (2.540e-02, 1.417e-02, 4.619e-04) m/s, next Δt: 3.917 minutes\n",
      "[29.96%] i: 400, t: 1.498 days, wall time: 270.017 ms, max(u): (1.175e-02, 3.424e-03, 3.193e-04) m/s, next Δt: 5.214 minutes\n",
      "[33.01%] i: 450, t: 1.651 days, wall time: 264.537 ms, max(u): (3.050e-02, 3.296e-02, 6.553e-04) m/s, next Δt: 3.676 minutes\n",
      "[35.63%] i: 500, t: 1.782 days, wall time: 267.793 ms, max(u): (1.290e-02, 5.922e-02, 3.750e-04) m/s, next Δt: 4.562 minutes\n",
      "[38.86%] i: 550, t: 1.943 days, wall time: 276.813 ms, max(u): (2.601e-02, 4.810e-02, 7.325e-04) m/s, next Δt: 5.369 minutes\n",
      "[41.60%] i: 600, t: 2.080 days, wall time: 261.063 ms, max(u): (2.545e-02, 1.442e-02, 5.837e-04) m/s, next Δt: 4.072 minutes\n",
      "[44.58%] i: 650, t: 2.229 days, wall time: 284.434 ms, max(u): (1.252e-02, 6.569e-03, 4.812e-04) m/s, next Δt: 4.927 minutes\n",
      "[47.66%] i: 700, t: 2.383 days, wall time: 278.069 ms, max(u): (3.026e-02, 3.321e-02, 8.404e-04) m/s, next Δt: 3.671 minutes\n",
      "[50.31%] i: 750, t: 2.515 days, wall time: 267.058 ms, max(u): (1.097e-02, 5.936e-02, 5.515e-04) m/s, next Δt: 4.442 minutes\n",
      "[53.63%] i: 800, t: 2.682 days, wall time: 286.273 ms, max(u): (2.663e-02, 4.569e-02, 1.057e-03) m/s, next Δt: 3.938 minutes\n",
      "[56.22%] i: 850, t: 2.811 days, wall time: 260.723 ms, max(u): (2.479e-02, 1.381e-02, 7.455e-04) m/s, next Δt: 3.975 minutes\n",
      "[59.17%] i: 900, t: 2.958 days, wall time: 274.700 ms, max(u): (1.228e-02, 9.456e-03, 6.971e-04) m/s, next Δt: 5.290 minutes\n",
      "[62.19%] i: 950, t: 3.109 days, wall time: 276.356 ms, max(u): (3.015e-02, 3.228e-02, 1.082e-03) m/s, next Δt: 3.743 minutes\n",
      "[64.77%] i: 1000, t: 3.238 days, wall time: 273.367 ms, max(u): (1.232e-02, 5.851e-02, 8.856e-04) m/s, next Δt: 4.342 minutes\n",
      "[67.77%] i: 1050, t: 3.389 days, wall time: 321.782 ms, max(u): (2.288e-02, 5.040e-02, 1.253e-03) m/s, next Δt: 3.898 minutes\n",
      "[69.84%] i: 1100, t: 3.492 days, wall time: 253.412 ms, max(u): (2.960e-02, 2.530e-02, 1.404e-03) m/s, next Δt: 2.966 minutes\n",
      "[72.02%] i: 1150, t: 3.601 days, wall time: 279.168 ms, max(u): (1.321e-02, 1.074e-02, 3.485e-04) m/s, next Δt: 3.588 minutes\n",
      "[74.71%] i: 1200, t: 3.735 days, wall time: 308.849 ms, max(u): (2.059e-02, 9.605e-03, 1.179e-03) m/s, next Δt: 3.492 minutes\n",
      "[76.88%] i: 1250, t: 3.844 days, wall time: 293.855 ms, max(u): (2.999e-02, 3.403e-02, 1.374e-03) m/s, next Δt: 3.006 minutes\n",
      "[78.85%] i: 1300, t: 3.943 days, wall time: 262.352 ms, max(u): (1.868e-02, 5.512e-02, 1.301e-03) m/s, next Δt: 3.165 minutes\n",
      "[81.10%] i: 1350, t: 4.055 days, wall time: 305.734 ms, max(u): (1.238e-02, 5.944e-02, 1.041e-03) m/s, next Δt: 3.830 minutes\n",
      "[83.15%] i: 1400, t: 4.157 days, wall time: 261.911 ms, max(u): (2.782e-02, 4.198e-02, 1.871e-03) m/s, next Δt: 2.224 minutes\n",
      "[84.64%] i: 1450, t: 4.232 days, wall time: 272.094 ms, max(u): (2.912e-02, 2.307e-02, 1.663e-03) m/s, next Δt: 2.313 minutes\n",
      "[86.38%] i: 1500, t: 4.319 days, wall time: 277.646 ms, max(u): (1.646e-02, 1.295e-02, 4.606e-04) m/s, next Δt: 3.079 minutes\n",
      "[88.60%] i: 1550, t: 4.430 days, wall time: 312.562 ms, max(u): (1.561e-02, 1.293e-02, 1.450e-03) m/s, next Δt: 3.235 minutes\n",
      "[90.46%] i: 1600, t: 4.523 days, wall time: 301.087 ms, max(u): (2.813e-02, 2.217e-02, 1.673e-03) m/s, next Δt: 2.439 minutes\n",
      "[92.04%] i: 1650, t: 4.602 days, wall time: 279.426 ms, max(u): (2.887e-02, 4.139e-02, 1.863e-03) m/s, next Δt: 2.236 minutes\n",
      "[93.51%] i: 1700, t: 4.675 days, wall time: 290.273 ms, max(u): (1.876e-02, 5.577e-02, 1.681e-03) m/s, next Δt: 2.329 minutes\n",
      "[95.20%] i: 1750, t: 4.760 days, wall time: 290.407 ms, max(u): (1.152e-02, 6.095e-02, 1.014e-03) m/s, next Δt: 2.819 minutes\n",
      "[97.11%] i: 1800, t: 4.856 days, wall time: 303.864 ms, max(u): (2.387e-02, 4.934e-02, 2.104e-03) m/s, next Δt: 1.978 minutes\n",
      "[98.33%] i: 1850, t: 4.917 days, wall time: 252.946 ms, max(u): (3.002e-02, 3.498e-02, 2.572e-03) m/s, next Δt: 1.637 minutes\n",
      "[99.47%] i: 1900, t: 4.973 days, wall time: 290.993 ms, max(u): (2.853e-02, 2.064e-02, 2.309e-03) m/s, next Δt: 1.802 minutes\n"
     ]
    },
    {
     "name": "stderr",
     "output_type": "stream",
     "text": [
      "\u001b[36m\u001b[1m[ \u001b[22m\u001b[39m\u001b[36m\u001b[1mInfo: \u001b[22m\u001b[39mSimulation is stopping after running for 38.838 seconds.\n",
      "\u001b[36m\u001b[1m[ \u001b[22m\u001b[39m\u001b[36m\u001b[1mInfo: \u001b[22m\u001b[39mSimulation time 5 days equals or exceeds stop time 5 days.\n",
      "\u001b[36m\u001b[1m[ \u001b[22m\u001b[39m\u001b[36m\u001b[1mInfo: \u001b[22m\u001b[39mSimulation completed in 38.876 seconds\n"
     ]
    }
   ],
   "source": [
    "@info \"Running the simulation...\"\n",
    "\n",
    "run!(simulation)\n",
    "\n",
    "@info \"Simulation completed in \" * prettytime(simulation.run_wall_time)"
   ]
  },
  {
   "cell_type": "code",
   "execution_count": null,
   "id": "e1e94f30",
   "metadata": {},
   "outputs": [],
   "source": []
  }
 ],
 "metadata": {
  "kernelspec": {
   "display_name": "OceananigansLagrangianFilter 1.10.9",
   "language": "julia",
   "name": "oceananiganslagrangianfilter-1.10"
  },
  "language_info": {
   "file_extension": ".jl",
   "mimetype": "application/julia",
   "name": "julia",
   "version": "1.10.9"
  }
 },
 "nbformat": 4,
 "nbformat_minor": 5
}
