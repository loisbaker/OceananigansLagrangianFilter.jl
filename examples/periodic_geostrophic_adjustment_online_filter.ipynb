{
 "cells": [
  {
   "cell_type": "code",
   "execution_count": null,
   "id": "42bec694",
   "metadata": {},
   "outputs": [
    {
     "name": "stderr",
     "output_type": "stream",
     "text": [
      "\u001b[32m\u001b[1mPrecompiling\u001b[22m\u001b[39m packages...\n",
      "   3565.2 ms\u001b[32m  ✓ \u001b[39mOceananigansLagrangianFilter\n",
      "  1 dependency successfully precompiled in 5 seconds. 356 already precompiled.\n"
     ]
    }
   ],
   "source": [
    "using OceananigansLagrangianFilter: create_filtered_vars, create_forcing, create_output_fields, initialise_filtered_vars_from_model, zero_closure_for_filtered_vars\n",
    "using OceananigansLagrangianFilter: regrid_to_mean_position!, compute_Eulerian_filter!, compute_time_shift!, jld2_to_netcdf\n",
    "using OceananigansLagrangianFilter\n",
    "using Oceananigans.Units\n",
    "using Oceananigans.TurbulenceClosures\n",
    "using Oceananigans.Architectures: GPU\n",
    "using CairoMakie \n",
    "using NCDatasets\n",
    "using Printf"
   ]
  },
  {
   "cell_type": "code",
   "execution_count": 2,
   "id": "1a0a67d7",
   "metadata": {},
   "outputs": [
    {
     "data": {
      "text/plain": [
       "\"periodic_geostrophic_adjustment_online\""
      ]
     },
     "execution_count": 2,
     "metadata": {},
     "output_type": "execute_result"
    }
   ],
   "source": [
    "# Model parameters\n",
    "Nx = 300\n",
    "Nz = 80\n",
    "f = 1e-4               # Coriolis frequency [s⁻¹]\n",
    "L_front = 10kilometers  # Initial front width [m]\n",
    "aspect_ratio = 100      # L_front/H\n",
    "Ro = 0.1             # Rossby number (defines M^2)\n",
    "\n",
    "# Derived parameters\n",
    "H_front = L_front/aspect_ratio\n",
    "M² = (Ro^2*f^2*L_front)/H_front\n",
    "Δb = M²*L_front\n",
    "\n",
    "filename_stem = \"periodic_geostrophic_adjustment_online\""
   ]
  },
  {
   "cell_type": "code",
   "execution_count": 3,
   "id": "6134609b",
   "metadata": {},
   "outputs": [
    {
     "data": {
      "text/plain": [
       "300×1×80 RectilinearGrid{Float64, Periodic, Flat, Bounded} on CUDAGPU with 3×0×3 halo\n",
       "├── Periodic x ∈ [-5000.0, 5000.0) regularly spaced with Δx=33.3333\n",
       "├── Flat y                         \n",
       "└── Bounded  z ∈ [-100.0, 0.0]     regularly spaced with Δz=1.25"
      ]
     },
     "execution_count": 3,
     "metadata": {},
     "output_type": "execute_result"
    }
   ],
   "source": [
    "\n",
    "grid = RectilinearGrid(GPU(),size = (Nx, Nz), \n",
    "                       x = (-L_front/2, L_front/2),\n",
    "                       z = (-H_front, 0),\n",
    "                       topology = (Periodic, Flat, Bounded))"
   ]
  },
  {
   "cell_type": "code",
   "execution_count": 4,
   "id": "0a7ef8a1",
   "metadata": {},
   "outputs": [
    {
     "data": {
      "text/plain": [
       "NamedTuple()"
      ]
     },
     "execution_count": 4,
     "metadata": {},
     "output_type": "execute_result"
    }
   ],
   "source": [
    "\n",
    "# Define tracers\n",
    "tracers = (:b,:T)\n",
    "\n",
    "# Define forcing\n",
    "forcing = NamedTuple()\n"
   ]
  },
  {
   "cell_type": "code",
   "execution_count": 5,
   "id": "4d942fa7",
   "metadata": {},
   "outputs": [
    {
     "data": {
      "text/plain": [
       "OnlineFilterConfig(300×1×80 RectilinearGrid{Float64, Periodic, Flat, Bounded} on CUDAGPU with 3×0×3 halo\n",
       "├── Periodic x ∈ [-5000.0, 5000.0) regularly spaced with Δx=33.3333\n",
       "├── Flat y                         \n",
       "└── Bounded  z ∈ [-100.0, 0.0]     regularly spaced with Δz=1.25, \"periodic_geostrophic_adjustment_online.jld2\", (\"b\", \"T\"), (\"u\", \"w\"), (a1 = 2.5e-5, c1 = 2.5e-5, N_coeffs = 0.5), true, 5, \"online\")"
      ]
     },
     "execution_count": 5,
     "metadata": {},
     "output_type": "execute_result"
    }
   ],
   "source": [
    "# Define filter configuration\n",
    "\n",
    "filter_params = (;a1 = f/4, c1 = f/4, N_coeffs = 0.5)\n",
    "filter_config = OnlineFilterConfig( grid = grid,\n",
    "                                    output_filename = filename_stem * \".jld2\",\n",
    "                                    var_names_to_filter = (\"b\",\"T\"), \n",
    "                                    velocity_names = (\"u\",\"w\"),\n",
    "                                    filter_params = filter_params)"
   ]
  },
  {
   "cell_type": "code",
   "execution_count": 6,
   "id": "bd6ae540",
   "metadata": {},
   "outputs": [],
   "source": [
    "# Now we define the filtering tracers and forcings\n",
    "# Create the filtered variables - these will be tracers in the model\n",
    "filtered_vars = create_filtered_vars(filter_config)\n",
    "tracers = (filtered_vars..., tracers...)\n",
    "\n",
    "# Create forcing for these filtered variables\n",
    "filter_forcing = create_forcing(filtered_vars, filter_config)\n",
    "\n",
    "forcing = merge(forcing, filter_forcing);"
   ]
  },
  {
   "cell_type": "code",
   "execution_count": 7,
   "id": "aaea75f6",
   "metadata": {},
   "outputs": [
    {
     "data": {
      "text/plain": [
       "(HorizontalScalarDiffusivity{ExplicitTimeDiscretization}(ν=1.0e-6, κ=(T=1.0e-6, b=1.0e-6, T_C1=0.0, xi_u_C1=0.0, xi_w_C1=0.0, b_C1=0.0)), VerticalScalarDiffusivity{ExplicitTimeDiscretization}(ν=1.0e-6, κ=(T=1.0e-6, b=1.0e-6, T_C1=0.0, xi_u_C1=0.0, xi_w_C1=0.0, b_C1=0.0)))"
      ]
     },
     "execution_count": 7,
     "metadata": {},
     "output_type": "execute_result"
    }
   ],
   "source": [
    "# Define closure for model and filtered variables\n",
    "# Helper to set filtered variable closures to zero, otherwise they get set to the same as other tracers\n",
    "zero_filtered_closure = zero_closure_for_filtered_vars(filter_config)\n",
    "\n",
    "horizontal_closure = HorizontalScalarDiffusivity(ν=1e-6, κ=merge((T=1e-6, b= 1e-6),zero_filtered_closure) )\n",
    "vertical_closure = VerticalScalarDiffusivity(ν=1e-6 , κ=merge((T=1e-6, b= 1e-6),zero_filtered_closure) )\n",
    "closure = (horizontal_closure, vertical_closure)"
   ]
  },
  {
   "cell_type": "code",
   "execution_count": 8,
   "id": "61d88144",
   "metadata": {},
   "outputs": [
    {
     "data": {
      "text/plain": [
       "NonhydrostaticModel{GPU, RectilinearGrid}(time = 0 seconds, iteration = 0)\n",
       "├── grid: 300×1×80 RectilinearGrid{Float64, Periodic, Flat, Bounded} on CUDAGPU with 3×0×3 halo\n",
       "├── timestepper: RungeKutta3TimeStepper\n",
       "├── advection scheme: WENO{3, Float64, Float32}(order=5)\n",
       "├── tracers: (b_C1, T_C1, xi_u_C1, xi_w_C1, b, T)\n",
       "├── closure: Tuple with 2 closures:\n",
       "│   ├── HorizontalScalarDiffusivity{ExplicitTimeDiscretization}(ν=1.0e-6, κ=(b_C1=0.0, T_C1=0.0, xi_u_C1=0.0, xi_w_C1=0.0, b=1.0e-6, T=1.0e-6))\n",
       "│   └── VerticalScalarDiffusivity{ExplicitTimeDiscretization}(ν=1.0e-6, κ=(b_C1=0.0, T_C1=0.0, xi_u_C1=0.0, xi_w_C1=0.0, b=1.0e-6, T=1.0e-6))\n",
       "├── buoyancy: BuoyancyTracer with ĝ = NegativeZDirection()\n",
       "└── coriolis: FPlane{Float64}(f=0.0001)"
      ]
     },
     "execution_count": 8,
     "metadata": {},
     "output_type": "execute_result"
    }
   ],
   "source": [
    "model =  NonhydrostaticModel(; grid,\n",
    "                coriolis = FPlane(f = f),\n",
    "                buoyancy = BuoyancyTracer(),\n",
    "                tracers = tracers,\n",
    "                forcing = forcing,\n",
    "                advection = WENO(),\n",
    "                closure = closure)"
   ]
  },
  {
   "cell_type": "code",
   "execution_count": 9,
   "id": "83bb4862",
   "metadata": {},
   "outputs": [],
   "source": [
    "# Set initial conditions of actual variables\n",
    "bᵢ(x, z) = Δb*sin(2*pi/L_front * x)\n",
    "Tᵢ(x, z) = exp(-(x/(L_front/20)).^2)\n",
    "\n",
    "set!(model, b= bᵢ, T= Tᵢ, u = 0, v = 0, w = 0)  # Start from rest"
   ]
  },
  {
   "cell_type": "code",
   "execution_count": 10,
   "id": "983876a4",
   "metadata": {},
   "outputs": [],
   "source": [
    "# Set appropriate initial conditions for the filtered variables based on the actual variables\n",
    "initialise_filtered_vars_from_model(model, filter_config)\n"
   ]
  },
  {
   "cell_type": "code",
   "execution_count": 11,
   "id": "d2366641",
   "metadata": {},
   "outputs": [
    {
     "data": {
      "text/plain": [
       "Simulation of NonhydrostaticModel{GPU, RectilinearGrid}(time = 0 seconds, iteration = 0)\n",
       "├── Next time step: 1 hour\n",
       "├── Elapsed wall time: 0 seconds\n",
       "├── Wall time per iteration: NaN days\n",
       "├── Stop time: 3 days\n",
       "├── Stop iteration: Inf\n",
       "├── Wall time limit: Inf\n",
       "├── Minimum relative step: 0.0\n",
       "├── Callbacks: OrderedDict with 4 entries:\n",
       "│   ├── stop_time_exceeded => 4\n",
       "│   ├── stop_iteration_exceeded => -\n",
       "│   ├── wall_time_limit_exceeded => e\n",
       "│   └── nan_checker => }\n",
       "├── Output writers: OrderedDict with no entries\n",
       "└── Diagnostics: OrderedDict with no entries"
      ]
     },
     "execution_count": 11,
     "metadata": {},
     "output_type": "execute_result"
    }
   ],
   "source": [
    "simulation = Simulation(model, Δt=1hour, stop_time=3days)\n"
   ]
  },
  {
   "cell_type": "code",
   "execution_count": 12,
   "id": "e30c1ea5",
   "metadata": {},
   "outputs": [],
   "source": [
    "conjure_time_step_wizard!(simulation, IterationInterval(20), cfl=0.2, max_Δt=20minutes)"
   ]
  },
  {
   "cell_type": "code",
   "execution_count": 13,
   "id": "fb2ceaa4",
   "metadata": {},
   "outputs": [],
   "source": [
    "\n",
    "wall_clock = Ref(time_ns())\n",
    "\n",
    "function print_progress(sim)\n",
    "    u, v, w = model.velocities\n",
    "    progress = 100 * (time(sim) / sim.stop_time)\n",
    "    elapsed = (time_ns() - wall_clock[]) / 1e9\n",
    "\n",
    "    @printf(\"[%05.2f%%] i: %d, t: %s, wall time: %s, (max(u), max(b_C1), max(T_C1)) : (%6.3e, %6.3e, %6.3e), next Δt: %s\\n\",\n",
    "            progress, iteration(sim), prettytime(sim), prettytime(elapsed),\n",
    "            maximum(abs, u), maximum(abs, model.tracers.b_C1), maximum(abs, model.tracers.T_C1), prettytime(sim.Δt))\n",
    "\n",
    "    wall_clock[] = time_ns()\n",
    "\n",
    "    return nothing\n",
    "end\n",
    "\n",
    "add_callback!(simulation, print_progress, IterationInterval(100))"
   ]
  },
  {
   "cell_type": "code",
   "execution_count": 14,
   "id": "225d40eb",
   "metadata": {},
   "outputs": [
    {
     "data": {
      "text/plain": [
       "NetCDFWriter scheduled on TimeInterval(1 hour):\n",
       "├── filepath: periodic_geostrophic_adjustment_online.nc\n",
       "├── dimensions: time(0), x_faa(300), x_caa(300), z_aaf(81), z_aac(80)\n",
       "├── 9 outputs: (v, xi_u, w, T, b, T_Lagrangian_filtered, xi_w, u, b_Lagrangian_filtered)\n",
       "├── array_type: Array{Float32}\n",
       "├── file_splitting: NoFileSplitting\n",
       "└── file size: 28.9 KiB"
      ]
     },
     "execution_count": 14,
     "metadata": {},
     "output_type": "execute_result"
    }
   ],
   "source": [
    "# Output setup\n",
    "# Create filtered outputs\n",
    "outputs = create_output_fields(model, filter_config)\n",
    "\n",
    "# Add in original variables if desired\n",
    "outputs[\"b\"] = model.tracers.b\n",
    "outputs[\"T\"] = model.tracers.T\n",
    "outputs[\"u\"] = model.velocities.u\n",
    "outputs[\"v\"] = model.velocities.v\n",
    "outputs[\"w\"] = model.velocities.w\n",
    "\n",
    "\n",
    "\n",
    "simulation.output_writers[:jld2fields] = JLD2Writer(\n",
    "    model, outputs, filename=filename_stem * \".jld2\", schedule=TimeInterval(1hour), overwrite_existing=true)\n",
    "\n",
    "\n",
    "rm(filename_stem * \".nc\",force=true)\n",
    "simulation.output_writers[:ncfields] = NetCDFWriter(\n",
    "    model, outputs, filename=filename_stem * \".nc\", schedule=TimeInterval(1hour), overwrite_existing=true)\n",
    "\n",
    "    "
   ]
  },
  {
   "cell_type": "code",
   "execution_count": 15,
   "id": "6c8c960c",
   "metadata": {},
   "outputs": [
    {
     "name": "stderr",
     "output_type": "stream",
     "text": [
      "\u001b[36m\u001b[1m[ \u001b[22m\u001b[39m\u001b[36m\u001b[1mInfo: \u001b[22m\u001b[39mRunning the simulation...\n",
      "\u001b[36m\u001b[1m[ \u001b[22m\u001b[39m\u001b[36m\u001b[1mInfo: \u001b[22m\u001b[39mInitializing simulation...\n"
     ]
    },
    {
     "name": "stdout",
     "output_type": "stream",
     "text": [
      "[00.00%] i: 0, t: 0 seconds, wall time: 42.228 seconds, (max(u), max(b_C1), max(T_C1)) : (0.000e+00, 4.000e+00, 3.996e+04), next Δt: 20 minutes\n"
     ]
    },
    {
     "name": "stderr",
     "output_type": "stream",
     "text": [
      "\u001b[36m\u001b[1m[ \u001b[22m\u001b[39m\u001b[36m\u001b[1mInfo: \u001b[22m\u001b[39m    ... simulation initialization complete (21.647 seconds)\n",
      "\u001b[36m\u001b[1m[ \u001b[22m\u001b[39m\u001b[36m\u001b[1mInfo: \u001b[22m\u001b[39mExecuting initial time step...\n",
      "\u001b[36m\u001b[1m[ \u001b[22m\u001b[39m\u001b[36m\u001b[1mInfo: \u001b[22m\u001b[39m    ... initial time step complete (4.145 seconds).\n"
     ]
    },
    {
     "name": "stdout",
     "output_type": "stream",
     "text": [
      "[20.63%] i: 100, t: 14.857 hours, wall time: 8.125 seconds, (max(u), max(b_C1), max(T_C1)) : (2.560e-02, 4.000e+00, 4.000e+04), next Δt: 4.039 minutes\n",
      "[30.65%] i: 200, t: 22.065 hours, wall time: 533.123 ms, (max(u), max(b_C1), max(T_C1)) : (3.061e-02, 4.000e+00, 4.000e+04), next Δt: 3.629 minutes\n",
      "[40.52%] i: 300, t: 1.216 days, wall time: 540.638 ms, (max(u), max(b_C1), max(T_C1)) : (2.642e-02, 4.000e+00, 4.000e+04), next Δt: 4.204 minutes\n",
      "[49.69%] i: 400, t: 1.491 days, wall time: 551.214 ms, (max(u), max(b_C1), max(T_C1)) : (1.040e-02, 4.000e+00, 4.000e+04), next Δt: 5.146 minutes\n",
      "[59.29%] i: 500, t: 1.779 days, wall time: 555.282 ms, (max(u), max(b_C1), max(T_C1)) : (1.347e-02, 4.000e+00, 4.000e+04), next Δt: 4.548 minutes\n",
      "[69.35%] i: 600, t: 2.080 days, wall time: 567.603 ms, (max(u), max(b_C1), max(T_C1)) : (2.536e-02, 4.000e+00, 4.000e+04), next Δt: 4.085 minutes\n",
      "[79.44%] i: 700, t: 2.383 days, wall time: 589.552 ms, (max(u), max(b_C1), max(T_C1)) : (3.016e-02, 4.000e+00, 4.000e+04), next Δt: 3.684 minutes\n",
      "[89.39%] i: 800, t: 2.682 days, wall time: 571.033 ms, (max(u), max(b_C1), max(T_C1)) : (2.655e-02, 4.000e+00, 4.000e+04), next Δt: 3.940 minutes\n",
      "[98.61%] i: 900, t: 2.958 days, wall time: 553.248 ms, (max(u), max(b_C1), max(T_C1)) : (1.227e-02, 4.000e+00, 4.000e+04), next Δt: 5.314 minutes\n"
     ]
    },
    {
     "name": "stderr",
     "output_type": "stream",
     "text": [
      "\u001b[36m\u001b[1m[ \u001b[22m\u001b[39m\u001b[36m\u001b[1mInfo: \u001b[22m\u001b[39mSimulation is stopping after running for 31.405 seconds.\n",
      "\u001b[36m\u001b[1m[ \u001b[22m\u001b[39m\u001b[36m\u001b[1mInfo: \u001b[22m\u001b[39mSimulation time 3 days equals or exceeds stop time 3 days.\n",
      "\u001b[36m\u001b[1m[ \u001b[22m\u001b[39m\u001b[36m\u001b[1mInfo: \u001b[22m\u001b[39mSimulation completed in 31.433 seconds\n"
     ]
    }
   ],
   "source": [
    "@info \"Running the simulation...\"\n",
    "\n",
    "run!(simulation)\n",
    "\n",
    "@info \"Simulation completed in \" * prettytime(simulation.run_wall_time)"
   ]
  },
  {
   "cell_type": "code",
   "execution_count": 16,
   "id": "e1e94f30",
   "metadata": {},
   "outputs": [
    {
     "name": "stderr",
     "output_type": "stream",
     "text": [
      "\u001b[36m\u001b[1m[ \u001b[22m\u001b[39m\u001b[36m\u001b[1mInfo: \u001b[22m\u001b[39mAssuming velocities normal to z boundaries are zero\n",
      "\u001b[36m\u001b[1m[ \u001b[22m\u001b[39m\u001b[36m\u001b[1mInfo: \u001b[22m\u001b[39mWrote regridded data to new variables with _at_mean suffix in file periodic_geostrophic_adjustment_online.jld2\n"
     ]
    }
   ],
   "source": [
    "# Regrid if desired\n",
    "if filter_config.map_to_mean\n",
    "    regrid_to_mean_position!(filter_config)\n",
    "end\n"
   ]
  },
  {
   "cell_type": "code",
   "execution_count": 17,
   "id": "c5e16136",
   "metadata": {},
   "outputs": [
    {
     "name": "stderr",
     "output_type": "stream",
     "text": [
      "\u001b[36m\u001b[1m[ \u001b[22m\u001b[39m\u001b[36m\u001b[1mInfo: \u001b[22m\u001b[39mComputing Eulerian filter for variable b\n",
      "\u001b[36m\u001b[1m[ \u001b[22m\u001b[39m\u001b[36m\u001b[1mInfo: \u001b[22m\u001b[39mComputing Eulerian filter at time 0.0 =  (index 1 of 73)\n",
      "\u001b[36m\u001b[1m[ \u001b[22m\u001b[39m\u001b[36m\u001b[1mInfo: \u001b[22m\u001b[39mComputing Eulerian filter at time 3600.0 =  (index 2 of 73)\n",
      "\u001b[36m\u001b[1m[ \u001b[22m\u001b[39m\u001b[36m\u001b[1mInfo: \u001b[22m\u001b[39mComputing Eulerian filter at time 7200.0 =  (index 3 of 73)\n",
      "\u001b[36m\u001b[1m[ \u001b[22m\u001b[39m\u001b[36m\u001b[1mInfo: \u001b[22m\u001b[39mComputing Eulerian filter at time 10800.0 =  (index 4 of 73)\n",
      "\u001b[36m\u001b[1m[ \u001b[22m\u001b[39m\u001b[36m\u001b[1mInfo: \u001b[22m\u001b[39mComputing Eulerian filter at time 14400.0 =  (index 5 of 73)\n",
      "\u001b[36m\u001b[1m[ \u001b[22m\u001b[39m\u001b[36m\u001b[1mInfo: \u001b[22m\u001b[39mComputing Eulerian filter at time 18000.0 =  (index 6 of 73)\n",
      "\u001b[36m\u001b[1m[ \u001b[22m\u001b[39m\u001b[36m\u001b[1mInfo: \u001b[22m\u001b[39mComputing Eulerian filter at time 21600.0 =  (index 7 of 73)\n",
      "\u001b[36m\u001b[1m[ \u001b[22m\u001b[39m\u001b[36m\u001b[1mInfo: \u001b[22m\u001b[39mComputing Eulerian filter at time 25200.0 =  (index 8 of 73)\n",
      "\u001b[36m\u001b[1m[ \u001b[22m\u001b[39m\u001b[36m\u001b[1mInfo: \u001b[22m\u001b[39mComputing Eulerian filter at time 28800.0 =  (index 9 of 73)\n",
      "\u001b[36m\u001b[1m[ \u001b[22m\u001b[39m\u001b[36m\u001b[1mInfo: \u001b[22m\u001b[39mComputing Eulerian filter at time 32400.0 =  (index 10 of 73)\n",
      "\u001b[36m\u001b[1m[ \u001b[22m\u001b[39m\u001b[36m\u001b[1mInfo: \u001b[22m\u001b[39mComputing Eulerian filter at time 36000.0 =  (index 11 of 73)\n",
      "\u001b[36m\u001b[1m[ \u001b[22m\u001b[39m\u001b[36m\u001b[1mInfo: \u001b[22m\u001b[39mComputing Eulerian filter at time 39600.0 =  (index 12 of 73)\n",
      "\u001b[36m\u001b[1m[ \u001b[22m\u001b[39m\u001b[36m\u001b[1mInfo: \u001b[22m\u001b[39mComputing Eulerian filter at time 43200.0 =  (index 13 of 73)\n",
      "\u001b[36m\u001b[1m[ \u001b[22m\u001b[39m\u001b[36m\u001b[1mInfo: \u001b[22m\u001b[39mComputing Eulerian filter at time 46800.0 =  (index 14 of 73)\n",
      "\u001b[36m\u001b[1m[ \u001b[22m\u001b[39m\u001b[36m\u001b[1mInfo: \u001b[22m\u001b[39mComputing Eulerian filter at time 50400.0 =  (index 15 of 73)\n",
      "\u001b[36m\u001b[1m[ \u001b[22m\u001b[39m\u001b[36m\u001b[1mInfo: \u001b[22m\u001b[39mComputing Eulerian filter at time 54000.0 =  (index 16 of 73)\n",
      "\u001b[36m\u001b[1m[ \u001b[22m\u001b[39m\u001b[36m\u001b[1mInfo: \u001b[22m\u001b[39mComputing Eulerian filter at time 57600.0 =  (index 17 of 73)\n",
      "\u001b[36m\u001b[1m[ \u001b[22m\u001b[39m\u001b[36m\u001b[1mInfo: \u001b[22m\u001b[39mComputing Eulerian filter at time 61200.0 =  (index 18 of 73)\n",
      "\u001b[36m\u001b[1m[ \u001b[22m\u001b[39m\u001b[36m\u001b[1mInfo: \u001b[22m\u001b[39mComputing Eulerian filter at time 64800.0 =  (index 19 of 73)\n",
      "\u001b[36m\u001b[1m[ \u001b[22m\u001b[39m\u001b[36m\u001b[1mInfo: \u001b[22m\u001b[39mComputing Eulerian filter at time 68400.0 =  (index 20 of 73)\n",
      "\u001b[36m\u001b[1m[ \u001b[22m\u001b[39m\u001b[36m\u001b[1mInfo: \u001b[22m\u001b[39mComputing Eulerian filter at time 72000.0 =  (index 21 of 73)\n",
      "\u001b[36m\u001b[1m[ \u001b[22m\u001b[39m\u001b[36m\u001b[1mInfo: \u001b[22m\u001b[39mComputing Eulerian filter at time 75600.0 =  (index 22 of 73)\n",
      "\u001b[36m\u001b[1m[ \u001b[22m\u001b[39m\u001b[36m\u001b[1mInfo: \u001b[22m\u001b[39mComputing Eulerian filter at time 79200.0 =  (index 23 of 73)\n",
      "\u001b[36m\u001b[1m[ \u001b[22m\u001b[39m\u001b[36m\u001b[1mInfo: \u001b[22m\u001b[39mComputing Eulerian filter at time 82800.0 =  (index 24 of 73)\n",
      "\u001b[36m\u001b[1m[ \u001b[22m\u001b[39m\u001b[36m\u001b[1mInfo: \u001b[22m\u001b[39mComputing Eulerian filter at time 86400.0 =  (index 25 of 73)\n",
      "\u001b[36m\u001b[1m[ \u001b[22m\u001b[39m\u001b[36m\u001b[1mInfo: \u001b[22m\u001b[39mComputing Eulerian filter at time 90000.0 =  (index 26 of 73)\n",
      "\u001b[36m\u001b[1m[ \u001b[22m\u001b[39m\u001b[36m\u001b[1mInfo: \u001b[22m\u001b[39mComputing Eulerian filter at time 93600.0 =  (index 27 of 73)\n",
      "\u001b[36m\u001b[1m[ \u001b[22m\u001b[39m\u001b[36m\u001b[1mInfo: \u001b[22m\u001b[39mComputing Eulerian filter at time 97200.0 =  (index 28 of 73)\n",
      "\u001b[36m\u001b[1m[ \u001b[22m\u001b[39m\u001b[36m\u001b[1mInfo: \u001b[22m\u001b[39mComputing Eulerian filter at time 100800.0 =  (index 29 of 73)\n",
      "\u001b[36m\u001b[1m[ \u001b[22m\u001b[39m\u001b[36m\u001b[1mInfo: \u001b[22m\u001b[39mComputing Eulerian filter at time 104400.0 =  (index 30 of 73)\n",
      "\u001b[36m\u001b[1m[ \u001b[22m\u001b[39m\u001b[36m\u001b[1mInfo: \u001b[22m\u001b[39mComputing Eulerian filter at time 108000.0 =  (index 31 of 73)\n",
      "\u001b[36m\u001b[1m[ \u001b[22m\u001b[39m\u001b[36m\u001b[1mInfo: \u001b[22m\u001b[39mComputing Eulerian filter at time 111600.0 =  (index 32 of 73)\n",
      "\u001b[36m\u001b[1m[ \u001b[22m\u001b[39m\u001b[36m\u001b[1mInfo: \u001b[22m\u001b[39mComputing Eulerian filter at time 115200.0 =  (index 33 of 73)\n",
      "\u001b[36m\u001b[1m[ \u001b[22m\u001b[39m\u001b[36m\u001b[1mInfo: \u001b[22m\u001b[39mComputing Eulerian filter at time 118800.0 =  (index 34 of 73)\n",
      "\u001b[36m\u001b[1m[ \u001b[22m\u001b[39m\u001b[36m\u001b[1mInfo: \u001b[22m\u001b[39mComputing Eulerian filter at time 122400.0 =  (index 35 of 73)\n",
      "\u001b[36m\u001b[1m[ \u001b[22m\u001b[39m\u001b[36m\u001b[1mInfo: \u001b[22m\u001b[39mComputing Eulerian filter at time 126000.0 =  (index 36 of 73)\n",
      "\u001b[36m\u001b[1m[ \u001b[22m\u001b[39m\u001b[36m\u001b[1mInfo: \u001b[22m\u001b[39mComputing Eulerian filter at time 129600.0 =  (index 37 of 73)\n",
      "\u001b[36m\u001b[1m[ \u001b[22m\u001b[39m\u001b[36m\u001b[1mInfo: \u001b[22m\u001b[39mComputing Eulerian filter at time 133200.0 =  (index 38 of 73)\n",
      "\u001b[36m\u001b[1m[ \u001b[22m\u001b[39m\u001b[36m\u001b[1mInfo: \u001b[22m\u001b[39mComputing Eulerian filter at time 136800.0 =  (index 39 of 73)\n",
      "\u001b[36m\u001b[1m[ \u001b[22m\u001b[39m\u001b[36m\u001b[1mInfo: \u001b[22m\u001b[39mComputing Eulerian filter at time 140400.0 =  (index 40 of 73)\n",
      "\u001b[36m\u001b[1m[ \u001b[22m\u001b[39m\u001b[36m\u001b[1mInfo: \u001b[22m\u001b[39mComputing Eulerian filter at time 144000.0 =  (index 41 of 73)\n",
      "\u001b[36m\u001b[1m[ \u001b[22m\u001b[39m\u001b[36m\u001b[1mInfo: \u001b[22m\u001b[39mComputing Eulerian filter at time 147600.0 =  (index 42 of 73)\n",
      "\u001b[36m\u001b[1m[ \u001b[22m\u001b[39m\u001b[36m\u001b[1mInfo: \u001b[22m\u001b[39mComputing Eulerian filter at time 151200.0 =  (index 43 of 73)\n",
      "\u001b[36m\u001b[1m[ \u001b[22m\u001b[39m\u001b[36m\u001b[1mInfo: \u001b[22m\u001b[39mComputing Eulerian filter at time 154800.0 =  (index 44 of 73)\n",
      "\u001b[36m\u001b[1m[ \u001b[22m\u001b[39m\u001b[36m\u001b[1mInfo: \u001b[22m\u001b[39mComputing Eulerian filter at time 158400.0 =  (index 45 of 73)\n",
      "\u001b[36m\u001b[1m[ \u001b[22m\u001b[39m\u001b[36m\u001b[1mInfo: \u001b[22m\u001b[39mComputing Eulerian filter at time 162000.0 =  (index 46 of 73)\n",
      "\u001b[36m\u001b[1m[ \u001b[22m\u001b[39m\u001b[36m\u001b[1mInfo: \u001b[22m\u001b[39mComputing Eulerian filter at time 165600.00000000003 =  (index 47 of 73)\n",
      "\u001b[36m\u001b[1m[ \u001b[22m\u001b[39m\u001b[36m\u001b[1mInfo: \u001b[22m\u001b[39mComputing Eulerian filter at time 169200.0 =  (index 48 of 73)\n",
      "\u001b[36m\u001b[1m[ \u001b[22m\u001b[39m\u001b[36m\u001b[1mInfo: \u001b[22m\u001b[39mComputing Eulerian filter at time 172800.0 =  (index 49 of 73)\n",
      "\u001b[36m\u001b[1m[ \u001b[22m\u001b[39m\u001b[36m\u001b[1mInfo: \u001b[22m\u001b[39mComputing Eulerian filter at time 176400.0 =  (index 50 of 73)\n",
      "\u001b[36m\u001b[1m[ \u001b[22m\u001b[39m\u001b[36m\u001b[1mInfo: \u001b[22m\u001b[39mComputing Eulerian filter at time 180000.0 =  (index 51 of 73)\n",
      "\u001b[36m\u001b[1m[ \u001b[22m\u001b[39m\u001b[36m\u001b[1mInfo: \u001b[22m\u001b[39mComputing Eulerian filter at time 183600.0 =  (index 52 of 73)\n",
      "\u001b[36m\u001b[1m[ \u001b[22m\u001b[39m\u001b[36m\u001b[1mInfo: \u001b[22m\u001b[39mComputing Eulerian filter at time 187200.0 =  (index 53 of 73)\n",
      "\u001b[36m\u001b[1m[ \u001b[22m\u001b[39m\u001b[36m\u001b[1mInfo: \u001b[22m\u001b[39mComputing Eulerian filter at time 190800.0 =  (index 54 of 73)\n",
      "\u001b[36m\u001b[1m[ \u001b[22m\u001b[39m\u001b[36m\u001b[1mInfo: \u001b[22m\u001b[39mComputing Eulerian filter at time 194400.0 =  (index 55 of 73)\n",
      "\u001b[36m\u001b[1m[ \u001b[22m\u001b[39m\u001b[36m\u001b[1mInfo: \u001b[22m\u001b[39mComputing Eulerian filter at time 198000.0 =  (index 56 of 73)\n",
      "\u001b[36m\u001b[1m[ \u001b[22m\u001b[39m\u001b[36m\u001b[1mInfo: \u001b[22m\u001b[39mComputing Eulerian filter at time 201600.0 =  (index 57 of 73)\n",
      "\u001b[36m\u001b[1m[ \u001b[22m\u001b[39m\u001b[36m\u001b[1mInfo: \u001b[22m\u001b[39mComputing Eulerian filter at time 205200.0 =  (index 58 of 73)\n",
      "\u001b[36m\u001b[1m[ \u001b[22m\u001b[39m\u001b[36m\u001b[1mInfo: \u001b[22m\u001b[39mComputing Eulerian filter at time 208800.0 =  (index 59 of 73)\n",
      "\u001b[36m\u001b[1m[ \u001b[22m\u001b[39m\u001b[36m\u001b[1mInfo: \u001b[22m\u001b[39mComputing Eulerian filter at time 212400.0 =  (index 60 of 73)\n",
      "\u001b[36m\u001b[1m[ \u001b[22m\u001b[39m\u001b[36m\u001b[1mInfo: \u001b[22m\u001b[39mComputing Eulerian filter at time 216000.0 =  (index 61 of 73)\n",
      "\u001b[36m\u001b[1m[ \u001b[22m\u001b[39m\u001b[36m\u001b[1mInfo: \u001b[22m\u001b[39mComputing Eulerian filter at time 219600.0 =  (index 62 of 73)\n",
      "\u001b[36m\u001b[1m[ \u001b[22m\u001b[39m\u001b[36m\u001b[1mInfo: \u001b[22m\u001b[39mComputing Eulerian filter at time 223200.0 =  (index 63 of 73)\n",
      "\u001b[36m\u001b[1m[ \u001b[22m\u001b[39m\u001b[36m\u001b[1mInfo: \u001b[22m\u001b[39mComputing Eulerian filter at time 226800.0 =  (index 64 of 73)\n",
      "\u001b[36m\u001b[1m[ \u001b[22m\u001b[39m\u001b[36m\u001b[1mInfo: \u001b[22m\u001b[39mComputing Eulerian filter at time 230400.0 =  (index 65 of 73)\n",
      "\u001b[36m\u001b[1m[ \u001b[22m\u001b[39m\u001b[36m\u001b[1mInfo: \u001b[22m\u001b[39mComputing Eulerian filter at time 234000.0 =  (index 66 of 73)\n",
      "\u001b[36m\u001b[1m[ \u001b[22m\u001b[39m\u001b[36m\u001b[1mInfo: \u001b[22m\u001b[39mComputing Eulerian filter at time 237600.00000000003 =  (index 67 of 73)\n",
      "\u001b[36m\u001b[1m[ \u001b[22m\u001b[39m\u001b[36m\u001b[1mInfo: \u001b[22m\u001b[39mComputing Eulerian filter at time 241200.0 =  (index 68 of 73)\n",
      "\u001b[36m\u001b[1m[ \u001b[22m\u001b[39m\u001b[36m\u001b[1mInfo: \u001b[22m\u001b[39mComputing Eulerian filter at time 244800.0 =  (index 69 of 73)\n",
      "\u001b[36m\u001b[1m[ \u001b[22m\u001b[39m\u001b[36m\u001b[1mInfo: \u001b[22m\u001b[39mComputing Eulerian filter at time 248400.0 =  (index 70 of 73)\n",
      "\u001b[36m\u001b[1m[ \u001b[22m\u001b[39m\u001b[36m\u001b[1mInfo: \u001b[22m\u001b[39mComputing Eulerian filter at time 252000.0 =  (index 71 of 73)\n",
      "\u001b[36m\u001b[1m[ \u001b[22m\u001b[39m\u001b[36m\u001b[1mInfo: \u001b[22m\u001b[39mComputing Eulerian filter at time 255600.0 =  (index 72 of 73)\n",
      "\u001b[36m\u001b[1m[ \u001b[22m\u001b[39m\u001b[36m\u001b[1mInfo: \u001b[22m\u001b[39mComputing Eulerian filter at time 259200.0 =  (index 73 of 73)\n",
      "\u001b[36m\u001b[1m[ \u001b[22m\u001b[39m\u001b[36m\u001b[1mInfo: \u001b[22m\u001b[39mComputing Eulerian filter for variable T\n",
      "\u001b[36m\u001b[1m[ \u001b[22m\u001b[39m\u001b[36m\u001b[1mInfo: \u001b[22m\u001b[39mComputing Eulerian filter at time 0.0 =  (index 1 of 73)\n",
      "\u001b[36m\u001b[1m[ \u001b[22m\u001b[39m\u001b[36m\u001b[1mInfo: \u001b[22m\u001b[39mComputing Eulerian filter at time 3600.0 =  (index 2 of 73)\n",
      "\u001b[36m\u001b[1m[ \u001b[22m\u001b[39m\u001b[36m\u001b[1mInfo: \u001b[22m\u001b[39mComputing Eulerian filter at time 7200.0 =  (index 3 of 73)\n",
      "\u001b[36m\u001b[1m[ \u001b[22m\u001b[39m\u001b[36m\u001b[1mInfo: \u001b[22m\u001b[39mComputing Eulerian filter at time 10800.0 =  (index 4 of 73)\n",
      "\u001b[36m\u001b[1m[ \u001b[22m\u001b[39m\u001b[36m\u001b[1mInfo: \u001b[22m\u001b[39mComputing Eulerian filter at time 14400.0 =  (index 5 of 73)\n",
      "\u001b[36m\u001b[1m[ \u001b[22m\u001b[39m\u001b[36m\u001b[1mInfo: \u001b[22m\u001b[39mComputing Eulerian filter at time 18000.0 =  (index 6 of 73)\n",
      "\u001b[36m\u001b[1m[ \u001b[22m\u001b[39m\u001b[36m\u001b[1mInfo: \u001b[22m\u001b[39mComputing Eulerian filter at time 21600.0 =  (index 7 of 73)\n",
      "\u001b[36m\u001b[1m[ \u001b[22m\u001b[39m\u001b[36m\u001b[1mInfo: \u001b[22m\u001b[39mComputing Eulerian filter at time 25200.0 =  (index 8 of 73)\n",
      "\u001b[36m\u001b[1m[ \u001b[22m\u001b[39m\u001b[36m\u001b[1mInfo: \u001b[22m\u001b[39mComputing Eulerian filter at time 28800.0 =  (index 9 of 73)\n",
      "\u001b[36m\u001b[1m[ \u001b[22m\u001b[39m\u001b[36m\u001b[1mInfo: \u001b[22m\u001b[39mComputing Eulerian filter at time 32400.0 =  (index 10 of 73)\n",
      "\u001b[36m\u001b[1m[ \u001b[22m\u001b[39m\u001b[36m\u001b[1mInfo: \u001b[22m\u001b[39mComputing Eulerian filter at time 36000.0 =  (index 11 of 73)\n",
      "\u001b[36m\u001b[1m[ \u001b[22m\u001b[39m\u001b[36m\u001b[1mInfo: \u001b[22m\u001b[39mComputing Eulerian filter at time 39600.0 =  (index 12 of 73)\n",
      "\u001b[36m\u001b[1m[ \u001b[22m\u001b[39m\u001b[36m\u001b[1mInfo: \u001b[22m\u001b[39mComputing Eulerian filter at time 43200.0 =  (index 13 of 73)\n",
      "\u001b[36m\u001b[1m[ \u001b[22m\u001b[39m\u001b[36m\u001b[1mInfo: \u001b[22m\u001b[39mComputing Eulerian filter at time 46800.0 =  (index 14 of 73)\n",
      "\u001b[36m\u001b[1m[ \u001b[22m\u001b[39m\u001b[36m\u001b[1mInfo: \u001b[22m\u001b[39mComputing Eulerian filter at time 50400.0 =  (index 15 of 73)\n",
      "\u001b[36m\u001b[1m[ \u001b[22m\u001b[39m\u001b[36m\u001b[1mInfo: \u001b[22m\u001b[39mComputing Eulerian filter at time 54000.0 =  (index 16 of 73)\n",
      "\u001b[36m\u001b[1m[ \u001b[22m\u001b[39m\u001b[36m\u001b[1mInfo: \u001b[22m\u001b[39mComputing Eulerian filter at time 57600.0 =  (index 17 of 73)\n",
      "\u001b[36m\u001b[1m[ \u001b[22m\u001b[39m\u001b[36m\u001b[1mInfo: \u001b[22m\u001b[39mComputing Eulerian filter at time 61200.0 =  (index 18 of 73)\n",
      "\u001b[36m\u001b[1m[ \u001b[22m\u001b[39m\u001b[36m\u001b[1mInfo: \u001b[22m\u001b[39mComputing Eulerian filter at time 64800.0 =  (index 19 of 73)\n",
      "\u001b[36m\u001b[1m[ \u001b[22m\u001b[39m\u001b[36m\u001b[1mInfo: \u001b[22m\u001b[39mComputing Eulerian filter at time 68400.0 =  (index 20 of 73)\n",
      "\u001b[36m\u001b[1m[ \u001b[22m\u001b[39m\u001b[36m\u001b[1mInfo: \u001b[22m\u001b[39mComputing Eulerian filter at time 72000.0 =  (index 21 of 73)\n",
      "\u001b[36m\u001b[1m[ \u001b[22m\u001b[39m\u001b[36m\u001b[1mInfo: \u001b[22m\u001b[39mComputing Eulerian filter at time 75600.0 =  (index 22 of 73)\n",
      "\u001b[36m\u001b[1m[ \u001b[22m\u001b[39m\u001b[36m\u001b[1mInfo: \u001b[22m\u001b[39mComputing Eulerian filter at time 79200.0 =  (index 23 of 73)\n",
      "\u001b[36m\u001b[1m[ \u001b[22m\u001b[39m\u001b[36m\u001b[1mInfo: \u001b[22m\u001b[39mComputing Eulerian filter at time 82800.0 =  (index 24 of 73)\n",
      "\u001b[36m\u001b[1m[ \u001b[22m\u001b[39m\u001b[36m\u001b[1mInfo: \u001b[22m\u001b[39mComputing Eulerian filter at time 86400.0 =  (index 25 of 73)\n",
      "\u001b[36m\u001b[1m[ \u001b[22m\u001b[39m\u001b[36m\u001b[1mInfo: \u001b[22m\u001b[39mComputing Eulerian filter at time 90000.0 =  (index 26 of 73)\n",
      "\u001b[36m\u001b[1m[ \u001b[22m\u001b[39m\u001b[36m\u001b[1mInfo: \u001b[22m\u001b[39mComputing Eulerian filter at time 93600.0 =  (index 27 of 73)\n",
      "\u001b[36m\u001b[1m[ \u001b[22m\u001b[39m\u001b[36m\u001b[1mInfo: \u001b[22m\u001b[39mComputing Eulerian filter at time 97200.0 =  (index 28 of 73)\n",
      "\u001b[36m\u001b[1m[ \u001b[22m\u001b[39m\u001b[36m\u001b[1mInfo: \u001b[22m\u001b[39mComputing Eulerian filter at time 100800.0 =  (index 29 of 73)\n",
      "\u001b[36m\u001b[1m[ \u001b[22m\u001b[39m\u001b[36m\u001b[1mInfo: \u001b[22m\u001b[39mComputing Eulerian filter at time 104400.0 =  (index 30 of 73)\n",
      "\u001b[36m\u001b[1m[ \u001b[22m\u001b[39m\u001b[36m\u001b[1mInfo: \u001b[22m\u001b[39mComputing Eulerian filter at time 108000.0 =  (index 31 of 73)\n",
      "\u001b[36m\u001b[1m[ \u001b[22m\u001b[39m\u001b[36m\u001b[1mInfo: \u001b[22m\u001b[39mComputing Eulerian filter at time 111600.0 =  (index 32 of 73)\n",
      "\u001b[36m\u001b[1m[ \u001b[22m\u001b[39m\u001b[36m\u001b[1mInfo: \u001b[22m\u001b[39mComputing Eulerian filter at time 115200.0 =  (index 33 of 73)\n",
      "\u001b[36m\u001b[1m[ \u001b[22m\u001b[39m\u001b[36m\u001b[1mInfo: \u001b[22m\u001b[39mComputing Eulerian filter at time 118800.0 =  (index 34 of 73)\n",
      "\u001b[36m\u001b[1m[ \u001b[22m\u001b[39m\u001b[36m\u001b[1mInfo: \u001b[22m\u001b[39mComputing Eulerian filter at time 122400.0 =  (index 35 of 73)\n",
      "\u001b[36m\u001b[1m[ \u001b[22m\u001b[39m\u001b[36m\u001b[1mInfo: \u001b[22m\u001b[39mComputing Eulerian filter at time 126000.0 =  (index 36 of 73)\n",
      "\u001b[36m\u001b[1m[ \u001b[22m\u001b[39m\u001b[36m\u001b[1mInfo: \u001b[22m\u001b[39mComputing Eulerian filter at time 129600.0 =  (index 37 of 73)\n",
      "\u001b[36m\u001b[1m[ \u001b[22m\u001b[39m\u001b[36m\u001b[1mInfo: \u001b[22m\u001b[39mComputing Eulerian filter at time 133200.0 =  (index 38 of 73)\n",
      "\u001b[36m\u001b[1m[ \u001b[22m\u001b[39m\u001b[36m\u001b[1mInfo: \u001b[22m\u001b[39mComputing Eulerian filter at time 136800.0 =  (index 39 of 73)\n",
      "\u001b[36m\u001b[1m[ \u001b[22m\u001b[39m\u001b[36m\u001b[1mInfo: \u001b[22m\u001b[39mComputing Eulerian filter at time 140400.0 =  (index 40 of 73)\n",
      "\u001b[36m\u001b[1m[ \u001b[22m\u001b[39m\u001b[36m\u001b[1mInfo: \u001b[22m\u001b[39mComputing Eulerian filter at time 144000.0 =  (index 41 of 73)\n",
      "\u001b[36m\u001b[1m[ \u001b[22m\u001b[39m\u001b[36m\u001b[1mInfo: \u001b[22m\u001b[39mComputing Eulerian filter at time 147600.0 =  (index 42 of 73)\n",
      "\u001b[36m\u001b[1m[ \u001b[22m\u001b[39m\u001b[36m\u001b[1mInfo: \u001b[22m\u001b[39mComputing Eulerian filter at time 151200.0 =  (index 43 of 73)\n",
      "\u001b[36m\u001b[1m[ \u001b[22m\u001b[39m\u001b[36m\u001b[1mInfo: \u001b[22m\u001b[39mComputing Eulerian filter at time 154800.0 =  (index 44 of 73)\n",
      "\u001b[36m\u001b[1m[ \u001b[22m\u001b[39m\u001b[36m\u001b[1mInfo: \u001b[22m\u001b[39mComputing Eulerian filter at time 158400.0 =  (index 45 of 73)\n",
      "\u001b[36m\u001b[1m[ \u001b[22m\u001b[39m\u001b[36m\u001b[1mInfo: \u001b[22m\u001b[39mComputing Eulerian filter at time 162000.0 =  (index 46 of 73)\n",
      "\u001b[36m\u001b[1m[ \u001b[22m\u001b[39m\u001b[36m\u001b[1mInfo: \u001b[22m\u001b[39mComputing Eulerian filter at time 165600.00000000003 =  (index 47 of 73)\n",
      "\u001b[36m\u001b[1m[ \u001b[22m\u001b[39m\u001b[36m\u001b[1mInfo: \u001b[22m\u001b[39mComputing Eulerian filter at time 169200.0 =  (index 48 of 73)\n",
      "\u001b[36m\u001b[1m[ \u001b[22m\u001b[39m\u001b[36m\u001b[1mInfo: \u001b[22m\u001b[39mComputing Eulerian filter at time 172800.0 =  (index 49 of 73)\n",
      "\u001b[36m\u001b[1m[ \u001b[22m\u001b[39m\u001b[36m\u001b[1mInfo: \u001b[22m\u001b[39mComputing Eulerian filter at time 176400.0 =  (index 50 of 73)\n",
      "\u001b[36m\u001b[1m[ \u001b[22m\u001b[39m\u001b[36m\u001b[1mInfo: \u001b[22m\u001b[39mComputing Eulerian filter at time 180000.0 =  (index 51 of 73)\n",
      "\u001b[36m\u001b[1m[ \u001b[22m\u001b[39m\u001b[36m\u001b[1mInfo: \u001b[22m\u001b[39mComputing Eulerian filter at time 183600.0 =  (index 52 of 73)\n",
      "\u001b[36m\u001b[1m[ \u001b[22m\u001b[39m\u001b[36m\u001b[1mInfo: \u001b[22m\u001b[39mComputing Eulerian filter at time 187200.0 =  (index 53 of 73)\n",
      "\u001b[36m\u001b[1m[ \u001b[22m\u001b[39m\u001b[36m\u001b[1mInfo: \u001b[22m\u001b[39mComputing Eulerian filter at time 190800.0 =  (index 54 of 73)\n",
      "\u001b[36m\u001b[1m[ \u001b[22m\u001b[39m\u001b[36m\u001b[1mInfo: \u001b[22m\u001b[39mComputing Eulerian filter at time 194400.0 =  (index 55 of 73)\n",
      "\u001b[36m\u001b[1m[ \u001b[22m\u001b[39m\u001b[36m\u001b[1mInfo: \u001b[22m\u001b[39mComputing Eulerian filter at time 198000.0 =  (index 56 of 73)\n",
      "\u001b[36m\u001b[1m[ \u001b[22m\u001b[39m\u001b[36m\u001b[1mInfo: \u001b[22m\u001b[39mComputing Eulerian filter at time 201600.0 =  (index 57 of 73)\n",
      "\u001b[36m\u001b[1m[ \u001b[22m\u001b[39m\u001b[36m\u001b[1mInfo: \u001b[22m\u001b[39mComputing Eulerian filter at time 205200.0 =  (index 58 of 73)\n",
      "\u001b[36m\u001b[1m[ \u001b[22m\u001b[39m\u001b[36m\u001b[1mInfo: \u001b[22m\u001b[39mComputing Eulerian filter at time 208800.0 =  (index 59 of 73)\n",
      "\u001b[36m\u001b[1m[ \u001b[22m\u001b[39m\u001b[36m\u001b[1mInfo: \u001b[22m\u001b[39mComputing Eulerian filter at time 212400.0 =  (index 60 of 73)\n",
      "\u001b[36m\u001b[1m[ \u001b[22m\u001b[39m\u001b[36m\u001b[1mInfo: \u001b[22m\u001b[39mComputing Eulerian filter at time 216000.0 =  (index 61 of 73)\n",
      "\u001b[36m\u001b[1m[ \u001b[22m\u001b[39m\u001b[36m\u001b[1mInfo: \u001b[22m\u001b[39mComputing Eulerian filter at time 219600.0 =  (index 62 of 73)\n",
      "\u001b[36m\u001b[1m[ \u001b[22m\u001b[39m\u001b[36m\u001b[1mInfo: \u001b[22m\u001b[39mComputing Eulerian filter at time 223200.0 =  (index 63 of 73)\n",
      "\u001b[36m\u001b[1m[ \u001b[22m\u001b[39m\u001b[36m\u001b[1mInfo: \u001b[22m\u001b[39mComputing Eulerian filter at time 226800.0 =  (index 64 of 73)\n",
      "\u001b[36m\u001b[1m[ \u001b[22m\u001b[39m\u001b[36m\u001b[1mInfo: \u001b[22m\u001b[39mComputing Eulerian filter at time 230400.0 =  (index 65 of 73)\n",
      "\u001b[36m\u001b[1m[ \u001b[22m\u001b[39m\u001b[36m\u001b[1mInfo: \u001b[22m\u001b[39mComputing Eulerian filter at time 234000.0 =  (index 66 of 73)\n",
      "\u001b[36m\u001b[1m[ \u001b[22m\u001b[39m\u001b[36m\u001b[1mInfo: \u001b[22m\u001b[39mComputing Eulerian filter at time 237600.00000000003 =  (index 67 of 73)\n",
      "\u001b[36m\u001b[1m[ \u001b[22m\u001b[39m\u001b[36m\u001b[1mInfo: \u001b[22m\u001b[39mComputing Eulerian filter at time 241200.0 =  (index 68 of 73)\n",
      "\u001b[36m\u001b[1m[ \u001b[22m\u001b[39m\u001b[36m\u001b[1mInfo: \u001b[22m\u001b[39mComputing Eulerian filter at time 244800.0 =  (index 69 of 73)\n",
      "\u001b[36m\u001b[1m[ \u001b[22m\u001b[39m\u001b[36m\u001b[1mInfo: \u001b[22m\u001b[39mComputing Eulerian filter at time 248400.0 =  (index 70 of 73)\n",
      "\u001b[36m\u001b[1m[ \u001b[22m\u001b[39m\u001b[36m\u001b[1mInfo: \u001b[22m\u001b[39mComputing Eulerian filter at time 252000.0 =  (index 71 of 73)\n",
      "\u001b[36m\u001b[1m[ \u001b[22m\u001b[39m\u001b[36m\u001b[1mInfo: \u001b[22m\u001b[39mComputing Eulerian filter at time 255600.0 =  (index 72 of 73)\n",
      "\u001b[36m\u001b[1m[ \u001b[22m\u001b[39m\u001b[36m\u001b[1mInfo: \u001b[22m\u001b[39mComputing Eulerian filter at time 259200.0 =  (index 73 of 73)\n"
     ]
    }
   ],
   "source": [
    "# Calculate Eulerian filter if desired\n",
    "compute_Eulerian_filter!(filter_config)"
   ]
  },
  {
   "cell_type": "code",
   "execution_count": null,
   "id": "f9f43559",
   "metadata": {},
   "outputs": [
    {
     "name": "stderr",
     "output_type": "stream",
     "text": [
      "\u001b[36m\u001b[1m[ \u001b[22m\u001b[39m\u001b[36m\u001b[1mInfo: \u001b[22m\u001b[39mWrote time shift data to new group timeseries/t_shifted in file periodic_geostrophic_adjustment_online.jld2\n"
     ]
    },
    {
     "ename": "LoadError",
     "evalue": "UndefVarError: `filename` not defined",
     "output_type": "error",
     "traceback": [
      "UndefVarError: `filename` not defined",
      "",
      "Stacktrace:",
      " [1] top-level scope",
      "\u001b[90m   @\u001b[39m \u001b[90m\u001b[4mIn[6]:7\u001b[24m\u001b[39m"
     ]
    }
   ],
   "source": [
    "\n",
    "# Add a shifted time coordinate if desired\n",
    "compute_time_shift!(filter_config)\n",
    "\n",
    "\n",
    "# Output netcdf if desired\n",
    "jld2_to_netcdf(filename_stem * \".jld2\", filename_stem * \".nc\")\n"
   ]
  },
  {
   "cell_type": "code",
   "execution_count": null,
   "id": "54d6a1f0",
   "metadata": {},
   "outputs": [],
   "source": []
  }
 ],
 "metadata": {
  "kernelspec": {
   "display_name": "OceananigansLagrangianFilter 1.10.9",
   "language": "julia",
   "name": "oceananiganslagrangianfilter-1.10"
  },
  "language_info": {
   "file_extension": ".jl",
   "mimetype": "application/julia",
   "name": "julia",
   "version": "1.10.9"
  }
 },
 "nbformat": 4,
 "nbformat_minor": 5
}
