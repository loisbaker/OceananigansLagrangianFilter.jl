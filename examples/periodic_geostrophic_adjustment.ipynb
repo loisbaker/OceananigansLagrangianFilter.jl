{
 "cells": [
  {
   "cell_type": "code",
   "execution_count": 2,
   "id": "42bec694",
   "metadata": {},
   "outputs": [],
   "source": [
    "using Oceananigans \n",
    "using Oceananigans.Units\n",
    "using Oceananigans.TurbulenceClosures\n",
    "using Oceananigans.Architectures: GPU\n",
    "using CairoMakie \n",
    "using NCDatasets\n",
    "using Printf"
   ]
  },
  {
   "cell_type": "code",
   "execution_count": 3,
   "id": "1a0a67d7",
   "metadata": {},
   "outputs": [
    {
     "data": {
      "text/plain": [
       "\"periodic_geostrophic_adjustment\""
      ]
     },
     "execution_count": 3,
     "metadata": {},
     "output_type": "execute_result"
    }
   ],
   "source": [
    "# Model parameters\n",
    "Nx = 300\n",
    "Nz = 80\n",
    "f = 1e-4               # Coriolis frequency [s⁻¹]\n",
    "L_front = 10kilometers  # Initial front width [m]\n",
    "aspect_ratio = 100      # L_front/H\n",
    "Ro = 0.1           # Rossby number (defines M^2)\n",
    "\n",
    "# Derived parameters\n",
    "H_front = L_front/aspect_ratio\n",
    "M² = (Ro^2*f^2*L_front)/H_front\n",
    "Δb = M²*L_front\n",
    "κh = 1e-4\n",
    "κv = 1e-4\n",
    "\n",
    "filename = \"periodic_geostrophic_adjustment\""
   ]
  },
  {
   "cell_type": "code",
   "execution_count": 4,
   "id": "6134609b",
   "metadata": {},
   "outputs": [
    {
     "data": {
      "text/plain": [
       "300×1×80 RectilinearGrid{Float64, Periodic, Flat, Bounded} on CUDAGPU with 3×0×3 halo\n",
       "├── Periodic x ∈ [-5000.0, 5000.0) regularly spaced with Δx=33.3333\n",
       "├── Flat y                         \n",
       "└── Bounded  z ∈ [-100.0, 0.0]     regularly spaced with Δz=1.25"
      ]
     },
     "execution_count": 4,
     "metadata": {},
     "output_type": "execute_result"
    }
   ],
   "source": [
    "\n",
    "grid = RectilinearGrid(GPU(),size = (Nx, Nz), \n",
    "                       x = (-L_front/2, L_front/2),\n",
    "                       z = (-H_front, 0),\n",
    "                       topology = (Periodic, Flat, Bounded))"
   ]
  },
  {
   "cell_type": "code",
   "execution_count": 5,
   "id": "0a7ef8a1",
   "metadata": {},
   "outputs": [
    {
     "data": {
      "text/plain": [
       "(HorizontalScalarDiffusivity{ExplicitTimeDiscretization}(ν=0.0001, κ=0.0001), VerticalScalarDiffusivity{ExplicitTimeDiscretization}(ν=0.0001, κ=0.0001))"
      ]
     },
     "execution_count": 5,
     "metadata": {},
     "output_type": "execute_result"
    }
   ],
   "source": [
    "horizontal_closure = HorizontalScalarDiffusivity(ν=κh, κ=κh )\n",
    "vertical_closure = VerticalScalarDiffusivity(ν=κv , κ=κv )\n",
    "closure = (horizontal_closure, vertical_closure)"
   ]
  },
  {
   "cell_type": "code",
   "execution_count": 6,
   "id": "195b96ff",
   "metadata": {},
   "outputs": [
    {
     "data": {
      "text/plain": [
       "NonhydrostaticModel{GPU, RectilinearGrid}(time = 0 seconds, iteration = 0)\n",
       "├── grid: 300×1×80 RectilinearGrid{Float64, Periodic, Flat, Bounded} on CUDAGPU with 3×0×3 halo\n",
       "├── timestepper: RungeKutta3TimeStepper\n",
       "├── advection scheme: WENO{3, Float64, Float32}(order=5)\n",
       "├── tracers: (b, T)\n",
       "├── closure: Tuple with 2 closures:\n",
       "│   ├── HorizontalScalarDiffusivity{ExplicitTimeDiscretization}(ν=0.0001, κ=(b=0.0001, T=0.0001))\n",
       "│   └── VerticalScalarDiffusivity{ExplicitTimeDiscretization}(ν=0.0001, κ=(b=0.0001, T=0.0001))\n",
       "├── buoyancy: BuoyancyTracer with ĝ = NegativeZDirection()\n",
       "└── coriolis: FPlane{Float64}(f=0.0001)"
      ]
     },
     "execution_count": 6,
     "metadata": {},
     "output_type": "execute_result"
    }
   ],
   "source": [
    "model =  NonhydrostaticModel(; grid,\n",
    "                coriolis = FPlane(f = f),\n",
    "                buoyancy = BuoyancyTracer(),\n",
    "                tracers = (:b,:T),\n",
    "                advection = WENO(),\n",
    "                closure = closure)"
   ]
  },
  {
   "cell_type": "code",
   "execution_count": 7,
   "id": "83bb4862",
   "metadata": {},
   "outputs": [],
   "source": [
    "bᵢ(x, z) = Δb*sin(2*pi/L_front * x)\n",
    "Tᵢ(x, z) = exp(-(x/(L_front/50)).^2)\n",
    "\n",
    "set!(model, b= bᵢ, T= Tᵢ, u = 0, v = 0, w = 0)  # Start from rest"
   ]
  },
  {
   "cell_type": "code",
   "execution_count": 8,
   "id": "d2366641",
   "metadata": {},
   "outputs": [
    {
     "data": {
      "text/plain": [
       "Simulation of NonhydrostaticModel{GPU, RectilinearGrid}(time = 0 seconds, iteration = 0)\n",
       "├── Next time step: 20 minutes\n",
       "├── Elapsed wall time: 0 seconds\n",
       "├── Wall time per iteration: NaN days\n",
       "├── Stop time: 4 days\n",
       "├── Stop iteration: Inf\n",
       "├── Wall time limit: Inf\n",
       "├── Minimum relative step: 0.0\n",
       "├── Callbacks: OrderedDict with 4 entries:\n",
       "│   ├── stop_time_exceeded => 4\n",
       "│   ├── stop_iteration_exceeded => -\n",
       "│   ├── wall_time_limit_exceeded => e\n",
       "│   └── nan_checker => }\n",
       "├── Output writers: OrderedDict with no entries\n",
       "└── Diagnostics: OrderedDict with no entries"
      ]
     },
     "execution_count": 8,
     "metadata": {},
     "output_type": "execute_result"
    }
   ],
   "source": [
    "simulation = Simulation(model, Δt=20minutes, stop_time=4days)\n"
   ]
  },
  {
   "cell_type": "code",
   "execution_count": 9,
   "id": "e30c1ea5",
   "metadata": {},
   "outputs": [],
   "source": [
    "conjure_time_step_wizard!(simulation, IterationInterval(20), cfl=0.2, max_Δt=20minutes)"
   ]
  },
  {
   "cell_type": "code",
   "execution_count": 10,
   "id": "fb2ceaa4",
   "metadata": {},
   "outputs": [],
   "source": [
    "\n",
    "wall_clock = Ref(time_ns())\n",
    "\n",
    "function print_progress(sim)\n",
    "    u, v, w = model.velocities\n",
    "    progress = 100 * (time(sim) / sim.stop_time)\n",
    "    elapsed = (time_ns() - wall_clock[]) / 1e9\n",
    "\n",
    "    @printf(\"[%05.2f%%] i: %d, t: %s, wall time: %s, max(u): (%6.3e, %6.3e, %6.3e) m/s, next Δt: %s\\n\",\n",
    "            progress, iteration(sim), prettytime(sim), prettytime(elapsed),\n",
    "            maximum(abs, u), maximum(abs, v), maximum(abs, w), prettytime(sim.Δt))\n",
    "\n",
    "    wall_clock[] = time_ns()\n",
    "\n",
    "    return nothing\n",
    "end\n",
    "\n",
    "add_callback!(simulation, print_progress, IterationInterval(50))"
   ]
  },
  {
   "cell_type": "code",
   "execution_count": 11,
   "id": "225d40eb",
   "metadata": {},
   "outputs": [
    {
     "data": {
      "text/plain": [
       "NetCDFWriter scheduled on TimeInterval(1 hour):\n",
       "├── filepath: periodic_geostrophic_adjustment.nc\n",
       "├── dimensions: time(0), x_faa(300), x_caa(300), z_aaf(81), z_aac(80)\n",
       "├── 6 outputs: (v, w, T, wc, b, u)\n",
       "├── array_type: Array{Float32}\n",
       "├── file_splitting: NoFileSplitting\n",
       "└── file size: 27.5 KiB"
      ]
     },
     "execution_count": 11,
     "metadata": {},
     "output_type": "execute_result"
    }
   ],
   "source": [
    "# Output setup\n",
    "u, v, w = model.velocities\n",
    "b = model.tracers.b\n",
    "wc = Field(@at (Center, Center, Center) model.velocities.w)\n",
    "T = model.tracers.T\n",
    "\n",
    "#For Lagrangian filtering\n",
    "simulation.output_writers[:jld2fields] = JLD2Writer(\n",
    "    model, (; b, u, v, w, wc,T), filename=filename * \".jld2\", schedule=TimeInterval(1hour), overwrite_existing=true)\n",
    "\n",
    "\n",
    "#for python visualisation\n",
    "rm(filename * \".nc\",force=true)\n",
    "simulation.output_writers[:ncfields] = NetCDFWriter(\n",
    "    model, (; b, u, v, w, wc,T), filename=filename * \".nc\", schedule=TimeInterval(1hour), overwrite_existing=true)\n",
    "    "
   ]
  },
  {
   "cell_type": "code",
   "execution_count": 12,
   "id": "6c8c960c",
   "metadata": {},
   "outputs": [
    {
     "name": "stderr",
     "output_type": "stream",
     "text": [
      "\u001b[36m\u001b[1m[ \u001b[22m\u001b[39m\u001b[36m\u001b[1mInfo: \u001b[22m\u001b[39mRunning the simulation...\n",
      "\u001b[36m\u001b[1m[ \u001b[22m\u001b[39m\u001b[36m\u001b[1mInfo: \u001b[22m\u001b[39mInitializing simulation...\n"
     ]
    },
    {
     "name": "stdout",
     "output_type": "stream",
     "text": [
      "[00.00%] i: 0, t: 0 seconds, wall time: 28.868 seconds, max(u): (0.000e+00, 0.000e+00, 0.000e+00) m/s, next Δt: 20 minutes\n"
     ]
    },
    {
     "name": "stderr",
     "output_type": "stream",
     "text": [
      "\u001b[36m\u001b[1m[ \u001b[22m\u001b[39m\u001b[36m\u001b[1mInfo: \u001b[22m\u001b[39m    ... simulation initialization complete (17.400 seconds)\n",
      "\u001b[36m\u001b[1m[ \u001b[22m\u001b[39m\u001b[36m\u001b[1mInfo: \u001b[22m\u001b[39mExecuting initial time step...\n",
      "\u001b[36m\u001b[1m[ \u001b[22m\u001b[39m\u001b[36m\u001b[1mInfo: \u001b[22m\u001b[39m    ... initial time step complete (2.730 seconds).\n"
     ]
    },
    {
     "name": "stdout",
     "output_type": "stream",
     "text": [
      "[11.91%] i: 50, t: 11.437 hours, wall time: 5.180 seconds, max(u): (2.375e-02, 4.848e-02, 4.424e-04) m/s, next Δt: 8.744 minutes\n",
      "[16.27%] i: 100, t: 15.616 hours, wall time: 197.389 ms, max(u): (1.921e-02, 8.735e-03, 3.065e-04) m/s, next Δt: 4.517 minutes\n",
      "[20.27%] i: 150, t: 19.455 hours, wall time: 201.433 ms, max(u): (1.913e-02, 8.346e-03, 3.684e-04) m/s, next Δt: 5.465 minutes\n",
      "[23.96%] i: 200, t: 23 hours, wall time: 182.074 ms, max(u): (2.704e-02, 4.190e-02, 5.152e-04) m/s, next Δt: 4.107 minutes\n",
      "[27.69%] i: 250, t: 1.107 days, wall time: 198.404 ms, max(u): (6.064e-03, 5.944e-02, 1.007e-04) m/s, next Δt: 4.969 minutes\n",
      "[31.89%] i: 300, t: 1.276 days, wall time: 201.692 ms, max(u): (2.810e-02, 3.286e-02, 6.305e-04) m/s, next Δt: 3.953 minutes\n",
      "[35.42%] i: 350, t: 1.417 days, wall time: 178.163 ms, max(u): (1.247e-02, 4.980e-03, 1.848e-04) m/s, next Δt: 4.741 minutes\n",
      "[39.78%] i: 400, t: 1.591 days, wall time: 220.612 ms, max(u): (2.580e-02, 1.879e-02, 5.998e-04) m/s, next Δt: 4.305 minutes\n",
      "[43.23%] i: 450, t: 1.729 days, wall time: 178.541 ms, max(u): (2.122e-02, 4.960e-02, 5.522e-04) m/s, next Δt: 4.320 minutes\n",
      "[47.33%] i: 500, t: 1.893 days, wall time: 203.367 ms, max(u): (1.688e-02, 5.428e-02, 4.681e-04) m/s, next Δt: 5.750 minutes\n",
      "[51.40%] i: 550, t: 2.056 days, wall time: 193.330 ms, max(u): (2.506e-02, 2.096e-02, 6.931e-04) m/s, next Δt: 4.174 minutes\n",
      "[55.30%] i: 600, t: 2.212 days, wall time: 204.134 ms, max(u): (9.288e-03, 5.350e-03, 3.892e-04) m/s, next Δt: 5.556 minutes\n",
      "[59.66%] i: 650, t: 2.386 days, wall time: 198.662 ms, max(u): (2.704e-02, 3.374e-02, 8.339e-04) m/s, next Δt: 4.105 minutes\n",
      "[63.50%] i: 700, t: 2.540 days, wall time: 180.100 ms, max(u): (6.256e-03, 5.717e-02, 3.938e-04) m/s, next Δt: 5.271 minutes\n",
      "[67.71%] i: 750, t: 2.708 days, wall time: 201.201 ms, max(u): (2.527e-02, 3.805e-02, 1.121e-03) m/s, next Δt: 3.994 minutes\n",
      "[71.05%] i: 800, t: 2.842 days, wall time: 195.975 ms, max(u): (1.662e-02, 1.076e-02, 4.968e-04) m/s, next Δt: 4.489 minutes\n",
      "[75.09%] i: 850, t: 3.004 days, wall time: 204.099 ms, max(u): (1.813e-02, 1.106e-02, 8.931e-04) m/s, next Δt: 5.431 minutes\n",
      "[78.67%] i: 900, t: 3.147 days, wall time: 179.971 ms, max(u): (2.438e-02, 4.018e-02, 1.076e-03) m/s, next Δt: 3.866 minutes\n",
      "[82.11%] i: 950, t: 3.284 days, wall time: 184.248 ms, max(u): (6.794e-03, 5.645e-02, 5.129e-04) m/s, next Δt: 4.527 minutes\n",
      "[85.66%] i: 1000, t: 3.427 days, wall time: 198.402 ms, max(u): (2.369e-02, 3.990e-02, 1.473e-03) m/s, next Δt: 2.825 minutes\n",
      "[88.08%] i: 1050, t: 3.523 days, wall time: 163.392 ms, max(u): (2.237e-02, 1.942e-02, 1.125e-03) m/s, next Δt: 3.039 minutes\n",
      "[90.94%] i: 1100, t: 3.638 days, wall time: 184.052 ms, max(u): (5.364e-03, 1.035e-02, 5.458e-04) m/s, next Δt: 4.046 minutes\n",
      "[94.22%] i: 1150, t: 3.769 days, wall time: 189.908 ms, max(u): (2.178e-02, 1.781e-02, 1.253e-03) m/s, next Δt: 3.420 minutes\n",
      "[96.87%] i: 1200, t: 3.875 days, wall time: 164.723 ms, max(u): (2.391e-02, 3.976e-02, 1.384e-03) m/s, next Δt: 2.904 minutes\n",
      "[99.36%] i: 1250, t: 3.974 days, wall time: 186.639 ms, max(u): (9.205e-03, 5.419e-02, 1.131e-03) m/s, next Δt: 3.324 minutes\n"
     ]
    },
    {
     "name": "stderr",
     "output_type": "stream",
     "text": [
      "\u001b[36m\u001b[1m[ \u001b[22m\u001b[39m\u001b[36m\u001b[1mInfo: \u001b[22m\u001b[39mSimulation is stopping after running for 25.418 seconds.\n",
      "\u001b[36m\u001b[1m[ \u001b[22m\u001b[39m\u001b[36m\u001b[1mInfo: \u001b[22m\u001b[39mSimulation time 4 days equals or exceeds stop time 4 days.\n",
      "\u001b[36m\u001b[1m[ \u001b[22m\u001b[39m\u001b[36m\u001b[1mInfo: \u001b[22m\u001b[39mSimulation completed in 25.436 seconds\n"
     ]
    }
   ],
   "source": [
    "@info \"Running the simulation...\"\n",
    "\n",
    "run!(simulation)\n",
    "\n",
    "@info \"Simulation completed in \" * prettytime(simulation.run_wall_time)"
   ]
  },
  {
   "cell_type": "code",
   "execution_count": null,
   "id": "e1e94f30",
   "metadata": {},
   "outputs": [],
   "source": []
  }
 ],
 "metadata": {
  "kernelspec": {
   "display_name": "OceananigansLagrangianFilter 1.10.9",
   "language": "julia",
   "name": "oceananiganslagrangianfilter-1.10"
  },
  "language_info": {
   "file_extension": ".jl",
   "mimetype": "application/julia",
   "name": "julia",
   "version": "1.10.9"
  }
 },
 "nbformat": 4,
 "nbformat_minor": 5
}
