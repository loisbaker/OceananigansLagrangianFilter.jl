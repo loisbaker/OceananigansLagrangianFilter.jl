{
 "cells": [
  {
   "cell_type": "code",
   "execution_count": null,
   "id": "42bec694",
   "metadata": {},
   "outputs": [],
   "source": [
    "using Oceananigans \n",
    "using Oceananigans.Units\n",
    "using Oceananigans.TurbulenceClosures\n",
    "using Oceananigans.Architectures: GPU\n",
    "using CUDA: CuArray\n",
    "using CairoMakie \n",
    "using NCDatasets\n",
    "using Printf"
   ]
  },
  {
   "cell_type": "code",
   "execution_count": 2,
   "id": "1a0a67d7",
   "metadata": {},
   "outputs": [
    {
     "data": {
      "text/plain": [
       "\"periodic_geostrophic_adjustment\""
      ]
     },
     "execution_count": 2,
     "metadata": {},
     "output_type": "execute_result"
    }
   ],
   "source": [
    "# Model parameters\n",
    "Nx = 300\n",
    "Nz = 80\n",
    "f = 1e-4               # Coriolis frequency [s⁻¹]\n",
    "L_front = 10kilometers  # Initial front width [m]\n",
    "aspect_ratio = 100      # L_front/H\n",
    "Ro = 0.1             # Rossby number (defines M^2)\n",
    "\n",
    "# Derived parameters\n",
    "H_front = L_front/aspect_ratio\n",
    "M² = (Ro^2*f^2*L_front)/H_front\n",
    "Δb = M²*L_front\n",
    "κh = 1e-7\n",
    "κv = 1e-7\n",
    "\n",
    "filename = \"periodic_geostrophic_adjustment\""
   ]
  },
  {
   "cell_type": "code",
   "execution_count": 3,
   "id": "6134609b",
   "metadata": {},
   "outputs": [
    {
     "data": {
      "text/plain": [
       "300×1×80 RectilinearGrid{Float64, Periodic, Flat, Bounded} on CUDAGPU with 3×0×3 halo\n",
       "├── Periodic x ∈ [-5000.0, 5000.0) regularly spaced with Δx=33.3333\n",
       "├── Flat y                         \n",
       "└── Bounded  z ∈ [-100.0, 0.0]     regularly spaced with Δz=1.25"
      ]
     },
     "execution_count": 3,
     "metadata": {},
     "output_type": "execute_result"
    }
   ],
   "source": [
    "\n",
    "grid = RectilinearGrid(GPU(),size = (Nx, Nz), \n",
    "                       x = (-L_front/2, L_front/2),\n",
    "                       z = (-H_front, 0),\n",
    "                       topology = (Periodic, Flat, Bounded))"
   ]
  },
  {
   "cell_type": "code",
   "execution_count": 4,
   "id": "0a7ef8a1",
   "metadata": {},
   "outputs": [
    {
     "data": {
      "text/plain": [
       "(HorizontalScalarDiffusivity{ExplicitTimeDiscretization}(ν=1.0e-7, κ=1.0e-7), VerticalScalarDiffusivity{ExplicitTimeDiscretization}(ν=1.0e-7, κ=1.0e-7))"
      ]
     },
     "execution_count": 4,
     "metadata": {},
     "output_type": "execute_result"
    }
   ],
   "source": [
    "horizontal_closure = HorizontalScalarDiffusivity(ν=κh, κ=κh )\n",
    "vertical_closure = VerticalScalarDiffusivity(ν=κv , κ=κv )\n",
    "closure = (horizontal_closure, vertical_closure)"
   ]
  },
  {
   "cell_type": "code",
   "execution_count": 5,
   "id": "195b96ff",
   "metadata": {},
   "outputs": [
    {
     "data": {
      "text/plain": [
       "NonhydrostaticModel{GPU, RectilinearGrid}(time = 0 seconds, iteration = 0)\n",
       "├── grid: 300×1×80 RectilinearGrid{Float64, Periodic, Flat, Bounded} on CUDAGPU with 3×0×3 halo\n",
       "├── timestepper: RungeKutta3TimeStepper\n",
       "├── advection scheme: WENO{3, Float64, Float32}(order=5)\n",
       "├── tracers: (b, T)\n",
       "├── closure: Tuple with 2 closures:\n",
       "│   ├── HorizontalScalarDiffusivity{ExplicitTimeDiscretization}(ν=1.0e-7, κ=(b=1.0e-7, T=1.0e-7))\n",
       "│   └── VerticalScalarDiffusivity{ExplicitTimeDiscretization}(ν=1.0e-7, κ=(b=1.0e-7, T=1.0e-7))\n",
       "├── buoyancy: BuoyancyTracer with ĝ = NegativeZDirection()\n",
       "└── coriolis: FPlane{Float64}(f=0.0001)"
      ]
     },
     "execution_count": 5,
     "metadata": {},
     "output_type": "execute_result"
    }
   ],
   "source": [
    "model =  NonhydrostaticModel(; grid,\n",
    "                coriolis = FPlane(f = f),\n",
    "                buoyancy = BuoyancyTracer(),\n",
    "                tracers = (:b,:T),\n",
    "                advection = WENO(),\n",
    "                closure = closure)"
   ]
  },
  {
   "cell_type": "code",
   "execution_count": 6,
   "id": "83bb4862",
   "metadata": {},
   "outputs": [],
   "source": [
    "bᵢ(x, z) = Δb*sin(2*pi/L_front * x)\n",
    "Tᵢ(x, z) = exp(-(x/(L_front/20)).^2)\n",
    "\n",
    "set!(model, b= bᵢ, T= Tᵢ, u = 0, v = 0, w = 0)  # Start from rest"
   ]
  },
  {
   "cell_type": "code",
   "execution_count": 7,
   "id": "d2366641",
   "metadata": {},
   "outputs": [
    {
     "data": {
      "text/plain": [
       "Simulation of NonhydrostaticModel{GPU, RectilinearGrid}(time = 0 seconds, iteration = 0)\n",
       "├── Next time step: 20 minutes\n",
       "├── Elapsed wall time: 0 seconds\n",
       "├── Wall time per iteration: NaN days\n",
       "├── Stop time: 5 days\n",
       "├── Stop iteration: Inf\n",
       "├── Wall time limit: Inf\n",
       "├── Minimum relative step: 0.0\n",
       "├── Callbacks: OrderedDict with 4 entries:\n",
       "│   ├── stop_time_exceeded => 4\n",
       "│   ├── stop_iteration_exceeded => -\n",
       "│   ├── wall_time_limit_exceeded => e\n",
       "│   └── nan_checker => }\n",
       "├── Output writers: OrderedDict with no entries\n",
       "└── Diagnostics: OrderedDict with no entries"
      ]
     },
     "execution_count": 7,
     "metadata": {},
     "output_type": "execute_result"
    }
   ],
   "source": [
    "simulation = Simulation(model, Δt=20minutes, stop_time=5days)\n"
   ]
  },
  {
   "cell_type": "code",
   "execution_count": 8,
   "id": "e30c1ea5",
   "metadata": {},
   "outputs": [],
   "source": [
    "conjure_time_step_wizard!(simulation, IterationInterval(20), cfl=0.2, max_Δt=20minutes)"
   ]
  },
  {
   "cell_type": "code",
   "execution_count": 9,
   "id": "fb2ceaa4",
   "metadata": {},
   "outputs": [],
   "source": [
    "\n",
    "wall_clock = Ref(time_ns())\n",
    "\n",
    "function print_progress(sim)\n",
    "    u, v, w = model.velocities\n",
    "    progress = 100 * (time(sim) / sim.stop_time)\n",
    "    elapsed = (time_ns() - wall_clock[]) / 1e9\n",
    "\n",
    "    @printf(\"[%05.2f%%] i: %d, t: %s, wall time: %s, max(u): (%6.3e, %6.3e, %6.3e) m/s, next Δt: %s\\n\",\n",
    "            progress, iteration(sim), prettytime(sim), prettytime(elapsed),\n",
    "            maximum(abs, u), maximum(abs, v), maximum(abs, w), prettytime(sim.Δt))\n",
    "\n",
    "    wall_clock[] = time_ns()\n",
    "\n",
    "    return nothing\n",
    "end\n",
    "\n",
    "add_callback!(simulation, print_progress, IterationInterval(50))"
   ]
  },
  {
   "cell_type": "code",
   "execution_count": 10,
   "id": "225d40eb",
   "metadata": {},
   "outputs": [
    {
     "data": {
      "text/plain": [
       "NetCDFWriter scheduled on TimeInterval(1 hour):\n",
       "├── filepath: periodic_geostrophic_adjustment.nc\n",
       "├── dimensions: time(0), x_faa(300), x_caa(300), z_aaf(81), z_aac(80)\n",
       "├── 6 outputs: (v, w, T, wc, b, u)\n",
       "├── array_type: Array{Float32}\n",
       "├── file_splitting: NoFileSplitting\n",
       "└── file size: 27.5 KiB"
      ]
     },
     "execution_count": 10,
     "metadata": {},
     "output_type": "execute_result"
    }
   ],
   "source": [
    "# Output setup\n",
    "u, v, w = model.velocities\n",
    "b = model.tracers.b\n",
    "wc = Field(@at (Center, Center, Center) model.velocities.w)\n",
    "T = model.tracers.T\n",
    "\n",
    "#For Lagrangian filtering\n",
    "simulation.output_writers[:jld2fields] = JLD2Writer(\n",
    "    model, (; b, u, v, w, wc,T), filename=filename * \".jld2\", schedule=TimeInterval(1hour), overwrite_existing=true)\n",
    "\n",
    "\n",
    "#for python visualisation\n",
    "rm(filename * \".nc\",force=true)\n",
    "simulation.output_writers[:ncfields] = NetCDFWriter(\n",
    "    model, (; b, u, v, w, wc,T), filename=filename * \".nc\", schedule=TimeInterval(1hour), overwrite_existing=true)\n",
    "    "
   ]
  },
  {
   "cell_type": "code",
   "execution_count": 11,
   "id": "6c8c960c",
   "metadata": {},
   "outputs": [
    {
     "name": "stderr",
     "output_type": "stream",
     "text": [
      "\u001b[36m\u001b[1m[ \u001b[22m\u001b[39m\u001b[36m\u001b[1mInfo: \u001b[22m\u001b[39mRunning the simulation...\n",
      "\u001b[36m\u001b[1m[ \u001b[22m\u001b[39m\u001b[36m\u001b[1mInfo: \u001b[22m\u001b[39mInitializing simulation...\n"
     ]
    },
    {
     "name": "stdout",
     "output_type": "stream",
     "text": [
      "[00.00%] i: 0, t: 0 seconds, wall time: 26.771 seconds, max(u): (0.000e+00, 0.000e+00, 0.000e+00) m/s, next Δt: 20 minutes\n"
     ]
    },
    {
     "name": "stderr",
     "output_type": "stream",
     "text": [
      "\u001b[36m\u001b[1m[ \u001b[22m\u001b[39m\u001b[36m\u001b[1mInfo: \u001b[22m\u001b[39m    ... simulation initialization complete (16.332 seconds)\n",
      "\u001b[36m\u001b[1m[ \u001b[22m\u001b[39m\u001b[36m\u001b[1mInfo: \u001b[22m\u001b[39mExecuting initial time step...\n",
      "\u001b[36m\u001b[1m[ \u001b[22m\u001b[39m\u001b[36m\u001b[1mInfo: \u001b[22m\u001b[39m    ... initial time step complete (2.568 seconds).\n"
     ]
    },
    {
     "name": "stdout",
     "output_type": "stream",
     "text": [
      "[09.40%] i: 50, t: 11.275 hours, wall time: 4.864 seconds, max(u): (2.399e-02, 5.051e-02, 4.262e-04) m/s, next Δt: 8.263 minutes\n",
      "[12.50%] i: 100, t: 15 hours, wall time: 171.728 ms, max(u): (2.476e-02, 1.292e-02, 3.950e-04) m/s, next Δt: 4.097 minutes\n",
      "[15.48%] i: 150, t: 18.578 hours, wall time: 190.847 ms, max(u): (1.191e-02, 2.350e-03, 2.417e-04) m/s, next Δt: 4.958 minutes\n",
      "[18.54%] i: 200, t: 22.253 hours, wall time: 194.796 ms, max(u): (3.044e-02, 3.489e-02, 5.429e-04) m/s, next Δt: 3.648 minutes\n",
      "[21.20%] i: 250, t: 1.060 days, wall time: 174.123 ms, max(u): (1.064e-02, 6.016e-02, 2.262e-04) m/s, next Δt: 4.414 minutes\n",
      "[24.46%] i: 300, t: 1.223 days, wall time: 187.299 ms, max(u): (2.735e-02, 4.596e-02, 5.808e-04) m/s, next Δt: 4.062 minutes\n",
      "[27.05%] i: 350, t: 1.352 days, wall time: 180.322 ms, max(u): (2.540e-02, 1.417e-02, 4.619e-04) m/s, next Δt: 3.917 minutes\n",
      "[29.96%] i: 400, t: 1.498 days, wall time: 178.525 ms, max(u): (1.175e-02, 3.424e-03, 3.193e-04) m/s, next Δt: 5.214 minutes\n",
      "[33.01%] i: 450, t: 1.651 days, wall time: 191.002 ms, max(u): (3.050e-02, 3.296e-02, 6.553e-04) m/s, next Δt: 3.676 minutes\n",
      "[35.63%] i: 500, t: 1.782 days, wall time: 173.506 ms, max(u): (1.290e-02, 5.922e-02, 3.750e-04) m/s, next Δt: 4.562 minutes\n",
      "[38.86%] i: 550, t: 1.943 days, wall time: 186.616 ms, max(u): (2.601e-02, 4.810e-02, 7.325e-04) m/s, next Δt: 5.369 minutes\n",
      "[41.60%] i: 600, t: 2.080 days, wall time: 181.326 ms, max(u): (2.545e-02, 1.442e-02, 5.837e-04) m/s, next Δt: 4.072 minutes\n",
      "[44.58%] i: 650, t: 2.229 days, wall time: 189.239 ms, max(u): (1.252e-02, 6.569e-03, 4.812e-04) m/s, next Δt: 4.927 minutes\n",
      "[47.66%] i: 700, t: 2.383 days, wall time: 192.130 ms, max(u): (3.026e-02, 3.321e-02, 8.404e-04) m/s, next Δt: 3.671 minutes\n",
      "[50.31%] i: 750, t: 2.515 days, wall time: 178.613 ms, max(u): (1.097e-02, 5.936e-02, 5.516e-04) m/s, next Δt: 4.442 minutes\n",
      "[53.63%] i: 800, t: 2.682 days, wall time: 186.500 ms, max(u): (2.663e-02, 4.569e-02, 1.057e-03) m/s, next Δt: 3.938 minutes\n",
      "[56.22%] i: 850, t: 2.811 days, wall time: 174.402 ms, max(u): (2.479e-02, 1.381e-02, 7.456e-04) m/s, next Δt: 3.975 minutes\n",
      "[59.17%] i: 900, t: 2.958 days, wall time: 185.084 ms, max(u): (1.228e-02, 9.457e-03, 6.971e-04) m/s, next Δt: 5.290 minutes\n",
      "[62.19%] i: 950, t: 3.109 days, wall time: 215.354 ms, max(u): (3.015e-02, 3.228e-02, 1.082e-03) m/s, next Δt: 3.743 minutes\n",
      "[64.77%] i: 1000, t: 3.238 days, wall time: 208.606 ms, max(u): (1.232e-02, 5.851e-02, 8.858e-04) m/s, next Δt: 4.342 minutes\n",
      "[67.77%] i: 1050, t: 3.389 days, wall time: 226.587 ms, max(u): (2.288e-02, 5.040e-02, 1.253e-03) m/s, next Δt: 3.896 minutes\n",
      "[69.84%] i: 1100, t: 3.492 days, wall time: 174.884 ms, max(u): (2.960e-02, 2.530e-02, 1.404e-03) m/s, next Δt: 2.965 minutes\n",
      "[72.02%] i: 1150, t: 3.601 days, wall time: 205.402 ms, max(u): (1.321e-02, 1.074e-02, 3.487e-04) m/s, next Δt: 3.588 minutes\n",
      "[74.71%] i: 1200, t: 3.735 days, wall time: 211.021 ms, max(u): (2.059e-02, 9.605e-03, 1.179e-03) m/s, next Δt: 3.491 minutes\n",
      "[76.92%] i: 1250, t: 3.846 days, wall time: 199.398 ms, max(u): (2.994e-02, 3.454e-02, 1.377e-03) m/s, next Δt: 2.996 minutes\n",
      "[78.85%] i: 1300, t: 3.943 days, wall time: 182.402 ms, max(u): (1.866e-02, 5.513e-02, 1.301e-03) m/s, next Δt: 3.171 minutes\n",
      "[81.15%] i: 1350, t: 4.058 days, wall time: 205.189 ms, max(u): (1.285e-02, 5.922e-02, 1.064e-03) m/s, next Δt: 3.837 minutes\n",
      "[83.18%] i: 1400, t: 4.159 days, wall time: 177.377 ms, max(u): (2.798e-02, 4.158e-02, 1.878e-03) m/s, next Δt: 2.216 minutes\n",
      "[84.67%] i: 1450, t: 4.234 days, wall time: 182.563 ms, max(u): (2.902e-02, 2.267e-02, 1.647e-03) m/s, next Δt: 2.327 minutes\n",
      "[86.42%] i: 1500, t: 4.321 days, wall time: 178.251 ms, max(u): (1.601e-02, 1.313e-02, 4.524e-04) m/s, next Δt: 3.097 minutes\n",
      "[88.64%] i: 1550, t: 4.432 days, wall time: 216.999 ms, max(u): (1.594e-02, 1.280e-02, 1.462e-03) m/s, next Δt: 3.177 minutes\n",
      "[90.49%] i: 1600, t: 4.525 days, wall time: 194.952 ms, max(u): (2.827e-02, 2.258e-02, 1.677e-03) m/s, next Δt: 2.433 minutes\n",
      "[92.07%] i: 1650, t: 4.604 days, wall time: 176.688 ms, max(u): (2.876e-02, 4.176e-02, 1.869e-03) m/s, next Δt: 2.228 minutes\n",
      "[93.54%] i: 1700, t: 4.677 days, wall time: 182.750 ms, max(u): (1.847e-02, 5.599e-02, 1.675e-03) m/s, next Δt: 2.334 minutes\n",
      "[95.24%] i: 1750, t: 4.762 days, wall time: 193.345 ms, max(u): (1.185e-02, 6.091e-02, 1.021e-03) m/s, next Δt: 2.824 minutes\n",
      "[97.17%] i: 1800, t: 4.859 days, wall time: 187.563 ms, max(u): (2.432e-02, 4.872e-02, 2.146e-03) m/s, next Δt: 1.939 minutes\n",
      "[98.38%] i: 1850, t: 4.919 days, wall time: 180.102 ms, max(u): (3.009e-02, 3.440e-02, 2.579e-03) m/s, next Δt: 1.629 minutes\n",
      "[99.51%] i: 1900, t: 4.976 days, wall time: 174.485 ms, max(u): (2.835e-02, 2.006e-02, 2.286e-03) m/s, next Δt: 1.820 minutes\n"
     ]
    },
    {
     "name": "stderr",
     "output_type": "stream",
     "text": [
      "\u001b[36m\u001b[1m[ \u001b[22m\u001b[39m\u001b[36m\u001b[1mInfo: \u001b[22m\u001b[39mSimulation is stopping after running for 26.583 seconds.\n",
      "\u001b[36m\u001b[1m[ \u001b[22m\u001b[39m\u001b[36m\u001b[1mInfo: \u001b[22m\u001b[39mSimulation time 5 days equals or exceeds stop time 5 days.\n",
      "\u001b[36m\u001b[1m[ \u001b[22m\u001b[39m\u001b[36m\u001b[1mInfo: \u001b[22m\u001b[39mSimulation completed in 26.617 seconds\n"
     ]
    }
   ],
   "source": [
    "@info \"Running the simulation...\"\n",
    "\n",
    "run!(simulation)\n",
    "\n",
    "@info \"Simulation completed in \" * prettytime(simulation.run_wall_time)"
   ]
  },
  {
   "cell_type": "code",
   "execution_count": null,
   "id": "89886e33",
   "metadata": {},
   "outputs": [],
   "source": []
  }
 ],
 "metadata": {
  "kernelspec": {
   "display_name": "OceananigansLagrangianFilter 1.10.9",
   "language": "julia",
   "name": "oceananiganslagrangianfilter-1.10"
  },
  "language_info": {
   "file_extension": ".jl",
   "mimetype": "application/julia",
   "name": "julia",
   "version": "1.10.9"
  }
 },
 "nbformat": 4,
 "nbformat_minor": 5
}
