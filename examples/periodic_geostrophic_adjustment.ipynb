{
 "cells": [
  {
   "cell_type": "code",
   "execution_count": 54,
   "id": "42bec694",
   "metadata": {},
   "outputs": [],
   "source": [
    "using Oceananigans \n",
    "using Oceananigans.Units\n",
    "using Oceananigans.TurbulenceClosures\n",
    "using Oceananigans.Architectures: GPU\n",
    "using CUDA: CuArray\n",
    "using CairoMakie \n",
    "using NCDatasets\n",
    "using Printf"
   ]
  },
  {
   "cell_type": "code",
   "execution_count": 105,
   "id": "1a0a67d7",
   "metadata": {},
   "outputs": [
    {
     "data": {
      "text/plain": [
       "\"periodic_geostrophic_adjustment_kh1e-2\""
      ]
     },
     "execution_count": 105,
     "metadata": {},
     "output_type": "execute_result"
    }
   ],
   "source": [
    "# Model parameters\n",
    "Nx = 300\n",
    "Nz = 80\n",
    "f = 1e-4               # Coriolis frequency [s⁻¹]\n",
    "L_front = 10kilometers  # Initial front width [m]\n",
    "aspect_ratio = 100      # L_front/H\n",
    "Ro = 0.08            # Rossby number (defines M^2)\n",
    "\n",
    "# Derived parameters\n",
    "H_front = L_front/aspect_ratio\n",
    "M² = (Ro^2*f^2*L_front)/H_front\n",
    "Δb = M²*L_front\n",
    "κh = 1e-4\n",
    "κv = 1e-4\n",
    "\n",
    "filename = \"periodic_geostrophic_adjustment_kh1e-2\""
   ]
  },
  {
   "cell_type": "code",
   "execution_count": 106,
   "id": "6134609b",
   "metadata": {},
   "outputs": [
    {
     "data": {
      "text/plain": [
       "300×1×80 RectilinearGrid{Float64, Periodic, Flat, Bounded} on CUDAGPU with 3×0×3 halo\n",
       "├── Periodic x ∈ [-5000.0, 5000.0) regularly spaced with Δx=33.3333\n",
       "├── Flat y                         \n",
       "└── Bounded  z ∈ [-100.0, 0.0]     regularly spaced with Δz=1.25"
      ]
     },
     "execution_count": 106,
     "metadata": {},
     "output_type": "execute_result"
    }
   ],
   "source": [
    "\n",
    "grid = RectilinearGrid(GPU(),size = (Nx, Nz), \n",
    "                       x = (-L_front/2, L_front/2),\n",
    "                       z = (-H_front, 0),\n",
    "                       topology = (Periodic, Flat, Bounded))"
   ]
  },
  {
   "cell_type": "code",
   "execution_count": 107,
   "id": "0a7ef8a1",
   "metadata": {},
   "outputs": [
    {
     "data": {
      "text/plain": [
       "(HorizontalScalarDiffusivity{ExplicitTimeDiscretization}(ν=0.0001, κ=0.0001), VerticalScalarDiffusivity{ExplicitTimeDiscretization}(ν=0.0001, κ=0.0001))"
      ]
     },
     "execution_count": 107,
     "metadata": {},
     "output_type": "execute_result"
    }
   ],
   "source": [
    "horizontal_closure = HorizontalScalarDiffusivity(ν=κh, κ=κh )\n",
    "vertical_closure = VerticalScalarDiffusivity(ν=κv , κ=κv )\n",
    "closure = (horizontal_closure, vertical_closure)"
   ]
  },
  {
   "cell_type": "code",
   "execution_count": 108,
   "id": "195b96ff",
   "metadata": {},
   "outputs": [
    {
     "data": {
      "text/plain": [
       "NonhydrostaticModel{GPU, RectilinearGrid}(time = 0 seconds, iteration = 0)\n",
       "├── grid: 300×1×80 RectilinearGrid{Float64, Periodic, Flat, Bounded} on CUDAGPU with 3×0×3 halo\n",
       "├── timestepper: RungeKutta3TimeStepper\n",
       "├── advection scheme: WENO{3, Float64, Float32}(order=5)\n",
       "├── tracers: (b, T)\n",
       "├── closure: Tuple with 2 closures:\n",
       "│   ├── HorizontalScalarDiffusivity{ExplicitTimeDiscretization}(ν=0.0001, κ=(b=0.0001, T=0.0001))\n",
       "│   └── VerticalScalarDiffusivity{ExplicitTimeDiscretization}(ν=0.0001, κ=(b=0.0001, T=0.0001))\n",
       "├── buoyancy: BuoyancyTracer with ĝ = NegativeZDirection()\n",
       "└── coriolis: FPlane{Float64}(f=0.0001)"
      ]
     },
     "execution_count": 108,
     "metadata": {},
     "output_type": "execute_result"
    }
   ],
   "source": [
    "model =  NonhydrostaticModel(; grid,\n",
    "                coriolis = FPlane(f = f),\n",
    "                buoyancy = BuoyancyTracer(),\n",
    "                tracers = (:b,:T),\n",
    "                advection = WENO(),\n",
    "                closure = closure)"
   ]
  },
  {
   "cell_type": "code",
   "execution_count": 109,
   "id": "83bb4862",
   "metadata": {},
   "outputs": [],
   "source": [
    "bᵢ(x, z) = Δb*sin(2*pi/L_front * x)\n",
    "Tᵢ(x, z) = exp(-(x/(L_front/20)).^2)\n",
    "\n",
    "set!(model, b= bᵢ, T= Tᵢ, u = 0, v = 0, w = 0)  # Start from rest"
   ]
  },
  {
   "cell_type": "code",
   "execution_count": 110,
   "id": "d2366641",
   "metadata": {},
   "outputs": [
    {
     "data": {
      "text/plain": [
       "Simulation of NonhydrostaticModel{GPU, RectilinearGrid}(time = 0 seconds, iteration = 0)\n",
       "├── Next time step: 20 minutes\n",
       "├── Elapsed wall time: 0 seconds\n",
       "├── Wall time per iteration: NaN days\n",
       "├── Stop time: 5 days\n",
       "├── Stop iteration: Inf\n",
       "├── Wall time limit: Inf\n",
       "├── Minimum relative step: 0.0\n",
       "├── Callbacks: OrderedDict with 4 entries:\n",
       "│   ├── stop_time_exceeded => 4\n",
       "│   ├── stop_iteration_exceeded => -\n",
       "│   ├── wall_time_limit_exceeded => e\n",
       "│   └── nan_checker => }\n",
       "├── Output writers: OrderedDict with no entries\n",
       "└── Diagnostics: OrderedDict with no entries"
      ]
     },
     "execution_count": 110,
     "metadata": {},
     "output_type": "execute_result"
    }
   ],
   "source": [
    "simulation = Simulation(model, Δt=20minutes, stop_time=5days)\n"
   ]
  },
  {
   "cell_type": "code",
   "execution_count": 111,
   "id": "e30c1ea5",
   "metadata": {},
   "outputs": [],
   "source": [
    "conjure_time_step_wizard!(simulation, IterationInterval(20), cfl=0.2, max_Δt=20minutes)"
   ]
  },
  {
   "cell_type": "code",
   "execution_count": 112,
   "id": "fb2ceaa4",
   "metadata": {},
   "outputs": [],
   "source": [
    "\n",
    "wall_clock = Ref(time_ns())\n",
    "\n",
    "function print_progress(sim)\n",
    "    u, v, w = model.velocities\n",
    "    progress = 100 * (time(sim) / sim.stop_time)\n",
    "    elapsed = (time_ns() - wall_clock[]) / 1e9\n",
    "\n",
    "    @printf(\"[%05.2f%%] i: %d, t: %s, wall time: %s, max(u): (%6.3e, %6.3e, %6.3e) m/s, next Δt: %s\\n\",\n",
    "            progress, iteration(sim), prettytime(sim), prettytime(elapsed),\n",
    "            maximum(abs, u), maximum(abs, v), maximum(abs, w), prettytime(sim.Δt))\n",
    "\n",
    "    wall_clock[] = time_ns()\n",
    "\n",
    "    return nothing\n",
    "end\n",
    "\n",
    "add_callback!(simulation, print_progress, IterationInterval(50))"
   ]
  },
  {
   "cell_type": "code",
   "execution_count": 113,
   "id": "225d40eb",
   "metadata": {},
   "outputs": [
    {
     "data": {
      "text/plain": [
       "NetCDFWriter scheduled on TimeInterval(1 hour):\n",
       "├── filepath: periodic_geostrophic_adjustment_kh1e-2.nc\n",
       "├── dimensions: time(0), x_faa(300), x_caa(300), z_aaf(81), z_aac(80)\n",
       "├── 6 outputs: (v, w, T, wc, b, u)\n",
       "├── array_type: Array{Float32}\n",
       "├── file_splitting: NoFileSplitting\n",
       "└── file size: 27.5 KiB"
      ]
     },
     "execution_count": 113,
     "metadata": {},
     "output_type": "execute_result"
    }
   ],
   "source": [
    "# Output setup\n",
    "u, v, w = model.velocities\n",
    "b = model.tracers.b\n",
    "wc = Field(@at (Center, Center, Center) model.velocities.w)\n",
    "T = model.tracers.T\n",
    "\n",
    "#For Lagrangian filtering\n",
    "simulation.output_writers[:jld2fields] = JLD2Writer(\n",
    "    model, (; b, u, v, w, wc,T), filename=filename * \".jld2\", schedule=TimeInterval(1hour), overwrite_existing=true)\n",
    "\n",
    "\n",
    "#for python visualisation\n",
    "rm(filename * \".nc\",force=true)\n",
    "simulation.output_writers[:ncfields] = NetCDFWriter(\n",
    "    model, (; b, u, v, w, wc,T), filename=filename * \".nc\", schedule=TimeInterval(1hour), overwrite_existing=true)\n",
    "    "
   ]
  },
  {
   "cell_type": "code",
   "execution_count": 114,
   "id": "6c8c960c",
   "metadata": {},
   "outputs": [
    {
     "name": "stdout",
     "output_type": "stream",
     "text": [
      "[00.00%] i: 0, t: 0 seconds, wall time: 1.358 seconds, max(u): (0.000e+00, 0.000e+00, 0.000e+00) m/s, next Δt: 20 minutes\n"
     ]
    },
    {
     "name": "stderr",
     "output_type": "stream",
     "text": [
      "\u001b[36m\u001b[1m[ \u001b[22m\u001b[39m\u001b[36m\u001b[1mInfo: \u001b[22m\u001b[39mRunning the simulation...\n",
      "\u001b[36m\u001b[1m[ \u001b[22m\u001b[39m\u001b[36m\u001b[1mInfo: \u001b[22m\u001b[39mInitializing simulation...\n",
      "\u001b[36m\u001b[1m[ \u001b[22m\u001b[39m\u001b[36m\u001b[1mInfo: \u001b[22m\u001b[39m    ... simulation initialization complete (39.386 ms)\n",
      "\u001b[36m\u001b[1m[ \u001b[22m\u001b[39m\u001b[36m\u001b[1mInfo: \u001b[22m\u001b[39mExecuting initial time step...\n",
      "\u001b[36m\u001b[1m[ \u001b[22m\u001b[39m\u001b[36m\u001b[1mInfo: \u001b[22m\u001b[39m    ... initial time step complete (3.444 ms).\n"
     ]
    },
    {
     "name": "stdout",
     "output_type": "stream",
     "text": [
      "[09.78%] i: 50, t: 11.733 hours, wall time: 328.582 ms, max(u): (1.646e-02, 2.908e-02, 2.868e-04) m/s, next Δt: 11 minutes\n",
      "[14.35%] i: 100, t: 17.218 hours, wall time: 230.144 ms, max(u): (2.560e-03, 9.525e-04, 3.193e-05) m/s, next Δt: 7.179 minutes\n",
      "[19.07%] i: 150, t: 22.880 hours, wall time: 209.889 ms, max(u): (1.765e-02, 2.644e-02, 3.078e-04) m/s, next Δt: 5.865 minutes\n",
      "[23.29%] i: 200, t: 1.164 days, wall time: 208.807 ms, max(u): (1.090e-02, 3.503e-02, 2.031e-04) m/s, next Δt: 7.807 minutes\n",
      "[27.87%] i: 250, t: 1.394 days, wall time: 215.417 ms, max(u): (1.014e-02, 4.462e-03, 1.696e-04) m/s, next Δt: 6.731 minutes\n",
      "[32.73%] i: 300, t: 1.636 days, wall time: 215.978 ms, max(u): (1.838e-02, 1.942e-02, 3.523e-04) m/s, next Δt: 6.042 minutes\n",
      "[36.97%] i: 350, t: 1.849 days, wall time: 203.859 ms, max(u): (5.693e-03, 3.730e-02, 1.063e-04) m/s, next Δt: 7.311 minutes\n",
      "[41.67%] i: 400, t: 2.083 days, wall time: 195.796 ms, max(u): (1.409e-02, 9.084e-03, 2.870e-04) m/s, next Δt: 6.924 minutes\n",
      "[46.65%] i: 450, t: 2.332 days, wall time: 214.542 ms, max(u): (1.709e-02, 1.462e-02, 3.809e-04) m/s, next Δt: 8.378 minutes\n",
      "[51.12%] i: 500, t: 2.556 days, wall time: 217.016 ms, max(u): (3.768e-03, 3.719e-02, 7.049e-05) m/s, next Δt: 7.585 minutes\n",
      "[56.11%] i: 550, t: 2.806 days, wall time: 214.277 ms, max(u): (1.419e-02, 1.008e-02, 3.463e-04) m/s, next Δt: 6.674 minutes\n",
      "[60.95%] i: 600, t: 3.047 days, wall time: 216.398 ms, max(u): (1.593e-02, 1.279e-02, 4.280e-04) m/s, next Δt: 6.975 minutes\n",
      "[65.63%] i: 650, t: 3.281 days, wall time: 200.297 ms, max(u): (3.831e-03, 3.666e-02, 9.813e-05) m/s, next Δt: 7.559 minutes\n",
      "[70.66%] i: 700, t: 3.533 days, wall time: 214.500 ms, max(u): (1.375e-02, 1.032e-02, 4.121e-04) m/s, next Δt: 7.476 minutes\n",
      "[75.83%] i: 750, t: 3.792 days, wall time: 216.986 ms, max(u): (1.616e-02, 1.506e-02, 5.235e-04) m/s, next Δt: 9.047 minutes\n",
      "[80.83%] i: 800, t: 4.042 days, wall time: 217.958 ms, max(u): (7.035e-03, 3.544e-02, 2.220e-04) m/s, next Δt: 8.246 minutes\n",
      "[85.49%] i: 850, t: 4.275 days, wall time: 215.577 ms, max(u): (1.210e-02, 9.007e-03, 4.433e-04) m/s, next Δt: 7.068 minutes\n",
      "[90.59%] i: 900, t: 4.530 days, wall time: 217.634 ms, max(u): (1.599e-02, 1.646e-02, 6.277e-04) m/s, next Δt: 6.629 minutes\n",
      "[95.21%] i: 950, t: 4.761 days, wall time: 270.350 ms, max(u): (6.042e-03, 3.530e-02, 2.349e-04) m/s, next Δt: 7.634 minutes\n",
      "[99.75%] i: 1000, t: 4.988 days, wall time: 240.805 ms, max(u): (1.285e-02, 1.084e-02, 6.055e-04) m/s, next Δt: 5.798 minutes\n"
     ]
    },
    {
     "name": "stderr",
     "output_type": "stream",
     "text": [
      "\u001b[36m\u001b[1m[ \u001b[22m\u001b[39m\u001b[36m\u001b[1mInfo: \u001b[22m\u001b[39mSimulation is stopping after running for 4.512 seconds.\n",
      "\u001b[36m\u001b[1m[ \u001b[22m\u001b[39m\u001b[36m\u001b[1mInfo: \u001b[22m\u001b[39mSimulation time 5 days equals or exceeds stop time 5 days.\n",
      "\u001b[36m\u001b[1m[ \u001b[22m\u001b[39m\u001b[36m\u001b[1mInfo: \u001b[22m\u001b[39mSimulation completed in 4.533 seconds\n"
     ]
    }
   ],
   "source": [
    "@info \"Running the simulation...\"\n",
    "\n",
    "run!(simulation)\n",
    "\n",
    "@info \"Simulation completed in \" * prettytime(simulation.run_wall_time)"
   ]
  },
  {
   "cell_type": "code",
   "execution_count": null,
   "id": "e1e94f30",
   "metadata": {},
   "outputs": [],
   "source": []
  }
 ],
 "metadata": {
  "kernelspec": {
   "display_name": "OceananigansLagrangianFilter 1.10.9",
   "language": "julia",
   "name": "oceananiganslagrangianfilter-1.10"
  },
  "language_info": {
   "file_extension": ".jl",
   "mimetype": "application/julia",
   "name": "julia",
   "version": "1.10.9"
  }
 },
 "nbformat": 4,
 "nbformat_minor": 5
}
