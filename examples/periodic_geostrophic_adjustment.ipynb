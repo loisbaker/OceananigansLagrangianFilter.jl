{
 "cells": [
  {
   "cell_type": "code",
   "execution_count": 2,
   "id": "42bec694",
   "metadata": {},
   "outputs": [],
   "source": [
    "using Oceananigans \n",
    "using Oceananigans.Units\n",
    "using Oceananigans.TurbulenceClosures\n",
    "using Oceananigans.Architectures: GPU\n",
    "using CUDA: CuArray\n",
    "using CairoMakie \n",
    "using NCDatasets\n",
    "using Printf"
   ]
  },
  {
   "cell_type": "code",
   "execution_count": 3,
   "id": "1a0a67d7",
   "metadata": {},
   "outputs": [
    {
     "data": {
      "text/plain": [
       "\"periodic_geostrophic_adjustment\""
      ]
     },
     "execution_count": 3,
     "metadata": {},
     "output_type": "execute_result"
    }
   ],
   "source": [
    "# Model parameters\n",
    "Nx = 300\n",
    "Nz = 80\n",
    "f = 1e-4               # Coriolis frequency [s⁻¹]\n",
    "L_front = 10kilometers  # Initial front width [m]\n",
    "aspect_ratio = 100      # L_front/H\n",
    "Ro = 0.1           # Rossby number (defines M^2)\n",
    "\n",
    "# Derived parameters\n",
    "H_front = L_front/aspect_ratio\n",
    "M² = (Ro^2*f^2*L_front)/H_front\n",
    "Δb = M²*L_front\n",
    "κh = 1e-4\n",
    "κv = 1e-4\n",
    "\n",
    "filename = \"periodic_geostrophic_adjustment\""
   ]
  },
  {
   "cell_type": "code",
   "execution_count": 4,
   "id": "6134609b",
   "metadata": {},
   "outputs": [
    {
     "data": {
      "text/plain": [
       "300×1×80 RectilinearGrid{Float64, Periodic, Flat, Bounded} on CUDAGPU with 3×0×3 halo\n",
       "├── Periodic x ∈ [-5000.0, 5000.0) regularly spaced with Δx=33.3333\n",
       "├── Flat y                         \n",
       "└── Bounded  z ∈ [-100.0, 0.0]     regularly spaced with Δz=1.25"
      ]
     },
     "execution_count": 4,
     "metadata": {},
     "output_type": "execute_result"
    }
   ],
   "source": [
    "\n",
    "grid = RectilinearGrid(GPU(),size = (Nx, Nz), \n",
    "                       x = (-L_front/2, L_front/2),\n",
    "                       z = (-H_front, 0),\n",
    "                       topology = (Periodic, Flat, Bounded))"
   ]
  },
  {
   "cell_type": "code",
   "execution_count": 5,
   "id": "0a7ef8a1",
   "metadata": {},
   "outputs": [
    {
     "data": {
      "text/plain": [
       "(HorizontalScalarDiffusivity{ExplicitTimeDiscretization}(ν=0.0001, κ=0.0001), VerticalScalarDiffusivity{ExplicitTimeDiscretization}(ν=0.0001, κ=0.0001))"
      ]
     },
     "execution_count": 5,
     "metadata": {},
     "output_type": "execute_result"
    }
   ],
   "source": [
    "horizontal_closure = HorizontalScalarDiffusivity(ν=κh, κ=κh )\n",
    "vertical_closure = VerticalScalarDiffusivity(ν=κv , κ=κv )\n",
    "closure = (horizontal_closure, vertical_closure)"
   ]
  },
  {
   "cell_type": "code",
   "execution_count": 6,
   "id": "195b96ff",
   "metadata": {},
   "outputs": [
    {
     "data": {
      "text/plain": [
       "NonhydrostaticModel{GPU, RectilinearGrid}(time = 0 seconds, iteration = 0)\n",
       "├── grid: 300×1×80 RectilinearGrid{Float64, Periodic, Flat, Bounded} on CUDAGPU with 3×0×3 halo\n",
       "├── timestepper: RungeKutta3TimeStepper\n",
       "├── advection scheme: WENO{3, Float64, Float32}(order=5)\n",
       "├── tracers: (b, T)\n",
       "├── closure: Tuple with 2 closures:\n",
       "│   ├── HorizontalScalarDiffusivity{ExplicitTimeDiscretization}(ν=0.0001, κ=(b=0.0001, T=0.0001))\n",
       "│   └── VerticalScalarDiffusivity{ExplicitTimeDiscretization}(ν=0.0001, κ=(b=0.0001, T=0.0001))\n",
       "├── buoyancy: BuoyancyTracer with ĝ = NegativeZDirection()\n",
       "└── coriolis: FPlane{Float64}(f=0.0001)"
      ]
     },
     "execution_count": 6,
     "metadata": {},
     "output_type": "execute_result"
    }
   ],
   "source": [
    "model =  NonhydrostaticModel(; grid,\n",
    "                coriolis = FPlane(f = f),\n",
    "                buoyancy = BuoyancyTracer(),\n",
    "                tracers = (:b,:T),\n",
    "                advection = WENO(),\n",
    "                closure = closure)"
   ]
  },
  {
   "cell_type": "code",
   "execution_count": 7,
   "id": "83bb4862",
   "metadata": {},
   "outputs": [],
   "source": [
    "bᵢ(x, z) = Δb*sin(2*pi/L_front * x)\n",
    "Tᵢ(x, z) = exp(-(x/(L_front/50)).^2)\n",
    "\n",
    "set!(model, b= bᵢ, T= Tᵢ, u = 0, v = 0, w = 0)  # Start from rest"
   ]
  },
  {
   "cell_type": "code",
   "execution_count": 8,
   "id": "d2366641",
   "metadata": {},
   "outputs": [
    {
     "data": {
      "text/plain": [
       "Simulation of NonhydrostaticModel{GPU, RectilinearGrid}(time = 0 seconds, iteration = 0)\n",
       "├── Next time step: 20 minutes\n",
       "├── Elapsed wall time: 0 seconds\n",
       "├── Wall time per iteration: NaN days\n",
       "├── Stop time: 4 days\n",
       "├── Stop iteration: Inf\n",
       "├── Wall time limit: Inf\n",
       "├── Minimum relative step: 0.0\n",
       "├── Callbacks: OrderedDict with 4 entries:\n",
       "│   ├── stop_time_exceeded => 4\n",
       "│   ├── stop_iteration_exceeded => -\n",
       "│   ├── wall_time_limit_exceeded => e\n",
       "│   └── nan_checker => }\n",
       "├── Output writers: OrderedDict with no entries\n",
       "└── Diagnostics: OrderedDict with no entries"
      ]
     },
     "execution_count": 8,
     "metadata": {},
     "output_type": "execute_result"
    }
   ],
   "source": [
    "simulation = Simulation(model, Δt=20minutes, stop_time=4days)\n"
   ]
  },
  {
   "cell_type": "code",
   "execution_count": 9,
   "id": "e30c1ea5",
   "metadata": {},
   "outputs": [],
   "source": [
    "conjure_time_step_wizard!(simulation, IterationInterval(20), cfl=0.2, max_Δt=20minutes)"
   ]
  },
  {
   "cell_type": "code",
   "execution_count": 10,
   "id": "fb2ceaa4",
   "metadata": {},
   "outputs": [],
   "source": [
    "\n",
    "wall_clock = Ref(time_ns())\n",
    "\n",
    "function print_progress(sim)\n",
    "    u, v, w = model.velocities\n",
    "    progress = 100 * (time(sim) / sim.stop_time)\n",
    "    elapsed = (time_ns() - wall_clock[]) / 1e9\n",
    "\n",
    "    @printf(\"[%05.2f%%] i: %d, t: %s, wall time: %s, max(u): (%6.3e, %6.3e, %6.3e) m/s, next Δt: %s\\n\",\n",
    "            progress, iteration(sim), prettytime(sim), prettytime(elapsed),\n",
    "            maximum(abs, u), maximum(abs, v), maximum(abs, w), prettytime(sim.Δt))\n",
    "\n",
    "    wall_clock[] = time_ns()\n",
    "\n",
    "    return nothing\n",
    "end\n",
    "\n",
    "add_callback!(simulation, print_progress, IterationInterval(50))"
   ]
  },
  {
   "cell_type": "code",
   "execution_count": 113,
   "id": "225d40eb",
   "metadata": {},
   "outputs": [
    {
     "data": {
      "text/plain": [
       "NetCDFWriter scheduled on TimeInterval(1 hour):\n",
       "├── filepath: periodic_geostrophic_adjustment_kh1e-2.nc\n",
       "├── dimensions: time(0), x_faa(300), x_caa(300), z_aaf(81), z_aac(80)\n",
       "├── 6 outputs: (v, w, T, wc, b, u)\n",
       "├── array_type: Array{Float32}\n",
       "├── file_splitting: NoFileSplitting\n",
       "└── file size: 27.5 KiB"
      ]
     },
     "execution_count": 113,
     "metadata": {},
     "output_type": "execute_result"
    }
   ],
   "source": [
    "# Output setup\n",
    "u, v, w = model.velocities\n",
    "b = model.tracers.b\n",
    "wc = Field(@at (Center, Center, Center) model.velocities.w)\n",
    "T = model.tracers.T\n",
    "\n",
    "#For Lagrangian filtering\n",
    "simulation.output_writers[:jld2fields] = JLD2Writer(\n",
    "    model, (; b, u, v, w, wc,T), filename=filename * \".jld2\", schedule=TimeInterval(1hour), overwrite_existing=true)\n",
    "\n",
    "\n",
    "#for python visualisation\n",
    "rm(filename * \".nc\",force=true)\n",
    "simulation.output_writers[:ncfields] = NetCDFWriter(\n",
    "    model, (; b, u, v, w, wc,T), filename=filename * \".nc\", schedule=TimeInterval(1hour), overwrite_existing=true)\n",
    "    "
   ]
  },
  {
   "cell_type": "code",
   "execution_count": 11,
   "id": "6c8c960c",
   "metadata": {},
   "outputs": [
    {
     "name": "stderr",
     "output_type": "stream",
     "text": [
      "\u001b[36m\u001b[1m[ \u001b[22m\u001b[39m\u001b[36m\u001b[1mInfo: \u001b[22m\u001b[39mRunning the simulation...\n",
      "\u001b[36m\u001b[1m[ \u001b[22m\u001b[39m\u001b[36m\u001b[1mInfo: \u001b[22m\u001b[39mInitializing simulation...\n"
     ]
    },
    {
     "name": "stdout",
     "output_type": "stream",
     "text": [
      "[00.00%] i: 0, t: 0 seconds, wall time: 13.552 seconds, max(u): (0.000e+00, 0.000e+00, 0.000e+00) m/s, next Δt: 20 minutes\n"
     ]
    },
    {
     "name": "stderr",
     "output_type": "stream",
     "text": [
      "\u001b[36m\u001b[1m[ \u001b[22m\u001b[39m\u001b[36m\u001b[1mInfo: \u001b[22m\u001b[39m    ... simulation initialization complete (14.920 seconds)\n",
      "\u001b[36m\u001b[1m[ \u001b[22m\u001b[39m\u001b[36m\u001b[1mInfo: \u001b[22m\u001b[39mExecuting initial time step...\n",
      "\u001b[36m\u001b[1m[ \u001b[22m\u001b[39m\u001b[36m\u001b[1mInfo: \u001b[22m\u001b[39m    ... initial time step complete (2.677 seconds).\n"
     ]
    },
    {
     "name": "stdout",
     "output_type": "stream",
     "text": [
      "[11.93%] i: 50, t: 11.457 hours, wall time: 3.032 seconds, max(u): (2.387e-02, 4.831e-02, 4.446e-04) m/s, next Δt: 8.744 minutes\n",
      "[16.41%] i: 100, t: 15.757 hours, wall time: 147.242 ms, max(u): (1.809e-02, 7.771e-03, 2.844e-04) m/s, next Δt: 4.572 minutes\n",
      "[20.71%] i: 150, t: 19.880 hours, wall time: 120.810 ms, max(u): (2.225e-02, 1.146e-02, 4.196e-04) m/s, next Δt: 5.532 minutes\n",
      "[24.40%] i: 200, t: 23.424 hours, wall time: 128.232 ms, max(u): (2.505e-02, 4.579e-02, 4.867e-04) m/s, next Δt: 4.178 minutes\n",
      "[28.32%] i: 250, t: 1.133 days, wall time: 126.036 ms, max(u): (1.102e-02, 5.823e-02, 2.150e-04) m/s, next Δt: 5.055 minutes\n",
      "[32.56%] i: 300, t: 1.302 days, wall time: 127.570 ms, max(u): (2.763e-02, 2.642e-02, 6.022e-04) m/s, next Δt: 4.020 minutes\n",
      "[36.33%] i: 350, t: 1.453 days, wall time: 131.918 ms, max(u): (5.080e-03, 2.644e-03, 1.221e-04) m/s, next Δt: 4.864 minutes\n",
      "[40.78%] i: 400, t: 1.631 days, wall time: 122.973 ms, max(u): (2.821e-02, 2.802e-02, 6.456e-04) m/s, next Δt: 3.937 minutes\n",
      "[44.40%] i: 450, t: 1.776 days, wall time: 131.908 ms, max(u): (1.321e-02, 5.602e-02, 3.932e-04) m/s, next Δt: 4.622 minutes\n",
      "[48.91%] i: 500, t: 1.957 days, wall time: 122.307 ms, max(u): (2.477e-02, 4.356e-02, 7.688e-04) m/s, next Δt: 4.484 minutes\n",
      "[52.69%] i: 550, t: 2.108 days, wall time: 131.629 ms, max(u): (1.881e-02, 1.096e-02, 4.282e-04) m/s, next Δt: 4.540 minutes\n",
      "[57.12%] i: 600, t: 2.285 days, wall time: 123.943 ms, max(u): (2.057e-02, 1.199e-02, 6.909e-04) m/s, next Δt: 5.402 minutes\n",
      "[61.18%] i: 650, t: 2.447 days, wall time: 129.667 ms, max(u): (2.200e-02, 4.665e-02, 7.788e-04) m/s, next Δt: 4.384 minutes\n",
      "[65.46%] i: 700, t: 2.618 days, wall time: 126.782 ms, max(u): (1.591e-02, 5.377e-02, 6.123e-04) m/s, next Δt: 5.835 minutes\n",
      "[69.46%] i: 750, t: 2.779 days, wall time: 125.340 ms, max(u): (2.445e-02, 2.239e-02, 9.605e-04) m/s, next Δt: 3.843 minutes\n",
      "[73.21%] i: 800, t: 2.929 days, wall time: 132.331 ms, max(u): (7.690e-03, 8.037e-03, 4.959e-04) m/s, next Δt: 5.114 minutes\n",
      "[77.33%] i: 850, t: 3.093 days, wall time: 121.120 ms, max(u): (2.617e-02, 2.849e-02, 1.066e-03) m/s, next Δt: 4.013 minutes\n",
      "[80.74%] i: 900, t: 3.229 days, wall time: 132.853 ms, max(u): (1.229e-02, 5.354e-02, 9.042e-04) m/s, next Δt: 4.340 minutes\n",
      "[84.62%] i: 950, t: 3.385 days, wall time: 124.931 ms, max(u): (1.980e-02, 4.768e-02, 1.206e-03) m/s, next Δt: 4.159 minutes\n",
      "[87.32%] i: 1000, t: 3.493 days, wall time: 132.574 ms, max(u): (2.458e-02, 2.561e-02, 1.378e-03) m/s, next Δt: 3.012 minutes\n",
      "[90.15%] i: 1050, t: 3.606 days, wall time: 123.142 ms, max(u): (9.331e-03, 8.882e-03, 3.301e-04) m/s, next Δt: 3.644 minutes\n",
      "[93.70%] i: 1100, t: 3.748 days, wall time: 134.956 ms, max(u): (1.912e-02, 1.416e-02, 1.204e-03) m/s, next Δt: 3.415 minutes\n",
      "[96.49%] i: 1150, t: 3.860 days, wall time: 124.583 ms, max(u): (2.485e-02, 3.665e-02, 1.379e-03) m/s, next Δt: 2.974 minutes\n",
      "[99.08%] i: 1200, t: 3.963 days, wall time: 129.970 ms, max(u): (1.140e-02, 5.328e-02, 1.193e-03) m/s, next Δt: 3.381 minutes\n"
     ]
    },
    {
     "name": "stderr",
     "output_type": "stream",
     "text": [
      "\u001b[36m\u001b[1m[ \u001b[22m\u001b[39m\u001b[36m\u001b[1mInfo: \u001b[22m\u001b[39mSimulation is stopping after running for 21.003 seconds.\n",
      "\u001b[36m\u001b[1m[ \u001b[22m\u001b[39m\u001b[36m\u001b[1mInfo: \u001b[22m\u001b[39mSimulation time 4 days equals or exceeds stop time 4 days.\n",
      "\u001b[36m\u001b[1m[ \u001b[22m\u001b[39m\u001b[36m\u001b[1mInfo: \u001b[22m\u001b[39mSimulation completed in 21.006 seconds\n"
     ]
    }
   ],
   "source": [
    "@info \"Running the simulation...\"\n",
    "\n",
    "run!(simulation)\n",
    "\n",
    "@info \"Simulation completed in \" * prettytime(simulation.run_wall_time)"
   ]
  },
  {
   "cell_type": "code",
   "execution_count": null,
   "id": "e1e94f30",
   "metadata": {},
   "outputs": [],
   "source": []
  }
 ],
 "metadata": {
  "kernelspec": {
   "display_name": "OceananigansLagrangianFilter 1.10.9",
   "language": "julia",
   "name": "oceananiganslagrangianfilter-1.10"
  },
  "language_info": {
   "file_extension": ".jl",
   "mimetype": "application/julia",
   "name": "julia",
   "version": "1.10.9"
  }
 },
 "nbformat": 4,
 "nbformat_minor": 5
}
