{
 "cells": [
  {
   "cell_type": "code",
   "execution_count": 1,
   "id": "42bec694",
   "metadata": {},
   "outputs": [],
   "source": [
    "using Oceananigans \n",
    "using Oceananigans.Units\n",
    "using Oceananigans.OutputReaders: FieldTimeSeries\n",
    "using Oceananigans.BoundaryConditions\n",
    "using Oceananigans.TurbulenceClosures\n",
    "using Oceananigans.Architectures: GPU\n",
    "using CUDA: CuArray\n",
    "using CairoMakie \n",
    "using NCDatasets"
   ]
  },
  {
   "cell_type": "code",
   "execution_count": 2,
   "id": "1a0a67d7",
   "metadata": {},
   "outputs": [
    {
     "name": "stdout",
     "output_type": "stream",
     "text": [
      "Filename: periodic_adjustment\n",
      "\n",
      "Derived parameters:\n",
      "H = 0.1 km\n",
      "α = 0.0 s⁻¹\n",
      "M² = 1.0000000000000002e-8 s⁻²\n",
      "N² = 0.0 s⁻²\n",
      "Bu = 0.0\n",
      "κh = 1.0e-7\n",
      "κv = 0.0\n"
     ]
    }
   ],
   "source": [
    "# Model parameters\n",
    "const Nx = 300\n",
    "const Nz = 80\n",
    "const f = 1e-4               # Coriolis frequency [s⁻¹]\n",
    "const L_front = 10kilometers  # Initial front width [m]\n",
    "const aspect_ratio = 100      # L_front/H\n",
    "const δ = 0                   # Strain ratio (α/f)\n",
    "const Ro = 0.1             # Rossby number (defines M^2)\n",
    "const F = Inf              # Froude number (N² = M²/(F²H))\n",
    "const Re_h = 1e10     # horizontal reynolds number\n",
    "const Re_v = +Inf              #vertical reynolds number\n",
    "const n = 2              #diffusivity number     \n",
    "\n",
    "# Derived parameters\n",
    "H_front = L_front/aspect_ratio\n",
    "α = f*δ\n",
    "M² = (Ro^2*f^2*L_front)/H_front\n",
    "N² = (M²*L_front)/(F^2*H_front)\n",
    "Bu = Ro/F\n",
    "Δb = M²*L_front\n",
    "κh = (sqrt(Δb*H_front)*L_front^(n-1))/Re_h\n",
    "κv = κh*(Re_h/Re_v)*(H_front/L_front)^n\n",
    "\n",
    "#filename = \"δ=\"*string(δ)*\"_Ro=\"*string(Ro)*\"_F=\"*string(F)*\"_Re_h=\"*string(Re_h)\n",
    "filename = \"periodic_adjustment\"\n",
    "\n",
    "println(\"Filename: \", filename)\n",
    "println(\"\\nDerived parameters:\")\n",
    "println(\"H = \", H_front/1000, \" km\")\n",
    "println(\"α = \", α, \" s⁻¹\")\n",
    "println(\"M² = \", M², \" s⁻²\")\n",
    "println(\"N² = \", N², \" s⁻²\")\n",
    "println(\"Bu = \", Bu)\n",
    "println(\"κh = \", κh)\n",
    "println(\"κv = \", κv)"
   ]
  },
  {
   "cell_type": "code",
   "execution_count": 3,
   "id": "6134609b",
   "metadata": {},
   "outputs": [
    {
     "data": {
      "text/plain": [
       "300×1×80 RectilinearGrid{Float64, Periodic, Flat, Bounded} on CUDAGPU with 3×0×3 halo\n",
       "├── Periodic x ∈ [-5000.0, 5000.0) regularly spaced with Δx=33.3333\n",
       "├── Flat y                         \n",
       "└── Bounded  z ∈ [-100.0, 0.0]     regularly spaced with Δz=1.25"
      ]
     },
     "execution_count": 3,
     "metadata": {},
     "output_type": "execute_result"
    }
   ],
   "source": [
    "\n",
    "grid = RectilinearGrid(GPU(),size = (Nx, Nz), #in ST15 they use Nx = 200*L_front, Nz = 100*H_front\n",
    "                       x = (-L_front/2, L_front/2),\n",
    "                       z = (-H_front, 0),\n",
    "                       topology = (Periodic, Flat, Bounded))"
   ]
  },
  {
   "cell_type": "code",
   "execution_count": 4,
   "id": "0a7ef8a1",
   "metadata": {},
   "outputs": [
    {
     "data": {
      "text/plain": [
       "(HorizontalScalarDiffusivity{ExplicitTimeDiscretization}(ν=1.0e-7, κ=1.0e-7), VerticalScalarDiffusivity{ExplicitTimeDiscretization}(ν=0.0, κ=0.0))"
      ]
     },
     "execution_count": 4,
     "metadata": {},
     "output_type": "execute_result"
    }
   ],
   "source": [
    "horizontal_closure = HorizontalScalarDiffusivity(ν=κh, κ=κh )\n",
    "vertical_closure = VerticalScalarDiffusivity(ν=κv , κ=κv )\n",
    "closure = (horizontal_closure, vertical_closure)"
   ]
  },
  {
   "cell_type": "code",
   "execution_count": 5,
   "id": "195b96ff",
   "metadata": {},
   "outputs": [
    {
     "data": {
      "text/plain": [
       "NonhydrostaticModel{GPU, RectilinearGrid}(time = 0 seconds, iteration = 0)\n",
       "├── grid: 300×1×80 RectilinearGrid{Float64, Periodic, Flat, Bounded} on CUDAGPU with 3×0×3 halo\n",
       "├── timestepper: RungeKutta3TimeStepper\n",
       "├── advection scheme: WENO{3, Float64, Float32}(order=5)\n",
       "├── tracers: (b, T)\n",
       "├── closure: Tuple with 2 closures:\n",
       "│   ├── HorizontalScalarDiffusivity{ExplicitTimeDiscretization}(ν=1.0e-7, κ=(b=1.0e-7, T=1.0e-7))\n",
       "│   └── VerticalScalarDiffusivity{ExplicitTimeDiscretization}(ν=0.0, κ=(b=0.0, T=0.0))\n",
       "├── buoyancy: BuoyancyTracer with ĝ = NegativeZDirection()\n",
       "└── coriolis: FPlane{Float64}(f=0.0001)"
      ]
     },
     "execution_count": 5,
     "metadata": {},
     "output_type": "execute_result"
    }
   ],
   "source": [
    "model =  NonhydrostaticModel(; grid,\n",
    "                coriolis = FPlane(f = f),\n",
    "                buoyancy = BuoyancyTracer(),\n",
    "                tracers = (:b,:T),\n",
    "                advection = WENO(),\n",
    "                closure = closure)"
   ]
  },
  {
   "cell_type": "code",
   "execution_count": 6,
   "id": "83bb4862",
   "metadata": {},
   "outputs": [],
   "source": [
    "bᵢ(x, z) = Δb*sin(2*pi/L_front * x)\n",
    "Tᵢ(x, z) = exp(-(x/(L_front/20)).^2)\n",
    "\n",
    "set!(model, b= bᵢ, T= Tᵢ, u = 0, v = 0, w = 0)  # Start from rest"
   ]
  },
  {
   "cell_type": "code",
   "execution_count": 7,
   "id": "d2366641",
   "metadata": {},
   "outputs": [
    {
     "data": {
      "text/plain": [
       "Simulation of NonhydrostaticModel{GPU, RectilinearGrid}(time = 0 seconds, iteration = 0)\n",
       "├── Next time step: 20 minutes\n",
       "├── Elapsed wall time: 0 seconds\n",
       "├── Wall time per iteration: NaN days\n",
       "├── Stop time: 5 days\n",
       "├── Stop iteration: Inf\n",
       "├── Wall time limit: Inf\n",
       "├── Minimum relative step: 0.0\n",
       "├── Callbacks: OrderedDict with 4 entries:\n",
       "│   ├── stop_time_exceeded => 4\n",
       "│   ├── stop_iteration_exceeded => -\n",
       "│   ├── wall_time_limit_exceeded => e\n",
       "│   └── nan_checker => }\n",
       "├── Output writers: OrderedDict with no entries\n",
       "└── Diagnostics: OrderedDict with no entries"
      ]
     },
     "execution_count": 7,
     "metadata": {},
     "output_type": "execute_result"
    }
   ],
   "source": [
    "simulation = Simulation(model, Δt=20minutes, stop_time=5days)\n"
   ]
  },
  {
   "cell_type": "code",
   "execution_count": 8,
   "id": "e30c1ea5",
   "metadata": {},
   "outputs": [],
   "source": [
    "conjure_time_step_wizard!(simulation, IterationInterval(20), cfl=0.2, max_Δt=20minutes)"
   ]
  },
  {
   "cell_type": "code",
   "execution_count": 9,
   "id": "fb2ceaa4",
   "metadata": {},
   "outputs": [],
   "source": [
    "\n",
    "using Printf\n",
    "\n",
    "wall_clock = Ref(time_ns())\n",
    "\n",
    "function print_progress(sim)\n",
    "    u, v, w = model.velocities\n",
    "    progress = 100 * (time(sim) / sim.stop_time)\n",
    "    elapsed = (time_ns() - wall_clock[]) / 1e9\n",
    "\n",
    "    @printf(\"[%05.2f%%] i: %d, t: %s, wall time: %s, max(u): (%6.3e, %6.3e, %6.3e) m/s, next Δt: %s\\n\",\n",
    "            progress, iteration(sim), prettytime(sim), prettytime(elapsed),\n",
    "            maximum(abs, u), maximum(abs, v), maximum(abs, w), prettytime(sim.Δt))\n",
    "\n",
    "    wall_clock[] = time_ns()\n",
    "\n",
    "    return nothing\n",
    "end\n",
    "\n",
    "add_callback!(simulation, print_progress, IterationInterval(50))"
   ]
  },
  {
   "cell_type": "code",
   "execution_count": 10,
   "id": "225d40eb",
   "metadata": {},
   "outputs": [
    {
     "data": {
      "text/plain": [
       "NetCDFWriter scheduled on TimeInterval(1 hour):\n",
       "├── filepath: periodic_adjustment.nc\n",
       "├── dimensions: time(0), x_faa(300), x_caa(300), z_aaf(81), z_aac(80)\n",
       "├── 6 outputs: (v, w, T, wc, b, u)\n",
       "├── array_type: Array{Float32}\n",
       "├── file_splitting: NoFileSplitting\n",
       "└── file size: 27.5 KiB"
      ]
     },
     "execution_count": 10,
     "metadata": {},
     "output_type": "execute_result"
    }
   ],
   "source": [
    "# Output setup\n",
    "g = 9.81\n",
    "u, v, w = model.velocities\n",
    "ζ = ∂z(u) - ∂x(w)  # Vorticity in x-z plane\n",
    "b = model.tracers.b\n",
    "wc = Field(@at (Center, Center, Center) model.velocities.w)\n",
    "T = model.tracers.T\n",
    "\n",
    "#For Lagrangian filtering\n",
    "simulation.output_writers[:jld2fields] = JLD2Writer(\n",
    "    model, (; b, u, v, w, wc,T), filename=filename * \".jld2\", schedule=TimeInterval(1hour), overwrite_existing=true)\n",
    "\n",
    "\n",
    "#for python visualisation\n",
    "rm(filename * \".nc\",force=true)\n",
    "simulation.output_writers[:ncfields] = NetCDFWriter(\n",
    "    model, (; b, u, v, w, wc,T), filename=filename * \".nc\", schedule=TimeInterval(1hour), overwrite_existing=true)\n",
    "     "
   ]
  },
  {
   "cell_type": "code",
   "execution_count": 11,
   "id": "6c8c960c",
   "metadata": {},
   "outputs": [
    {
     "name": "stderr",
     "output_type": "stream",
     "text": [
      "\u001b[36m\u001b[1m[ \u001b[22m\u001b[39m\u001b[36m\u001b[1mInfo: \u001b[22m\u001b[39mRunning the simulation...\n",
      "\u001b[36m\u001b[1m[ \u001b[22m\u001b[39m\u001b[36m\u001b[1mInfo: \u001b[22m\u001b[39mInitializing simulation...\n"
     ]
    },
    {
     "name": "stdout",
     "output_type": "stream",
     "text": [
      "[00.00%] i: 0, t: 0 seconds, wall time: 26.582 seconds, max(u): (0.000e+00, 0.000e+00, 0.000e+00) m/s, next Δt: 20 minutes\n"
     ]
    },
    {
     "name": "stderr",
     "output_type": "stream",
     "text": [
      "\u001b[36m\u001b[1m[ \u001b[22m\u001b[39m\u001b[36m\u001b[1mInfo: \u001b[22m\u001b[39m    ... simulation initialization complete (15.687 seconds)\n",
      "\u001b[36m\u001b[1m[ \u001b[22m\u001b[39m\u001b[36m\u001b[1mInfo: \u001b[22m\u001b[39mExecuting initial time step...\n",
      "\u001b[36m\u001b[1m[ \u001b[22m\u001b[39m\u001b[36m\u001b[1mInfo: \u001b[22m\u001b[39m    ... initial time step complete (2.360 seconds).\n"
     ]
    },
    {
     "name": "stdout",
     "output_type": "stream",
     "text": [
      "[09.40%] i: 50, t: 11.275 hours, wall time: 4.880 seconds, max(u): (2.399e-02, 5.051e-02, 4.262e-04) m/s, next Δt: 8.262 minutes\n",
      "[12.55%] i: 100, t: 15.062 hours, wall time: 214.734 ms, max(u): (2.436e-02, 1.238e-02, 3.869e-04) m/s, next Δt: 4.097 minutes\n",
      "[15.55%] i: 150, t: 18.661 hours, wall time: 198.345 ms, max(u): (1.268e-02, 2.712e-03, 2.549e-04) m/s, next Δt: 4.957 minutes\n",
      "[18.59%] i: 200, t: 22.314 hours, wall time: 218.476 ms, max(u): (3.035e-02, 3.555e-02, 5.420e-04) m/s, next Δt: 3.660 minutes\n",
      "[21.26%] i: 250, t: 1.063 days, wall time: 201.139 ms, max(u): (9.999e-03, 6.040e-02, 2.134e-04) m/s, next Δt: 4.428 minutes\n",
      "[24.54%] i: 300, t: 1.227 days, wall time: 217.224 ms, max(u): (2.775e-02, 4.511e-02, 5.895e-04) m/s, next Δt: 4.002 minutes\n",
      "[27.11%] i: 350, t: 1.355 days, wall time: 200.701 ms, max(u): (2.499e-02, 1.353e-02, 4.506e-04) m/s, next Δt: 3.950 minutes\n",
      "[30.07%] i: 400, t: 1.503 days, wall time: 218.103 ms, max(u): (1.282e-02, 3.512e-03, 3.421e-04) m/s, next Δt: 5.257 minutes\n",
      "[33.19%] i: 450, t: 1.659 days, wall time: 195.849 ms, max(u): (3.026e-02, 3.526e-02, 6.542e-04) m/s, next Δt: 3.643 minutes\n",
      "[35.83%] i: 500, t: 1.792 days, wall time: 206.813 ms, max(u): (1.091e-02, 6.009e-02, 3.299e-04) m/s, next Δt: 4.688 minutes\n",
      "[39.13%] i: 550, t: 1.957 days, wall time: 217.819 ms, max(u): (2.758e-02, 4.501e-02, 7.806e-04) m/s, next Δt: 4.738 minutes\n",
      "[41.77%] i: 600, t: 2.089 days, wall time: 229.770 ms, max(u): (2.426e-02, 1.263e-02, 5.385e-04) m/s, next Δt: 4.136 minutes\n",
      "[44.65%] i: 650, t: 2.233 days, wall time: 200.301 ms, max(u): (1.318e-02, 6.478e-03, 4.992e-04) m/s, next Δt: 5.005 minutes\n",
      "[47.87%] i: 700, t: 2.394 days, wall time: 226.649 ms, max(u): (2.994e-02, 3.592e-02, 8.402e-04) m/s, next Δt: 3.711 minutes\n",
      "[50.50%] i: 750, t: 2.525 days, wall time: 194.158 ms, max(u): (9.068e-03, 6.014e-02, 4.984e-04) m/s, next Δt: 4.490 minutes\n",
      "[53.79%] i: 800, t: 2.689 days, wall time: 222.918 ms, max(u): (2.748e-02, 4.392e-02, 1.090e-03) m/s, next Δt: 3.820 minutes\n",
      "[56.34%] i: 850, t: 2.817 days, wall time: 192.534 ms, max(u): (2.388e-02, 1.255e-02, 6.984e-04) m/s, next Δt: 4.044 minutes\n",
      "[59.37%] i: 900, t: 2.969 days, wall time: 225.310 ms, max(u): (1.388e-02, 9.049e-03, 7.526e-04) m/s, next Δt: 5.382 minutes\n",
      "[62.41%] i: 950, t: 3.120 days, wall time: 202.496 ms, max(u): (2.990e-02, 3.517e-02, 1.085e-03) m/s, next Δt: 3.692 minutes\n",
      "[65.06%] i: 1000, t: 3.253 days, wall time: 217.471 ms, max(u): (8.879e-03, 5.981e-02, 7.989e-04) m/s, next Δt: 4.444 minutes\n",
      "[68.05%] i: 1050, t: 3.403 days, wall time: 205.098 ms, max(u): (2.507e-02, 4.749e-02, 1.359e-03) m/s, next Δt: 3.492 minutes\n",
      "[70.04%] i: 1100, t: 3.502 days, wall time: 199.149 ms, max(u): (2.905e-02, 2.281e-02, 1.333e-03) m/s, next Δt: 2.996 minutes\n",
      "[72.22%] i: 1150, t: 3.611 days, wall time: 170.464 ms, max(u): (1.087e-02, 1.105e-02, 3.068e-04) m/s, next Δt: 3.625 minutes\n",
      "[74.89%] i: 1200, t: 3.745 days, wall time: 211.387 ms, max(u): (2.211e-02, 1.079e-02, 1.206e-03) m/s, next Δt: 3.409 minutes\n",
      "[77.04%] i: 1250, t: 3.852 days, wall time: 192.346 ms, max(u): (2.980e-02, 3.608e-02, 1.386e-03) m/s, next Δt: 2.974 minutes\n",
      "[79.02%] i: 1300, t: 3.951 days, wall time: 177.838 ms, max(u): (1.695e-02, 5.636e-02, 1.267e-03) m/s, next Δt: 3.211 minutes\n",
      "[81.37%] i: 1350, t: 4.069 days, wall time: 206.063 ms, max(u): (1.485e-02, 5.816e-02, 1.146e-03) m/s, next Δt: 3.885 minutes\n",
      "[83.32%] i: 1400, t: 4.166 days, wall time: 175.678 ms, max(u): (2.856e-02, 3.993e-02, 1.903e-03) m/s, next Δt: 2.188 minutes\n",
      "[84.84%] i: 1450, t: 4.242 days, wall time: 184.750 ms, max(u): (2.841e-02, 2.064e-02, 1.556e-03) m/s, next Δt: 2.409 minutes\n",
      "[86.67%] i: 1500, t: 4.333 days, wall time: 176.140 ms, max(u): (1.331e-02, 1.400e-02, 4.003e-04) m/s, next Δt: 3.206 minutes\n",
      "[88.89%] i: 1550, t: 4.444 days, wall time: 211.592 ms, max(u): (1.791e-02, 1.180e-02, 1.523e-03) m/s, next Δt: 2.945 minutes\n",
      "[90.70%] i: 1600, t: 4.535 days, wall time: 190.168 ms, max(u): (2.905e-02, 2.506e-02, 1.696e-03) m/s, next Δt: 2.403 minutes\n",
      "[92.26%] i: 1650, t: 4.613 days, wall time: 174.015 ms, max(u): (2.803e-02, 4.395e-02, 1.896e-03) m/s, next Δt: 2.192 minutes\n",
      "[93.73%] i: 1700, t: 4.686 days, wall time: 182.165 ms, max(u): (1.655e-02, 5.721e-02, 1.606e-03) m/s, next Δt: 2.403 minutes\n",
      "[95.48%] i: 1750, t: 4.774 days, wall time: 190.582 ms, max(u): (1.369e-02, 6.042e-02, 1.045e-03) m/s, next Δt: 2.908 minutes\n",
      "[97.38%] i: 1800, t: 4.869 days, wall time: 180.320 ms, max(u): (2.587e-02, 4.646e-02, 2.272e-03) m/s, next Δt: 1.832 minutes\n",
      "[98.56%] i: 1850, t: 4.928 days, wall time: 178.570 ms, max(u): (3.034e-02, 3.212e-02, 2.582e-03) m/s, next Δt: 1.616 minutes\n",
      "[99.69%] i: 1900, t: 4.984 days, wall time: 175.343 ms, max(u): (2.753e-02, 1.805e-02, 2.174e-03) m/s, next Δt: 1.877 minutes\n"
     ]
    },
    {
     "name": "stderr",
     "output_type": "stream",
     "text": [
      "\u001b[36m\u001b[1m[ \u001b[22m\u001b[39m\u001b[36m\u001b[1mInfo: \u001b[22m\u001b[39mSimulation is stopping after running for 26.311 seconds.\n",
      "\u001b[36m\u001b[1m[ \u001b[22m\u001b[39m\u001b[36m\u001b[1mInfo: \u001b[22m\u001b[39mSimulation time 5 days equals or exceeds stop time 5 days.\n",
      "\u001b[36m\u001b[1m[ \u001b[22m\u001b[39m\u001b[36m\u001b[1mInfo: \u001b[22m\u001b[39mSimulation completed in 26.350 seconds\n"
     ]
    }
   ],
   "source": [
    "@info \"Running the simulation...\"\n",
    "\n",
    "run!(simulation)\n",
    "\n",
    "@info \"Simulation completed in \" * prettytime(simulation.run_wall_time)"
   ]
  },
  {
   "cell_type": "code",
   "execution_count": 12,
   "id": "880327af",
   "metadata": {},
   "outputs": [
    {
     "name": "stdout",
     "output_type": "stream",
     "text": [
      "[\"serialized\", \"0\", \"3\", \"6\", \"9\", \"12\", \"15\", \"18\", \"22\", \"28\", \"34\", \"40\", \"48\", \"56\", \"67\", \"82\", \"99\", \"114\", \"128\", \"142\", \"155\", \"167\", \"179\", \"195\", \"212\", \"228\", \"243\", \"257\", \"270\", \"283\", \"295\", \"309\", \"325\", \"342\", \"358\", \"372\", \"386\", \"399\", \"411\", \"423\", \"437\", \"453\", \"469\", \"485\", \"500\", \"513\", \"526\", \"538\", \"551\", \"565\", \"582\", \"598\", \"614\", \"628\", \"643\", \"655\", \"667\", \"678\", \"693\", \"710\", \"727\", \"742\", \"756\", \"769\", \"782\", \"794\", \"808\", \"824\", \"841\", \"856\", \"870\", \"884\", \"897\", \"909\", \"921\", \"936\", \"952\", \"968\", \"984\", \"999\", \"1013\", \"1026\", \"1039\", \"1056\", \"1077\", \"1099\", \"1120\", \"1139\", \"1156\", \"1173\", \"1188\", \"1203\", \"1221\", \"1241\", \"1262\", \"1283\", \"1304\", \"1323\", \"1340\", \"1356\", \"1376\", \"1401\", \"1429\", \"1455\", \"1479\", \"1500\", \"1519\", \"1537\", \"1557\", \"1580\", \"1605\", \"1631\", \"1658\", \"1687\", \"1714\", \"1738\", \"1759\", \"1778\", \"1805\", \"1840\", \"1878\", \"1913\"]"
     ]
    }
   ],
   "source": [
    "using JLD2\n",
    "file = jldopen(filename * \".jld2\")\n",
    "print(keys(file[\"timeseries/u\"]))\n",
    "close(file)"
   ]
  },
  {
   "cell_type": "code",
   "execution_count": null,
   "id": "89886e33",
   "metadata": {},
   "outputs": [],
   "source": []
  }
 ],
 "metadata": {
  "kernelspec": {
   "display_name": "OceananigansLagrangianFilter 1.10.9",
   "language": "julia",
   "name": "oceananiganslagrangianfilter-1.10"
  },
  "language_info": {
   "file_extension": ".jl",
   "mimetype": "application/julia",
   "name": "julia",
   "version": "1.10.9"
  }
 },
 "nbformat": 4,
 "nbformat_minor": 5
}
